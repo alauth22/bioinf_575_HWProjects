{
 "cells": [
  {
   "cell_type": "markdown",
   "metadata": {},
   "source": [
    "### Homework 3 - Python data types\n",
    "### BIOINF 575 - Fall 2021\n",
    "\n",
    "##### Total 40 points "
   ]
  },
  {
   "cell_type": "markdown",
   "metadata": {},
   "source": [
    "For each problem part provide the solution in Code cells after the description of the problem part.   \n",
    "Answers to questions should be written either as comments together with the code or in Markdown cell(s) for each part of the problem."
   ]
  },
  {
   "cell_type": "code",
   "execution_count": 23,
   "metadata": {},
   "outputs": [],
   "source": [
    "#first identify the in depth key value from the info provided. \n",
    "#then split the line given, and then take the last element, then split the second element \n",
    "#code for all lines, not just this line. \n",
    "\n",
    "#SHould get a True or False answer for part 2. \n"
   ]
  },
  {
   "cell_type": "markdown",
   "metadata": {},
   "source": [
    "______\n",
    "#### Problem 1 - Extract the depth of coverage for a variant\n",
    "##### 20 points\n"
   ]
  },
  {
   "cell_type": "markdown",
   "metadata": {},
   "source": [
    "..................................................................................................\n",
    "\n",
    "<b>Part 1 (15 points)</b>\n",
    "\n",
    "Given the following line (tab-separated) from a vcf file, write code to extract the total depth value. \n",
    "\n",
    "```python\n",
    "variant = \"Y\t2728456\trs2058276\tT\tC\t32\t.\tAC=2;AN=2;DB;DP=182;H2;NS=65\"\n",
    "```\n",
    "\n",
    "Below is the header of the vcf file explaining each element on the line above. \n",
    "\n",
    "\n",
    "```\n",
    "##fileformat=VCFv4.0\n",
    "##fileDate=20100610 \n",
    "##source=glfTools v3\n",
    "##reference=1000GenomesPilot-NCBI36 \n",
    "##phasing=NA\n",
    "##INFO=<ID=NS,Number=1,Type=Integer,Description=\"Number of Samples With Mapped Reads\">\n",
    "##INFO=<ID=DP,Number=1,Type=Integer,Description=\"Total Depth\">\n",
    "##INFO=<ID=DB,Number=0,Type=Flag,Description=\"dbSNP membership, build 129\">\n",
    "##INFO=<ID=H2,Number=0,Type=Flag,Description=\"HapMap2 membership\">\n",
    "##FILTER=<ID=NUYR,Description=\"Variant in non-unique Y region\">\n",
    "##FORMAT=<ID=GT,Number=1,Type=String,Description=\"Genotype\">\n",
    "##FORMAT=<ID=GQ,Number=1,Type=Integer,Description=\"Genotype\tQuality\">\n",
    "##FORMAT=<ID=DP,Number=1,Type=Integer,Description=\"Depth\">\n",
    "##INFO=<ID=AC,Number=.,Type=Integer,Description=\"Allele count in genotypes\">\n",
    "##INFO=<ID=AN,Number=1,Type=Integer,Description=\"Total number of alleles in called genotypes\">\n",
    "#CHROM\tPOS\tID\tREF\tALT\tQUAL\tFILTER\tINFO\n",
    "Y\t2728456\trs2058276\tT\tC\t32\t.\tAC=2;AN=2;DB;DP=182;H2;NS=65\n",
    "```\n",
    "\n",
    "\n",
    "~~~~~~~~~~~~~\n",
    "\n",
    "<b> One suggestion would be to break down the string into smaller parts and then look for the element of interest. </b>\n",
    "\n",
    "\n",
    "*   Score breakdown - these are not ordered steps of an algorithm but just elements of the solution to focus on:\n",
    "    - <b>(0.5 points)</b> Correctly identifying the element you are looking to extract\n",
    "    - <b>(4 points)</b> Reducig the scope of the search at least twice\n",
    "    - <b>(4.5 points)</b> Delimiting the reduced areas correctly and/or using additional data structures correctly\n",
    "    - <b>(4 points)</b> Making correct use of the methods/operators available for the datatype you are working with\n",
    "    - <b>(2 points)</b> Delimiting the result correctly and displaying the number for total depth"
   ]
  },
  {
   "cell_type": "code",
   "execution_count": 1,
   "metadata": {},
   "outputs": [
    {
     "name": "stdout",
     "output_type": "stream",
     "text": [
      "182\n"
     ]
    }
   ],
   "source": [
    "#Write your solution here, feel free to add new cells.\n",
    "#One suggestion would be to break down the string into smaller parts and then look for the element of interest\n",
    "\n",
    "#I want to extract the total depth value, which is 182 from the INFO column. \n",
    "#I reduced the scope of the search by a total of three times by first splitting the list, then the individual elements of the last \n",
    "#element in that list, and finally splitting again to extract the exact value I desired. \n",
    "\n",
    "variant = \"Y    2728456    rs2058276    T    C    32    .    AC=2;AN=2;DB;DP=182;H2;NS=65\"\n",
    "variant_list = variant.split(\"    \")\n",
    "#I first tried splitting by the \"\\t\" but that was not working, so I tried four spaces \"    \" and that worked. \n",
    "#Printing variant_list will give me a new list where each element separated by a tab will be its own string value. \n",
    "variant_info_list = variant_list[7].split(\";\")\n",
    "#Printing variant_info_list will give me specifically the 8th string element in the variant_list and split that element \n",
    "#wherever there was a \";\" and creating another list were those elements become separate string values. \n",
    "variant_info_DP = variant_info_list[3].split(\"=\")\n",
    "#Printing variant_info_DP will give me the fourth string element in variant_info_DP and split that string element further \n",
    "#where there is an \"=\" into two separate string values. \n",
    "value_DP = variant_info_DP[1]\n",
    "#I am taking the second index of this specific list to get the numerical value of DP. \n",
    "print(value_DP)"
   ]
  },
  {
   "cell_type": "markdown",
   "metadata": {},
   "source": [
    "..................................................................................................\n",
    "\n",
    "<b>Part 2 (5 points)\n",
    "\n",
    "For the line mentioned at part 1 extract the value for number of samples with mapped reads and the quality (QUAL column) and    \n",
    "check if the total depth > 100 and the number of samples with mapped reads > 50 and the quality is above 20 (means < 1\\% error rate).\n",
    "    \n",
    "*   Score breakdown - these are not ordered steps of an algorithm but just elements of the solution to focus on:\n",
    "    - <b>(0.5 points)</b> Correctly identifying the element you are looking to extract\n",
    "    - <b>(3 points)</b> Correctly applying the code from part 1 to extract the number of samples with mapped reads\n",
    "    - <b>(1.5 points)</b> Correctly extracting the QUAL value\n",
    "    - <b>(0.5 point)</b> Correctly checking if the required conditions are met or not and displaying the result\n",
    "\n"
   ]
  },
  {
   "cell_type": "code",
   "execution_count": 24,
   "metadata": {},
   "outputs": [
    {
     "name": "stdout",
     "output_type": "stream",
     "text": [
      "65\n"
     ]
    }
   ],
   "source": [
    "#Write your solution here, feel free to add new cells.\n",
    "\n",
    "#I want to extract two values: the NS (number of samples) = 65 and the quality value (QUAL) which is 32. \n",
    "#Below is the code to extract the value for NS. \n",
    "\n",
    "variant = \"Y    2728456    rs2058276    T    C    32    .    AC=2;AN=2;DB;DP=182;H2;NS=65\"\n",
    "variant_list = variant.split(\"    \")\n",
    "variant_info_list = variant_list[7].split(\";\")\n",
    "variant_info_NS = variant_info_list[5].split(\"=\")\n",
    "value_NS = variant_info_NS[1] \n",
    "print(value_NS)"
   ]
  },
  {
   "cell_type": "code",
   "execution_count": 25,
   "metadata": {},
   "outputs": [
    {
     "name": "stdout",
     "output_type": "stream",
     "text": [
      "32\n"
     ]
    }
   ],
   "source": [
    "#Below is the code to extract the value for QUAL.\n",
    "\n",
    "variant = \"Y    2728456    rs2058276    T    C    32    .    AC=2;AN=2;DB;DP=182;H2;NS=65\"\n",
    "variant_list = variant.split(\"    \")\n",
    "value_QUAL = variant_list[5]\n",
    "print(value_QUAL)"
   ]
  },
  {
   "cell_type": "code",
   "execution_count": 29,
   "metadata": {},
   "outputs": [
    {
     "name": "stdout",
     "output_type": "stream",
     "text": [
      "True\n",
      "182\n",
      "True\n",
      "65\n",
      "True\n",
      "32\n"
     ]
    }
   ],
   "source": [
    "#Here I use if loops to check if the required conditions are met or not and displaying the result. \n",
    "\n",
    "if int(value_DP) > 100:\n",
    "    print(True)\n",
    "    print(value_DP)\n",
    "else:\n",
    "    print(False)\n",
    "\n",
    "if int(value_NS) > 50:\n",
    "    print(True)\n",
    "    print(value_NS)\n",
    "else:\n",
    "    print(False)\n",
    "\n",
    "if int(value_QUAL) > 20:\n",
    "    print(True)\n",
    "    print(value_QUAL)\n",
    "else:\n",
    "    print(False)"
   ]
  },
  {
   "cell_type": "markdown",
   "metadata": {},
   "source": [
    "_______"
   ]
  },
  {
   "cell_type": "markdown",
   "metadata": {},
   "source": [
    "#### Problem 2 - Sequence analysis\n",
    "##### 20 points\n",
    ".................................................................................................."
   ]
  },
  {
   "cell_type": "markdown",
   "metadata": {},
   "source": [
    "<b>Part 1 (10 points)\n",
    "\n",
    "We have the following list with sequences:\n",
    "\n",
    "```python\n",
    "sequences = [\"AAACCTTG\", \"TTCAG\", \"GGATCTT\", \"AAC\", \"CCTTGG\", \"CATG\", \"AAA\", \"GGTTTAACA\", \"GGGTACGT\", \"CCGCATCAGACCT\", \"AACA\", \"TTGAATCC\", \"TAAGA\", \"AAATTCCGGAAA\"]\n",
    "```\n",
    "Create a dictionary with sequences that have GC content > 40%.   \n",
    "The keys will be some of \"Sequence 1\", \"Sequence 2\", ... \"Sequence n\",    \n",
    "where 1,2,...n, is the position (1-based) of the sequence in the sequences list.    \n",
    "The value for each key is a tuple.     \n",
    "The tuple has two elements: the GC content and the sequence.    \n",
    "E.g.: If we had only one sequence, `\"ACGT\"`, the result would be:\n",
    "```python\n",
    "{\"Sequence 1\": (0.5, \"ACGT\") }\n",
    " ```  \n",
    "    \n",
    "* Score breakdown - these are not ordered steps of an algorithm but just elements of the solution to focus on: \n",
    "    - <b>(1.5 points) </b> Correctly using the for loop\n",
    "    - <b>(1.5 points) </b> Correctly computing the GC content for each sequence\n",
    "    - <b>(3 points) </b> Correctly building the tuple\n",
    "    - <b>(4 points) </b> Correctly building and displaying the dictionary, including its keys"
   ]
  },
  {
   "cell_type": "code",
   "execution_count": 33,
   "metadata": {},
   "outputs": [
    {
     "name": "stdout",
     "output_type": "stream",
     "text": [
      "{'Sequence 1': (0.42857142857142855, 'GGATCTT'), 'Sequence 2': (0.6666666666666666, 'CCTTGG'), 'Sequence 3': (0.5, 'CATG'), 'Sequence 4': (0.625, 'GGGTACGT'), 'Sequence 5': (0.6153846153846154, 'CCGCATCAGACCT')}\n"
     ]
    }
   ],
   "source": [
    "#Write your solution here, feel free to add new cells.\n",
    "\n",
    "sequences = [\"AAACCTTG\", \"TTCAG\", \"GGATCTT\", \"AAC\", \"CCTTGG\", \"CATG\", \"AAA\", \"GGTTTAACA\", \"GGGTACGT\", \"CCGCATCAGACCT\", \"AACA\", \"TTGAATCC\", \"TAAGA\", \"AAATTCCGGAAA\"]\n",
    "seq_GC_content_map = {}\n",
    "i = 0\n",
    "for seq in sequences:\n",
    "    math_seq = (seq.count(\"G\") + seq.count(\"C\"))/(len(seq))\n",
    "    if math_seq > 0.4:\n",
    "        math_answer = (math_seq, seq)\n",
    "        i += 1 \n",
    "        seq_GC_content_map[\"Sequence \" + str(i)] = math_answer\n",
    "print(seq_GC_content_map)"
   ]
  },
  {
   "cell_type": "markdown",
   "metadata": {},
   "source": [
    "..................................................................................................\n",
    "\n",
    "<b>Part 2 (10 points) - Understand the code  </b>\n",
    "\n",
    "Explain what the following code does and how it computes the result it displays.\n",
    "\n",
    "```python\n",
    "seq_list = [\"AAACCTTGA\", \"AAATTCCGGAAA\"]\n",
    "seq_codon_map = {}\n",
    "for i, seq in enumerate(seq_list):\n",
    "    n = len(seq)\n",
    "    codon_list = []\n",
    "    for j in range(0, n - 2, 3):\n",
    "        codon = seq[j:j+3]\n",
    "        codon_list.append(codon)\n",
    "    seq_codon_map[i+1] = (seq, codon_list)\n",
    "    \n",
    "print(seq_codon_map)\n",
    "```\n",
    "\n",
    "\n",
    "* Score breakdown for the 10 lines of code: \n",
    "    - <b>(2 points each) </b> Lines 3 and 6 - the ones with the for\n",
    "    - <b>(0.5 points each) </b> Lines 1, 2, 4, 5, 8, 10\n",
    "    - <b>(1.5 points each) </b> Lines 7 and 9\n",
    "    "
   ]
  },
  {
   "cell_type": "markdown",
   "metadata": {},
   "source": [
    "~~~~~~~~~\n",
    "#### Write your solution here and then run the cell (Markdown)\n",
    "\n",
    "\n",
    "\n",
    "\n",
    "\n",
    "\n",
    "____ double click here to edit the cell _____"
   ]
  },
  {
   "cell_type": "code",
   "execution_count": 35,
   "metadata": {},
   "outputs": [
    {
     "name": "stdout",
     "output_type": "stream",
     "text": [
      "{1: ('AAACCTTGA', ['AAA', 'CCT', 'TGA']), 2: ('AAATTCCGGAAA', ['AAA', 'TTC', 'CGG', 'AAA'])}\n"
     ]
    }
   ],
   "source": [
    "#Copy the code here and try to break it down to understand it - feel free to add new cells\n",
    "seq_list = [\"AAACCTTGA\", \"AAATTCCGGAAA\"]\n",
    "seq_codon_map = {}\n",
    "for i, seq in enumerate(seq_list):\n",
    "    n = len(seq)\n",
    "    codon_list = []\n",
    "    for j in range(0, n - 2, 3):\n",
    "        codon = seq[j:j+3]   \n",
    "        codon_list.append(codon)    \n",
    "    seq_codon_map[i+1] = (seq, codon_list)\n",
    "    \n",
    "print(seq_codon_map)\n",
    "\n",
    "#Line 1: You are assigning a list with two string values to the variable called \"seq_list\". \n",
    "\n",
    "#Line 2: You are creating an empty dictionary and assigning it to the variable called \"seq_codon_map\". \n",
    "\n",
    "#Line 3: You are beginning a for loop, where your variabless called \"i\" and \"seq\" are used to go through each element of the iterable, which is \n",
    "#the list called \"seq_list\". Right before the iterable, you have \"enumerate\" which allows you to loop over the iterable and record how many \n",
    "#iterations have occured. \n",
    "\n",
    "#Line 4: You are assigning another new variable called \"n\" to the length of your variable \"seq\". \n",
    "\n",
    "#Line 5: You are creating an empty list and assigning it to the variable called \"codon_list\". \n",
    "\n",
    "#Line 6: You are beginning your second for loop within the first for loop (nesting for loops) where you have your new varaible \"j\" in the range \n",
    "#from 0, which is your starting point, to n-2 which is your stopping point in the range, in a step of 3. \n",
    "\n",
    "#Line 7: You are setting another new variable called \"codon\" equal to the task of indexing through each sequence string. It starts counting from \n",
    "#the beginning of the first nucleotide string to the third nucleotide, outputs those three nucleotides as one independent string, and then continues \n",
    "#to the fourth nucleotide in the string and repeats the for loop, counting again from one to three. This happens because in the code because you are \n",
    "#telling the computer to start from \"j\" and go to \"j + 3\", indicating you want three total nucleotides in the output. If for instance, you kept \n",
    "#line 6 the same but changed line 7 to \"codon = seq[j:j+4]\". Here, your output will be sequence strings with a total of 4 nucleotides each. However,\n",
    "#because you never changed line 6, in order to create the output, the computer will still count 4 nucleotides for each output string, but the \n",
    "#nucleotide the computer begins the count with will be in step of 3 in the original nucleotide sequence string. \n",
    "\n",
    "#Line 8: You are appending or adding the result of variable \"codon\" to the end of \"codon_list\", which was your empty list you created in line #5. \n",
    "\n",
    "#Line 9: You are taking your empty dictionary you created and named \"seq_condon_map\" in line #2 and mapping the keys and values to the dictionary.\n",
    "#In this particular case, you are assigning your keys as an index that is starting from 0 and increasing in increments of 1. Then you are assigning \n",
    "#your values in the dictionary with two items: the seq variable which will give you your sequence string from seq_list and the codon_list which \n",
    "#will give you the list of your string combinations of three nucleotides taken from the given sequence. \n",
    "\n",
    "#Line 10: You are printing your seq_codon_map dictionary. "
   ]
  },
  {
   "cell_type": "markdown",
   "metadata": {},
   "source": [
    "_______"
   ]
  }
 ],
 "metadata": {
  "kernelspec": {
   "display_name": "Python 3",
   "language": "python",
   "name": "python3"
  },
  "language_info": {
   "codemirror_mode": {
    "name": "ipython",
    "version": 3
   },
   "file_extension": ".py",
   "mimetype": "text/x-python",
   "name": "python",
   "nbconvert_exporter": "python",
   "pygments_lexer": "ipython3",
   "version": "3.8.8"
  }
 },
 "nbformat": 4,
 "nbformat_minor": 4
}
