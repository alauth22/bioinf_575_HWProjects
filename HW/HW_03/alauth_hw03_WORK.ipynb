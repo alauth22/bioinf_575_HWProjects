{
 "cells": [
  {
   "cell_type": "markdown",
   "metadata": {},
   "source": [
    "### Homework 3 - Python data types\n",
    "### BIOINF 575 - Fall 2021\n",
    "\n",
    "##### Total 40 points "
   ]
  },
  {
   "cell_type": "markdown",
   "metadata": {},
   "source": [
    "For each each problem part provide the solution in Code cells after the description of the problem part.   \n",
    "Answers to questions should be written either as comments together with the code or in Markdown cell(s) for each part of the problem."
   ]
  },
  {
   "cell_type": "code",
   "execution_count": null,
   "metadata": {},
   "outputs": [],
   "source": [
    "#first identify the in depth key value from the info provided. \n",
    "#then split the line given, and then take the last element, then split the second element \n",
    "#code for all lines, not just this line. \n",
    "\n",
    "#SHould get a True or False answer for part 1. \n"
   ]
  },
  {
   "cell_type": "code",
   "execution_count": null,
   "metadata": {},
   "outputs": [],
   "source": []
  },
  {
   "cell_type": "markdown",
   "metadata": {},
   "source": [
    "______\n",
    "#### Problem 1 - Extract the depth of coverage for a variant\n",
    "##### 20 points\n"
   ]
  },
  {
   "cell_type": "markdown",
   "metadata": {},
   "source": [
    "..................................................................................................\n",
    "\n",
    "<b>Part 1 (15 points)</b>\n",
    "\n",
    "Given the following line (tab-separated) from a vcf file, write code to extract the total depth value. \n",
    "\n",
    "```python\n",
    "variant = \"Y\t2728456\trs2058276\tT\tC\t32\t.\tAC=2;AN=2;DB;DP=182;H2;NS=65\"\n",
    "```\n",
    "\n",
    "Below is the header of the vcf file explaining each element on the line above. \n",
    "\n",
    "\n",
    "```\n",
    "##fileformat=VCFv4.0\n",
    "##fileDate=20100610 \n",
    "##source=glfTools v3\n",
    "##reference=1000GenomesPilot-NCBI36 \n",
    "##phasing=NA\n",
    "##INFO=<ID=NS,Number=1,Type=Integer,Description=\"Number of Samples With Mapped Reads\">\n",
    "##INFO=<ID=DP,Number=1,Type=Integer,Description=\"Total Depth\">\n",
    "##INFO=<ID=DB,Number=0,Type=Flag,Description=\"dbSNP membership, build 129\">\n",
    "##INFO=<ID=H2,Number=0,Type=Flag,Description=\"HapMap2 membership\">\n",
    "##FILTER=<ID=NUYR,Description=\"Variant in non-unique Y region\">\n",
    "##FORMAT=<ID=GT,Number=1,Type=String,Description=\"Genotype\">\n",
    "##FORMAT=<ID=GQ,Number=1,Type=Integer,Description=\"Genotype\tQuality\">\n",
    "##FORMAT=<ID=DP,Number=1,Type=Integer,Description=\"Depth\">\n",
    "##INFO=<ID=AC,Number=.,Type=Integer,Description=\"Allele count in genotypes\">\n",
    "##INFO=<ID=AN,Number=1,Type=Integer,Description=\"Total number of alleles in called genotypes\">\n",
    "#CHROM\tPOS\tID\tREF\tALT\tQUAL\tFILTER\tINFO\n",
    "Y\t2728456\trs2058276\tT\tC\t32\t.\tAC=2;AN=2;DB;DP=182;H2;NS=65\n",
    "```\n",
    "\n",
    "\n",
    "~~~~~~~~~~~~~\n",
    "\n",
    "<b> One suggestion would be to break down the string into smaller parts and then look for the element of interest. </b>\n",
    "\n",
    "\n",
    "*   Score breakdown - these are not ordered steps of an algorithm but just elements of the solution to focus on:\n",
    "    - <b>(0.5 points)</b> Correctly identifying the element you are looking to extract\n",
    "    - <b>(4 points)</b> Reducig the scope of the search at least twice\n",
    "    - <b>(4.5 points)</b> Delimiting the reduced areas correctly and/or using additional data structures correctly\n",
    "    - <b>(4 points)</b> Making correct use of the methods/operators available for the datatype you are working with\n",
    "    - <b>(2 points)</b> Delimiting the result correctly and displaying the number for total depth"
   ]
  },
  {
   "cell_type": "code",
   "execution_count": 65,
   "metadata": {
    "tags": []
   },
   "outputs": [
    {
     "name": "stdout",
     "output_type": "stream",
     "text": [
      "182\n"
     ]
    }
   ],
   "source": [
    "#I want to extract the total depth value, which is 182 from the \n",
    "#I reduced the scope of the search a total of three times by splitting first the list and then the indices to finally \n",
    "#extract the exact value I desire. \n",
    "\n",
    "variant = \"Y    2728456    rs2058276    T    C    32    .    AC=2;AN=2;DB;DP=182;H2;NS=65\"\n",
    "variant_list = variant.split(\"    \")\n",
    "#Printing variant_list will give me a new list where each element separated by a tab will be its own string value. \n",
    "variant_info_list = variant_list[7].split(\";\")\n",
    "#Printing variant_info_list will give me specifically the 8th string element in the variant_list and split that element \n",
    "#wherever there was a \";\" and creating another list were those elements become separate string values. \n",
    "variant_info_DP = variant_info_list[3].split(\"=\")\n",
    "#Printing variant_info_DP will give me the fourth string element in variant_info_DP and split that string element further \n",
    "#where there is an \"=\" into two separate string values. \n",
    "value_DP = variant_info_DP[1]\n",
    "#I am taking the second index of this specific list to get the numerical value of DP. \n",
    "print(value_DP)"
   ]
  },
  {
   "cell_type": "markdown",
   "metadata": {},
   "source": [
    "..................................................................................................\n",
    "\n",
    "<b>Part 2 (5 points)\n",
    "\n",
    "For the line mentioned at part 1 extract the value for number of samples with mapped reads and the quality (QUAL column) and    \n",
    "check if the total depth > 100 and the number of samples with mapped reads > 50 and the quality is above 20 (means < 1\\% error rate).\n",
    "    \n",
    "*   Score breakdown - these are not ordered steps of an algorithm but just elements of the solution to focus on:\n",
    "    - <b>(0.5 points)</b> Correctly identifying the element you are looking to extract\n",
    "    - <b>(3 points)</b> Correctly applying the code from part 1 to extract the number of samples with mapped reads\n",
    "    - <b>(1.5 points)</b> Correctly extracting the QUAL value\n",
    "    - <b>(0.5 point)</b> Correctly checking if the required conditions are met or not and displaying the result\n",
    "\n"
   ]
  },
  {
   "cell_type": "code",
   "execution_count": 66,
   "metadata": {},
   "outputs": [
    {
     "name": "stdout",
     "output_type": "stream",
     "text": [
      "65\n"
     ]
    }
   ],
   "source": [
    "#Write your solution here, feel free to add new cells.\n",
    "#I want to extract two values: the NS (number of samples) = 65 and the quality value which is 32. \n",
    "\n",
    "#Below is the code to extract the value for NS. \n",
    "\n",
    "variant = \"Y    2728456    rs2058276    T    C    32    .    AC=2;AN=2;DB;DP=182;H2;NS=65\"\n",
    "variant_list = variant.split(\"    \")\n",
    "variant_info_list = variant_list[7].split(\";\")\n",
    "variant_info_NS = variant_info_list[5].split(\"=\")\n",
    "value_NS = variant_info_NS[1] \n",
    "print(value_NS)"
   ]
  },
  {
   "cell_type": "code",
   "execution_count": 67,
   "metadata": {},
   "outputs": [
    {
     "name": "stdout",
     "output_type": "stream",
     "text": [
      "32\n"
     ]
    }
   ],
   "source": [
    "#Below is the code to extract the value for QUAL value. \n",
    "variant = \"Y    2728456    rs2058276    T    C    32    .    AC=2;AN=2;DB;DP=182;H2;NS=65\"\n",
    "variant_list = variant.split(\"    \")\n",
    "value_QUAL = variant_list[5]\n",
    "print(value_QUAL)"
   ]
  },
  {
   "cell_type": "code",
   "execution_count": null,
   "metadata": {},
   "outputs": [],
   "source": [
    "check if the total depth > 100 and the number of samples with mapped reads > 50 and the quality is above 20 (means < 1% error rate)."
   ]
  },
  {
   "cell_type": "code",
   "execution_count": 86,
   "metadata": {},
   "outputs": [
    {
     "name": "stdout",
     "output_type": "stream",
     "text": [
      "True\n",
      "True\n",
      "True\n"
     ]
    }
   ],
   "source": [
    "if int(value_DP) > 100:\n",
    "    print(True)\n",
    "    if int(value_NS) > 50:\n",
    "        print(True)\n",
    "        if int(value_QUAL) > 20:\n",
    "            print(True)       "
   ]
  },
  {
   "cell_type": "markdown",
   "metadata": {},
   "source": [
    "_______"
   ]
  },
  {
   "cell_type": "markdown",
   "metadata": {},
   "source": [
    "#### Problem 2 - Sequence analysis\n",
    "##### 20 points\n",
    ".................................................................................................."
   ]
  },
  {
   "cell_type": "markdown",
   "metadata": {},
   "source": [
    "<b>Part 1 (10 points)\n",
    "\n",
    "We have the following list with sequences:\n",
    "\n",
    "```python\n",
    "sequences = [\"AAACCTTG\", \"TTCAG\", \"GGATCTT\", \"AAC\", \"CCTTGG\", \"CATG\", \"AAA\", \"GGTTTAACA\", \"GGGTACGT\", \"CCGCATCAGACCT\", \"AACA\", \"TTGAATCC\", \"TAAGA\", \"AAATTCCGGAAA\"]\n",
    "```\n",
    "Create a dictionary with sequences that have GC content > 40%.   \n",
    "The keys will be some of \"Sequence 1\", \"Sequence 2\", ... \"Sequence n\",    \n",
    "where 1,2,...n, is the position (1-based) of the sequence in the sequences list.    \n",
    "The value for each key is a tuple.     \n",
    "The tuple has two elements: the GC content and the sequence.    \n",
    "E.g.: If we had only one sequence, `\"ACGT\"`, the result would be:\n",
    "```python\n",
    "{\"Sequence 1\": (0.5, \"ACGT\") }\n",
    " ```  \n",
    "    \n",
    "* Score breakdown - these are not ordered steps of an algorithm but just elements of the solution to focus on: \n",
    "    - <b>(1.5 points) </b> Correctly using the for loop\n",
    "    - <b>(1.5 points) </b> Correctly computing the GC content for each sequence\n",
    "    - <b>(3 points) </b> Correctly building the tuple\n",
    "    - <b>(4 points) </b> Correctly building and displaying the dictionary, including its keys"
   ]
  },
  {
   "cell_type": "code",
   "execution_count": null,
   "metadata": {},
   "outputs": [],
   "source": [
    "#Write your solution here, feel free to add new cells.\n",
    "\n",
    "\n"
   ]
  },
  {
   "cell_type": "code",
   "execution_count": 50,
   "metadata": {},
   "outputs": [
    {
     "data": {
      "text/plain": [
       "['AAACCTTG',\n",
       " 'TTCAG',\n",
       " 'GGATCTT',\n",
       " 'AAC',\n",
       " 'CCTTGG',\n",
       " 'CATG',\n",
       " 'AAA',\n",
       " 'GGTTTAACA',\n",
       " 'GGGTACGT',\n",
       " 'CCGCATCAGACCT',\n",
       " 'AACA',\n",
       " 'TTGAATCC',\n",
       " 'TAAGA',\n",
       " 'AAATTCCGGAAA']"
      ]
     },
     "execution_count": 50,
     "metadata": {},
     "output_type": "execute_result"
    }
   ],
   "source": [
    "sequences = [\"AAACCTTG\", \"TTCAG\", \"GGATCTT\", \"AAC\", \"CCTTGG\", \"CATG\", \"AAA\", \"GGTTTAACA\", \"GGGTACGT\", \"CCGCATCAGACCT\", \"AACA\", \"TTGAATCC\", \"TAAGA\", \"AAATTCCGGAAA\"]\n",
    "sequences"
   ]
  },
  {
   "cell_type": "code",
   "execution_count": 18,
   "metadata": {},
   "outputs": [
    {
     "name": "stdout",
     "output_type": "stream",
     "text": [
      "0.42857142857142855 , GGATCTT\n",
      "0.6666666666666666 , CCTTGG\n",
      "0.5 , CATG\n",
      "0.625 , GGGTACGT\n",
      "0.6153846153846154 , CCGCATCAGACCT\n",
      "0.42857142857142855 , GGATCTT\n",
      "0.6666666666666666 , CCTTGG\n",
      "0.5 , CATG\n",
      "0.625 , GGGTACGT\n",
      "0.6153846153846154 , CCGCATCAGACCT\n",
      "0.42857142857142855 , GGATCTT\n",
      "0.6666666666666666 , CCTTGG\n",
      "0.5 , CATG\n",
      "0.625 , GGGTACGT\n",
      "0.6153846153846154 , CCGCATCAGACCT\n",
      "0.42857142857142855 , GGATCTT\n",
      "0.6666666666666666 , CCTTGG\n",
      "0.5 , CATG\n",
      "0.625 , GGGTACGT\n",
      "0.6153846153846154 , CCGCATCAGACCT\n",
      "0.42857142857142855 , GGATCTT\n",
      "0.6666666666666666 , CCTTGG\n",
      "0.5 , CATG\n",
      "0.625 , GGGTACGT\n",
      "0.6153846153846154 , CCGCATCAGACCT\n",
      "0.42857142857142855 , GGATCTT\n",
      "0.6666666666666666 , CCTTGG\n",
      "0.5 , CATG\n",
      "0.625 , GGGTACGT\n",
      "0.6153846153846154 , CCGCATCAGACCT\n",
      "0.42857142857142855 , GGATCTT\n",
      "0.6666666666666666 , CCTTGG\n",
      "0.5 , CATG\n",
      "0.625 , GGGTACGT\n",
      "0.6153846153846154 , CCGCATCAGACCT\n",
      "0.42857142857142855 , GGATCTT\n",
      "0.6666666666666666 , CCTTGG\n",
      "0.5 , CATG\n",
      "0.625 , GGGTACGT\n",
      "0.6153846153846154 , CCGCATCAGACCT\n",
      "0.42857142857142855 , GGATCTT\n",
      "0.6666666666666666 , CCTTGG\n",
      "0.5 , CATG\n",
      "0.625 , GGGTACGT\n",
      "0.6153846153846154 , CCGCATCAGACCT\n",
      "0.42857142857142855 , GGATCTT\n",
      "0.6666666666666666 , CCTTGG\n",
      "0.5 , CATG\n",
      "0.625 , GGGTACGT\n",
      "0.6153846153846154 , CCGCATCAGACCT\n",
      "0.42857142857142855 , GGATCTT\n",
      "0.6666666666666666 , CCTTGG\n",
      "0.5 , CATG\n",
      "0.625 , GGGTACGT\n",
      "0.6153846153846154 , CCGCATCAGACCT\n",
      "0.42857142857142855 , GGATCTT\n",
      "0.6666666666666666 , CCTTGG\n",
      "0.5 , CATG\n",
      "0.625 , GGGTACGT\n",
      "0.6153846153846154 , CCGCATCAGACCT\n",
      "0.42857142857142855 , GGATCTT\n",
      "0.6666666666666666 , CCTTGG\n",
      "0.5 , CATG\n",
      "0.625 , GGGTACGT\n",
      "0.6153846153846154 , CCGCATCAGACCT\n",
      "0.42857142857142855 , GGATCTT\n",
      "0.6666666666666666 , CCTTGG\n",
      "0.5 , CATG\n",
      "0.625 , GGGTACGT\n",
      "0.6153846153846154 , CCGCATCAGACCT\n"
     ]
    }
   ],
   "source": [
    "#This is attempt #1 for the dictionary portion. \n",
    "sequences = [\"AAACCTTG\", \"TTCAG\", \"GGATCTT\", \"AAC\", \"CCTTGG\", \"CATG\", \"AAA\", \"GGTTTAACA\", \"GGGTACGT\", \"CCGCATCAGACCT\", \"AACA\", \"TTGAATCC\", \"TAAGA\", \"AAATTCCGGAAA\"]\n",
    "sequences_names = [\"Sequence 1\", \"Sequence 2\", \"Sequence 3\", \"Sequence 4\", \"Sequence 5\", \"Sequence 6\", \"Sequence 7\", \"Sequence 8\", \"Sequence 9\", \"Sequence 10\", \"Sequence 11\", \"Sequence 12\", \"Sequence 13\", \"Sequence 14\"]\n",
    "seq_dict = {}\n",
    "\n",
    "for seq_item in sequences_names:\n",
    "    for seq in sequences:\n",
    "        math_seq = (seq.count(\"G\") + seq.count(\"C\"))/(len(seq))\n",
    "        if math_seq > 0.4:\n",
    "            print(math_seq, \",\", seq)\n",
    "            seq_dict[seq_item] = (math_seq, \",\", seq)"
   ]
  },
  {
   "cell_type": "code",
   "execution_count": 53,
   "metadata": {},
   "outputs": [
    {
     "name": "stdout",
     "output_type": "stream",
     "text": [
      "1\n",
      "{'Sequence': (0.42857142857142855, 'GGATCTT')}\n",
      "2\n",
      "{'Sequence': (0.6666666666666666, 'CCTTGG')}\n",
      "3\n",
      "{'Sequence': (0.5, 'CATG')}\n",
      "4\n",
      "{'Sequence': (0.625, 'GGGTACGT')}\n",
      "5\n",
      "{'Sequence': (0.6153846153846154, 'CCGCATCAGACCT')}\n"
     ]
    }
   ],
   "source": [
    "#Attempt #2 for the dictionary. \n",
    "sequences = [\"AAACCTTG\", \"TTCAG\", \"GGATCTT\", \"AAC\", \"CCTTGG\", \"CATG\", \"AAA\", \"GGTTTAACA\", \"GGGTACGT\", \"CCGCATCAGACCT\", \"AACA\", \"TTGAATCC\", \"TAAGA\", \"AAATTCCGGAAA\"]\n",
    "seq_GC_content_map = {}\n",
    "i = 0\n",
    "for seq in sequences:\n",
    "    math_seq = (seq.count(\"G\") + seq.count(\"C\"))/(len(seq))\n",
    "    if math_seq > 0.4:\n",
    "        math_answer = (math_seq, seq)\n",
    "        seq_GC_content_map[\"Sequence\"] = math_answer\n",
    "        i += 1 \n",
    "        print(i)\n",
    "        print(seq_GC_content_map)"
   ]
  },
  {
   "cell_type": "code",
   "execution_count": 34,
   "metadata": {},
   "outputs": [
    {
     "name": "stdout",
     "output_type": "stream",
     "text": [
      "{'Sequence 1': (0.42857142857142855, 'GGATCTT'), 'Sequence 2': (0.6666666666666666, 'CCTTGG'), 'Sequence 3': (0.5, 'CATG'), 'Sequence 4': (0.625, 'GGGTACGT'), 'Sequence 5': (0.6153846153846154, 'CCGCATCAGACCT')}\n"
     ]
    }
   ],
   "source": [
    "#Attempt #5 for the dictionary. \n",
    "sequences = [\"AAACCTTG\", \"TTCAG\", \"GGATCTT\", \"AAC\", \"CCTTGG\", \"CATG\", \"AAA\", \"GGTTTAACA\", \"GGGTACGT\", \"CCGCATCAGACCT\", \"AACA\", \"TTGAATCC\", \"TAAGA\", \"AAATTCCGGAAA\"]\n",
    "seq_GC_content_map = {}\n",
    "i = 0\n",
    "for seq in sequences:\n",
    "    math_seq = (seq.count(\"G\") + seq.count(\"C\"))/(len(seq))\n",
    "    if math_seq > 0.4:\n",
    "        math_answer = (math_seq, seq)\n",
    "        i += 1 \n",
    "        seq_GC_content_map[\"Sequence \" + str(i)] = math_answer\n",
    "print(seq_GC_content_map)"
   ]
  },
  {
   "cell_type": "code",
   "execution_count": 40,
   "metadata": {},
   "outputs": [
    {
     "name": "stdout",
     "output_type": "stream",
     "text": [
      "{'Sequence 1': (0.42857142857142855, 'GGATCTT'), 'Sequence 2': (0.6666666666666666, 'CCTTGG'), 'Sequence 3': (0.5, 'CATG'), 'Sequence 4': (0.625, 'GGGTACGT'), 'Sequence 5': (0.6153846153846154, 'CCGCATCAGACCT')}\n"
     ]
    }
   ],
   "source": [
    "#Attempt #5 for the dictionary. \n",
    "sequences = [\"AAACCTTG\", \"TTCAG\", \"GGATCTT\", \"AAC\", \"CCTTGG\", \"CATG\", \"AAA\", \"GGTTTAACA\", \"GGGTACGT\", \"CCGCATCAGACCT\", \"AACA\", \"TTGAATCC\", \"TAAGA\", \"AAATTCCGGAAA\"]\n",
    "seq_GC_content_map = {}\n",
    "i = 0\n",
    "for seq in sequences:\n",
    "    math_seq = (seq.count(\"G\") + seq.count(\"C\"))/(len(seq))\n",
    "    if math_seq > 0.4:\n",
    "        i += 1\n",
    "        math_answer = (math_seq, seq)\n",
    "        seq_GC_content_map[\"Sequence \" + str(i)] = math_answer\n",
    "print(seq_GC_content_map)"
   ]
  },
  {
   "cell_type": "code",
   "execution_count": 51,
   "metadata": {},
   "outputs": [
    {
     "name": "stdout",
     "output_type": "stream",
     "text": [
      "{'Sequence 1': (0.42857142857142855, 'GGATCTT')}\n",
      "{'Sequence 1': (0.6666666666666666, 'CCTTGG')}\n",
      "{'Sequence 1': (0.5, 'CATG')}\n",
      "{'Sequence 1': (0.625, 'GGGTACGT')}\n",
      "{'Sequence 1': (0.6153846153846154, 'CCGCATCAGACCT')}\n",
      "{'Sequence 1': (0.6153846153846154, 'CCGCATCAGACCT'), 'Sequence 2': (0.42857142857142855, 'GGATCTT')}\n",
      "{'Sequence 1': (0.6153846153846154, 'CCGCATCAGACCT'), 'Sequence 2': (0.6666666666666666, 'CCTTGG')}\n",
      "{'Sequence 1': (0.6153846153846154, 'CCGCATCAGACCT'), 'Sequence 2': (0.5, 'CATG')}\n",
      "{'Sequence 1': (0.6153846153846154, 'CCGCATCAGACCT'), 'Sequence 2': (0.625, 'GGGTACGT')}\n",
      "{'Sequence 1': (0.6153846153846154, 'CCGCATCAGACCT'), 'Sequence 2': (0.6153846153846154, 'CCGCATCAGACCT')}\n",
      "{'Sequence 1': (0.6153846153846154, 'CCGCATCAGACCT'), 'Sequence 2': (0.6153846153846154, 'CCGCATCAGACCT'), 'Sequence 3': (0.42857142857142855, 'GGATCTT')}\n",
      "{'Sequence 1': (0.6153846153846154, 'CCGCATCAGACCT'), 'Sequence 2': (0.6153846153846154, 'CCGCATCAGACCT'), 'Sequence 3': (0.6666666666666666, 'CCTTGG')}\n",
      "{'Sequence 1': (0.6153846153846154, 'CCGCATCAGACCT'), 'Sequence 2': (0.6153846153846154, 'CCGCATCAGACCT'), 'Sequence 3': (0.5, 'CATG')}\n",
      "{'Sequence 1': (0.6153846153846154, 'CCGCATCAGACCT'), 'Sequence 2': (0.6153846153846154, 'CCGCATCAGACCT'), 'Sequence 3': (0.625, 'GGGTACGT')}\n",
      "{'Sequence 1': (0.6153846153846154, 'CCGCATCAGACCT'), 'Sequence 2': (0.6153846153846154, 'CCGCATCAGACCT'), 'Sequence 3': (0.6153846153846154, 'CCGCATCAGACCT')}\n",
      "{'Sequence 1': (0.6153846153846154, 'CCGCATCAGACCT'), 'Sequence 2': (0.6153846153846154, 'CCGCATCAGACCT'), 'Sequence 3': (0.6153846153846154, 'CCGCATCAGACCT'), 'Sequence 4': (0.42857142857142855, 'GGATCTT')}\n",
      "{'Sequence 1': (0.6153846153846154, 'CCGCATCAGACCT'), 'Sequence 2': (0.6153846153846154, 'CCGCATCAGACCT'), 'Sequence 3': (0.6153846153846154, 'CCGCATCAGACCT'), 'Sequence 4': (0.6666666666666666, 'CCTTGG')}\n",
      "{'Sequence 1': (0.6153846153846154, 'CCGCATCAGACCT'), 'Sequence 2': (0.6153846153846154, 'CCGCATCAGACCT'), 'Sequence 3': (0.6153846153846154, 'CCGCATCAGACCT'), 'Sequence 4': (0.5, 'CATG')}\n",
      "{'Sequence 1': (0.6153846153846154, 'CCGCATCAGACCT'), 'Sequence 2': (0.6153846153846154, 'CCGCATCAGACCT'), 'Sequence 3': (0.6153846153846154, 'CCGCATCAGACCT'), 'Sequence 4': (0.625, 'GGGTACGT')}\n",
      "{'Sequence 1': (0.6153846153846154, 'CCGCATCAGACCT'), 'Sequence 2': (0.6153846153846154, 'CCGCATCAGACCT'), 'Sequence 3': (0.6153846153846154, 'CCGCATCAGACCT'), 'Sequence 4': (0.6153846153846154, 'CCGCATCAGACCT')}\n",
      "{'Sequence 1': (0.6153846153846154, 'CCGCATCAGACCT'), 'Sequence 2': (0.6153846153846154, 'CCGCATCAGACCT'), 'Sequence 3': (0.6153846153846154, 'CCGCATCAGACCT'), 'Sequence 4': (0.6153846153846154, 'CCGCATCAGACCT'), 'Sequence 5': (0.42857142857142855, 'GGATCTT')}\n",
      "{'Sequence 1': (0.6153846153846154, 'CCGCATCAGACCT'), 'Sequence 2': (0.6153846153846154, 'CCGCATCAGACCT'), 'Sequence 3': (0.6153846153846154, 'CCGCATCAGACCT'), 'Sequence 4': (0.6153846153846154, 'CCGCATCAGACCT'), 'Sequence 5': (0.6666666666666666, 'CCTTGG')}\n",
      "{'Sequence 1': (0.6153846153846154, 'CCGCATCAGACCT'), 'Sequence 2': (0.6153846153846154, 'CCGCATCAGACCT'), 'Sequence 3': (0.6153846153846154, 'CCGCATCAGACCT'), 'Sequence 4': (0.6153846153846154, 'CCGCATCAGACCT'), 'Sequence 5': (0.5, 'CATG')}\n",
      "{'Sequence 1': (0.6153846153846154, 'CCGCATCAGACCT'), 'Sequence 2': (0.6153846153846154, 'CCGCATCAGACCT'), 'Sequence 3': (0.6153846153846154, 'CCGCATCAGACCT'), 'Sequence 4': (0.6153846153846154, 'CCGCATCAGACCT'), 'Sequence 5': (0.625, 'GGGTACGT')}\n",
      "{'Sequence 1': (0.6153846153846154, 'CCGCATCAGACCT'), 'Sequence 2': (0.6153846153846154, 'CCGCATCAGACCT'), 'Sequence 3': (0.6153846153846154, 'CCGCATCAGACCT'), 'Sequence 4': (0.6153846153846154, 'CCGCATCAGACCT'), 'Sequence 5': (0.6153846153846154, 'CCGCATCAGACCT')}\n"
     ]
    }
   ],
   "source": [
    "#Attempt #3 for the dictionary. \n",
    "sequences = [\"AAACCTTG\", \"TTCAG\", \"GGATCTT\", \"AAC\", \"CCTTGG\", \"CATG\", \"AAA\", \"GGTTTAACA\", \"GGGTACGT\", \"CCGCATCAGACCT\", \"AACA\", \"TTGAATCC\", \"TAAGA\", \"AAATTCCGGAAA\"]\n",
    "seq_GC_content_map = {}\n",
    "x = range(1,6)\n",
    "for a in x:\n",
    "    for seq in sequences:\n",
    "        math_seq = (seq.count(\"G\") + seq.count(\"C\"))/(len(seq))\n",
    "        if math_seq > 0.4:\n",
    "            math_answer = (math_seq, seq)\n",
    "            seq_GC_content_map[\"Sequence \" + str(a)] = math_answer\n",
    "            print(seq_GC_content_map)"
   ]
  },
  {
   "cell_type": "code",
   "execution_count": 22,
   "metadata": {},
   "outputs": [
    {
     "name": "stdout",
     "output_type": "stream",
     "text": [
      "{'Sequences ': (0.42857142857142855, 'GGATCTT')}\n",
      "{'Sequences ': (0.6666666666666666, 'CCTTGG')}\n",
      "{'Sequences ': (0.5, 'CATG')}\n",
      "{'Sequences ': (0.625, 'GGGTACGT')}\n",
      "{'Sequences ': (0.6153846153846154, 'CCGCATCAGACCT')}\n"
     ]
    }
   ],
   "source": [
    "sequences = [\"AAACCTTG\", \"TTCAG\", \"GGATCTT\", \"AAC\", \"CCTTGG\", \"CATG\", \"AAA\", \"GGTTTAACA\", \"GGGTACGT\", \"CCGCATCAGACCT\", \"AACA\", \"TTGAATCC\", \"TAAGA\", \"AAATTCCGGAAA\"]\n",
    "\n",
    "seq_GC_content_map = {}\n",
    "for seq in sequences:\n",
    "    math_seq = (seq.count(\"G\") + seq.count(\"C\"))/(len(seq))\n",
    "    if math_seq > 0.4:\n",
    "        math_answer = (math_seq, seq)\n",
    "        seq_GC_content_map[\"Sequences \"] = math_answer    \n",
    "        print(seq_GC_content_map)"
   ]
  },
  {
   "cell_type": "code",
   "execution_count": 205,
   "metadata": {},
   "outputs": [
    {
     "name": "stdout",
     "output_type": "stream",
     "text": [
      "1\n",
      "2\n",
      "3\n",
      "4\n",
      "5\n"
     ]
    }
   ],
   "source": [
    "x = range(1,6)\n",
    "for n in x:\n",
    "    print(n)\n",
    "    str(n)"
   ]
  },
  {
   "cell_type": "code",
   "execution_count": 210,
   "metadata": {},
   "outputs": [
    {
     "name": "stdout",
     "output_type": "stream",
     "text": [
      "['1', '2', '3', '4', '5']\n"
     ]
    }
   ],
   "source": [
    "x = range(1,6)\n",
    "print([str(a) for a in x])"
   ]
  },
  {
   "cell_type": "code",
   "execution_count": 213,
   "metadata": {},
   "outputs": [
    {
     "name": "stdout",
     "output_type": "stream",
     "text": [
      "1\n",
      "2\n",
      "3\n",
      "4\n",
      "5\n"
     ]
    }
   ],
   "source": [
    "x = range(1,6)\n",
    "for a in x:\n",
    "    print(str(a))"
   ]
  },
  {
   "cell_type": "code",
   "execution_count": 269,
   "metadata": {},
   "outputs": [
    {
     "name": "stdout",
     "output_type": "stream",
     "text": [
      "Station_1.txt\n",
      "Station_2.txt\n",
      "Station_3.txt\n",
      "Station_4.txt\n",
      "Station_5.txt\n",
      "Station_6.txt\n",
      "Station_7.txt\n",
      "Station_8.txt\n",
      "Station_9.txt\n",
      "Station_10.txt\n",
      "Station_11.txt\n",
      "Station_12.txt\n",
      "Station_13.txt\n",
      "Station_14.txt\n",
      "Station_15.txt\n",
      "Station_16.txt\n",
      "Station_17.txt\n",
      "Station_18.txt\n",
      "Station_19.txt\n",
      "Station_20.txt\n"
     ]
    }
   ],
   "source": [
    "hello = {}\n",
    "basename = \"Station\"\n",
    "for i in range(1, 21):\n",
    "    value = basename + \"_\" + str(i) + \".txt\"\n",
    "    print(value)\n",
    "    hello[value] = \"great\""
   ]
  },
  {
   "cell_type": "code",
   "execution_count": 270,
   "metadata": {},
   "outputs": [
    {
     "name": "stdout",
     "output_type": "stream",
     "text": [
      "{'Sequences ': (0.42857142857142855, 'GGATCTT')}\n",
      "{'Sequences ': (0.6666666666666666, 'CCTTGG')}\n",
      "{'Sequences ': (0.5, 'CATG')}\n",
      "{'Sequences ': (0.625, 'GGGTACGT')}\n",
      "{'Sequences ': (0.6153846153846154, 'CCGCATCAGACCT')}\n"
     ]
    }
   ],
   "source": [
    "#Attempt #4 for the dictionary. \n",
    "sequences = [\"AAACCTTG\", \"TTCAG\", \"GGATCTT\", \"AAC\", \"CCTTGG\", \"CATG\", \"AAA\", \"GGTTTAACA\", \"GGGTACGT\", \"CCGCATCAGACCT\", \"AACA\", \"TTGAATCC\", \"TAAGA\", \"AAATTCCGGAAA\"]\n",
    "\n",
    "seq_GC_content_map = {}\n",
    "for seq in sequences:\n",
    "    math_seq = (seq.count(\"G\") + seq.count(\"C\"))/(len(seq))\n",
    "    if math_seq > 0.4:\n",
    "        math_answer = (math_seq, seq)\n",
    "        seq_GC_content_map[\"Sequences \"] = math_answer    \n",
    "        print(seq_GC_content_map)"
   ]
  },
  {
   "cell_type": "code",
   "execution_count": 3,
   "metadata": {},
   "outputs": [
    {
     "name": "stdout",
     "output_type": "stream",
     "text": [
      "{'string 1': 'Hello', 'string 2': 'Hello', 'string 3': 'Hello', 'string 4': 'Hello', 'string 5': 'Hello'}\n"
     ]
    }
   ],
   "source": [
    "dict_name = {}\n",
    "basename = \"string\"\n",
    "for i in range(1,6):\n",
    "    value = basename + \" \" + str(i)\n",
    "    dict_name[value] = \"Hello\"\n",
    "print(dict_name)\n",
    "            "
   ]
  },
  {
   "cell_type": "code",
   "execution_count": 153,
   "metadata": {},
   "outputs": [
    {
     "name": "stdout",
     "output_type": "stream",
     "text": [
      "0.375 AAACCTTG\n",
      "0.4 TTCAG\n",
      "0.42857142857142855 GGATCTT\n",
      "0.3333333333333333 AAC\n",
      "0.6666666666666666 CCTTGG\n",
      "0.5 CATG\n",
      "0.0 AAA\n",
      "0.3333333333333333 GGTTTAACA\n",
      "0.625 GGGTACGT\n",
      "0.6153846153846154 CCGCATCAGACCT\n",
      "0.25 AACA\n",
      "0.375 TTGAATCC\n",
      "0.2 TAAGA\n",
      "0.3333333333333333 AAATTCCGGAAA\n"
     ]
    }
   ],
   "source": [
    "#original code but we want only the GC % content that is greater than 40%. So the above code includes the \\\n",
    "#if statment to put have that filter. This was attempt #1. \n",
    "for seq in sequences:\n",
    "    math = (seq.count(\"G\") + seq.count(\"C\"))/(len(seq))\n",
    "    print(math,seq)"
   ]
  },
  {
   "cell_type": "code",
   "execution_count": 158,
   "metadata": {},
   "outputs": [
    {
     "name": "stdout",
     "output_type": "stream",
     "text": [
      "(0.42857142857142855, 'GGATCTT')\n",
      "(0.6666666666666666, 'CCTTGG')\n",
      "(0.5, 'CATG')\n",
      "(0.625, 'GGGTACGT')\n",
      "(0.6153846153846154, 'CCGCATCAGACCT')\n"
     ]
    },
    {
     "data": {
      "text/plain": [
       "tuple"
      ]
     },
     "execution_count": 158,
     "metadata": {},
     "output_type": "execute_result"
    }
   ],
   "source": [
    "#This is the code I WANT because it includes the if loop to only take 0.4. This is attempt #2. \n",
    "for seq in (sequences):\n",
    "    math_seq = (seq.count(\"G\") + seq.count(\"C\"))/(len(seq))\n",
    "    if math_seq > 0.4:\n",
    "        math_answer = (math_seq, seq)\n",
    "    \n",
    "        \n",
    "type(math_answer)\n",
    "#I didn't have to create an empty tuple because I can just create a tuple here...by setting a variable equal to (variable, variable). The comma\n",
    "#will create the tuple. I checked by doing type(answer) and got \"tuple\". "
   ]
  },
  {
   "cell_type": "markdown",
   "metadata": {},
   "source": [
    "..................................................................................................\n",
    "\n",
    "<b>Part 2 (10 points) - Understand the code  </b>\n",
    "\n",
    "Explain what the following code does and how it computes the result it displays.\n",
    "\n",
    "```python\n",
    "seq_list = [\"AAACCTTGA\", \"AAATTCCGGAAA\"]\n",
    "seq_codon_map = {}\n",
    "for i, seq in enumerate(seq_list):\n",
    "    n = len(seq)\n",
    "    codon_list = []\n",
    "    for j in range(0, n - 2, 3):\n",
    "        codon = seq[j:j+3]\n",
    "        codon_list.append(codon)\n",
    "    seq_codon_map[i+1] = (seq, codon_list)\n",
    "    \n",
    "print(seq_codon_map)\n",
    "```\n",
    "\n",
    "\n",
    "* Score breakdown for the 10 lines of code: \n",
    "    - <b>(2 points each) </b> Lines 3 and 6 - the ones with the for\n",
    "    - <b>(0.5 points each) </b> Lines 1, 2, 4, 5, 8, 10\n",
    "    - <b>(1.5 points each) </b> Lines 7 and 9\n",
    "    "
   ]
  },
  {
   "cell_type": "markdown",
   "metadata": {},
   "source": [
    "~~~~~~~~~\n",
    "#### Write your solution here and then run the cell (Markdown)\n",
    "\n",
    "\n",
    "\n",
    "\n",
    "\n",
    "\n",
    "____ double click here to edit the cell _____"
   ]
  },
  {
   "cell_type": "code",
   "execution_count": 49,
   "metadata": {},
   "outputs": [
    {
     "name": "stdout",
     "output_type": "stream",
     "text": [
      "{1: ('AAACCTTGA', ['AAA', 'CCT', 'TGA']), 2: ('AAATTCCGGAAA', ['AAA', 'TTC', 'CGG', 'AAA'])}\n"
     ]
    }
   ],
   "source": [
    "#Copy the code here and try to break it down to understand it - feel free to add new cells\n",
    "seq_list = [\"AAACCTTGA\", \"AAATTCCGGAAA\"]\n",
    "seq_codon_map = {}\n",
    "for i, seq in enumerate(seq_list):\n",
    "    n = len(seq)\n",
    "    codon_list = []\n",
    "    for j in range(0, n - 2, 3):\n",
    "        codon = seq[j:j+3]   \n",
    "        codon_list.append(codon)    \n",
    "    seq_codon_map[i+1] = (seq, codon_list)\n",
    "    \n",
    "print(seq_codon_map)\n",
    "\n",
    "#Line 1: You are assigning a list with two string values to the variable called \"seq_list\". \n",
    "\n",
    "#Line 2: You are creating an empty dictionary and assigning it to the variable called \"seq_codon_map\". \n",
    "\n",
    "#Line 3: You are beginning a for loop, where your variabless called \"i\" and \"seq\" are used to go through each element of the iterable, which is \n",
    "#the list called \"seq_list\". Right before the iterable, you have \"enumerate\" which allows you to loop over the iterabel and record how many \n",
    "#iterations have occured. \n",
    "\n",
    "#Line 4: You are assigning another new variable called \"n\" to the length of your variable \"seq\". \n",
    "\n",
    "#Line 5: You are creating an empty list and assigning it to the variable called \"codon_list\". \n",
    "\n",
    "#Line 6: You are beginning your second for loop within the first for loop (nesting for loops) where you have your new varaible \"j\" in the range \n",
    "#from 0 to your variable (which is the length of your \"seq\" variable) with a step of 3. \n",
    "\n",
    "#Line 7: You are setting another new variable called \"codon\" equal to the task of indexing through each sequence string, where it counts to the \n",
    "#third element in the string and then outputs those three nucleotides as one independent string. Then it goes to the next nucleotide in the \n",
    "#original string where you had left off and counts in increments of three again. If you had a string of nucleotides whose length was not divisible \n",
    "#by 3, then the result would not include those extra or \"leftover\" nuelcotides in your list of groups of three nucleotide strings. \n",
    "\n",
    "#Line 8: You are appending or adding the result of variable \"codon\" to the end of \"codon_list\" which was our empty list we created in line #5. \n",
    "\n",
    "#Line 9: You are taking your empty dictionary you created and named \"seq_condon_map\" and mapping the keys and values to the dictionary. In this\n",
    "#particular case, you are assigning your keys as an index that is starting from 1 and increasing in increments of 1. Then you are assigning your \n",
    "#values in the dictionary with two items: the seq variable which will give you your sequence from seq_list and the codon_list which will give you \n",
    "#a list of your combinations of three nucleotides taken from the given sequence. "
   ]
  },
  {
   "cell_type": "code",
   "execution_count": 88,
   "metadata": {},
   "outputs": [
    {
     "name": "stdout",
     "output_type": "stream",
     "text": [
      "AACG\n",
      "GTTT\n",
      "T\n",
      "\n",
      "\n",
      "\n"
     ]
    }
   ],
   "source": [
    "seq = \"AACGTTT\"\n",
    "for i in range(0, 20-3, 3):\n",
    "    print(seq[i:i+4])\n",
    "#so the range allows you to begin with starting point, \n",
    "#but this one will tell you when will to start and then. "
   ]
  },
  {
   "cell_type": "code",
   "execution_count": 89,
   "metadata": {},
   "outputs": [
    {
     "name": "stdout",
     "output_type": "stream",
     "text": [
      "AACG\n",
      "GTTT\n",
      "TCCG\n",
      "GGTT\n",
      "TT\n",
      "\n",
      "\n",
      "\n",
      "\n",
      "\n",
      "\n",
      "\n",
      "\n",
      "\n",
      "\n",
      "\n",
      "\n",
      "\n",
      "\n",
      "\n",
      "\n",
      "\n",
      "\n",
      "\n",
      "\n",
      "\n",
      "\n",
      "\n",
      "\n",
      "\n",
      "\n",
      "\n",
      "\n"
     ]
    }
   ],
   "source": [
    "seq = \"AACGTTTCCGGTTT\"\n",
    "n = len(seq)\n",
    "for i in range(0, 100-3, 3):\n",
    "    print(seq[i:i+4])\n",
    "\n",
    "#Describe this here. \n",
    "\n",
    "\n",
    "#You are still "
   ]
  },
  {
   "cell_type": "code",
   "execution_count": null,
   "metadata": {},
   "outputs": [],
   "source": []
  },
  {
   "cell_type": "code",
   "execution_count": null,
   "metadata": {},
   "outputs": [],
   "source": []
  },
  {
   "cell_type": "markdown",
   "metadata": {},
   "source": [
    "_______"
   ]
  }
 ],
 "metadata": {
  "kernelspec": {
   "display_name": "Python 3",
   "language": "python",
   "name": "python3"
  },
  "language_info": {
   "codemirror_mode": {
    "name": "ipython",
    "version": 3
   },
   "file_extension": ".py",
   "mimetype": "text/x-python",
   "name": "python",
   "nbconvert_exporter": "python",
   "pygments_lexer": "ipython3",
   "version": "3.8.8"
  }
 },
 "nbformat": 4,
 "nbformat_minor": 4
}
