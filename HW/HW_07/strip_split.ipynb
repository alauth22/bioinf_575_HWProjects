{
 "cells": [
  {
   "cell_type": "code",
   "execution_count": null,
   "id": "ea770265-b765-4e64-81e7-80ad889e19e3",
   "metadata": {},
   "outputs": [],
   "source": []
  },
  {
   "cell_type": "code",
   "execution_count": 159,
   "id": "cfe73f7b-cddf-4bc5-98c1-132aca083b82",
   "metadata": {},
   "outputs": [
    {
     "data": {
      "text/plain": [
       "['A', 'B', 'C\\n', 'D']"
      ]
     },
     "execution_count": 159,
     "metadata": {},
     "output_type": "execute_result"
    }
   ],
   "source": [
    "\"A B C\\n D\".split(\" \")"
   ]
  },
  {
   "cell_type": "code",
   "execution_count": 160,
   "id": "79dd5053-df52-4abb-8e3d-def9903340bc",
   "metadata": {},
   "outputs": [
    {
     "data": {
      "text/plain": [
       "['A', 'B', 'C\\x01', 'D', 'E\\n']"
      ]
     },
     "execution_count": 160,
     "metadata": {},
     "output_type": "execute_result"
    }
   ],
   "source": [
    "\"A B C\\1 D E\\n\".split(' ')"
   ]
  },
  {
   "cell_type": "code",
   "execution_count": 161,
   "id": "d0dd6c87-7133-4965-92ca-ac8b732206c2",
   "metadata": {},
   "outputs": [
    {
     "data": {
      "text/plain": [
       "2"
      ]
     },
     "execution_count": 161,
     "metadata": {},
     "output_type": "execute_result"
    }
   ],
   "source": [
    "int(\"A B C\\1 D 2\\n\".split(' ')[-1])"
   ]
  },
  {
   "cell_type": "code",
   "execution_count": 162,
   "id": "bd0f5908-04a6-48b3-b82f-cd2aeb0eec8a",
   "metadata": {},
   "outputs": [
    {
     "data": {
      "text/plain": [
       "4"
      ]
     },
     "execution_count": 162,
     "metadata": {},
     "output_type": "execute_result"
    }
   ],
   "source": [
    "int(\"1 2 3 4\".split(\" \")[3])"
   ]
  },
  {
   "cell_type": "code",
   "execution_count": 163,
   "id": "e44d2f22-8dc8-46c9-9f8a-ae8a89080d5c",
   "metadata": {},
   "outputs": [
    {
     "data": {
      "text/plain": [
       "2"
      ]
     },
     "execution_count": 163,
     "metadata": {},
     "output_type": "execute_result"
    }
   ],
   "source": [
    "int(\"A B C\\1 D 2\\n\".strip().split(' ')[-1])"
   ]
  },
  {
   "cell_type": "code",
   "execution_count": 164,
   "id": "eae43981-1f88-4879-a8f2-a9834b792ccd",
   "metadata": {},
   "outputs": [
    {
     "data": {
      "text/plain": [
       "1"
      ]
     },
     "execution_count": 164,
     "metadata": {},
     "output_type": "execute_result"
    }
   ],
   "source": [
    "len(\"A B C\\1 D E\\n\".strip().split(' ')[-1])"
   ]
  },
  {
   "cell_type": "code",
   "execution_count": 168,
   "id": "9baced30-b0fa-420f-a4bb-d62ad642f154",
   "metadata": {},
   "outputs": [
    {
     "data": {
      "text/plain": [
       "2"
      ]
     },
     "execution_count": 168,
     "metadata": {},
     "output_type": "execute_result"
    }
   ],
   "source": [
    "len(\"A B C\\1 D E\\n\".split(' ')[-1])"
   ]
  },
  {
   "cell_type": "code",
   "execution_count": 169,
   "id": "3a9dd3e9-fcfe-436e-a1eb-c579b8e9abe1",
   "metadata": {},
   "outputs": [
    {
     "data": {
      "text/plain": [
       "False"
      ]
     },
     "execution_count": 169,
     "metadata": {},
     "output_type": "execute_result"
    }
   ],
   "source": [
    "(\"A B C\\1 D E\\n\".split(' ')[-1] == \"E\")"
   ]
  },
  {
   "cell_type": "code",
   "execution_count": 170,
   "id": "2a2db0be-c1ab-4a65-934e-afa1aef9b112",
   "metadata": {},
   "outputs": [
    {
     "data": {
      "text/plain": [
       "True"
      ]
     },
     "execution_count": 170,
     "metadata": {},
     "output_type": "execute_result"
    }
   ],
   "source": [
    "(\"A B C\\1 D E\\n\".strip().split(' ')[-1] == \"E\")"
   ]
  }
 ],
 "metadata": {
  "kernelspec": {
   "display_name": "Python 3 (ipykernel)",
   "language": "python",
   "name": "python3"
  },
  "language_info": {
   "codemirror_mode": {
    "name": "ipython",
    "version": 3
   },
   "file_extension": ".py",
   "mimetype": "text/x-python",
   "name": "python",
   "nbconvert_exporter": "python",
   "pygments_lexer": "ipython3",
   "version": "3.9.7"
  }
 },
 "nbformat": 4,
 "nbformat_minor": 5
}
