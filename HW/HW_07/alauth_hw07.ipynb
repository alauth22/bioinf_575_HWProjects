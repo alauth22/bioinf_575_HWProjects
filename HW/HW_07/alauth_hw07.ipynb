{
 "cells": [
  {
   "cell_type": "markdown",
   "id": "774e6435-594a-48fc-86cc-204af94d474e",
   "metadata": {},
   "source": [
    "# BIOINF 575 HW 07: SQL"
   ]
  },
  {
   "cell_type": "markdown",
   "id": "1b6eca3c-6f3e-4fd9-af19-f483f2b0c9ac",
   "metadata": {},
   "source": [
    "## Problem #1: Python Package Exploration \n",
    "\n",
    "A. I will be exploring the package Mysql-Connector-Python. I found this package through the Anaconda link provided in the HW_07 PDF, under the packages category. Due to its long name, I'll be referring to it as mysql from now on. \n",
    "\n",
    "B. I selected this package because I really enjoyed the SQL lectures in class, and because I may need/would like to use SQL to build specific databases to organize possibly my own generated biological data (due to my wet lab background). So this package will help me explore more in-depth SQL.   \n",
    "\n",
    "C. GitHub/mysql-connector-python/setup.py -> Mysql requires Python versions 3, 3.6, 3.7, 3.8, and 3.9. \n",
    "\n",
    "D. GitHub/mysql-connector-python/setup.py -> When searching for \"Operating System\", I get \"OS Independent\" for mysql. \n",
    "\n",
    "E. GitHub/mysql-connector-python/setup.py -> Mysql requires the package called protobuf, version 3.0.0. \n",
    "\n",
    "F. Class chosen: \n",
    "\n",
    "    1. The class I chose is called DummySocket(object). It is found through this pathway: mysql-connector-python/tests/__init___.py/ and is located on line 173 in the code.  \n",
    "    \n",
    "    2. The class DummySocket tests socket connection (I looked this up and from my understanding, a socket is one endpoint of a two-way communication link between two programs running on the same network) without generating network activity (I looked this up too and I learned it means the amount of data moving across a computer network at any given time). The documentation stated it is a proxy class, which I looked up and learned that it receives client requests, performs work, and then passes the request to a service object. \n",
    "    \n",
    "    3. An object of this type could be used mainly for testing purposes before using real service objects by clients that would lead to network activity. My understanding could be wrong, but maybe this class can perform certain tests on requests, making sure those requests are filtered or pass certain criteria before being passed to a service object. \n",
    "    \n",
    "    4. Yes, it appears DummySocket inherits from one class called \"Object\".  \n",
    "    \n",
    "    5. To DummySocket, I would add the functionality of being able to check if the tables in the database do indeed contain the correct type of data that I want. If they do not contain the correct data, I want a specific error to be raised informing me that I must change such data type to avoid future problems when trying to do querys on the database. It will save a lot of headache I think!"
   ]
  },
  {
   "cell_type": "code",
   "execution_count": null,
   "id": "4b4fc604-1ba2-407b-971b-d749a57db2c5",
   "metadata": {},
   "outputs": [],
   "source": []
  },
  {
   "cell_type": "markdown",
   "id": "970fcb60-eaaf-442b-856d-3016068f0374",
   "metadata": {},
   "source": [
    "## Problem #2: SQL "
   ]
  },
  {
   "cell_type": "markdown",
   "id": "1c162aef-3a00-484a-80ba-6098742a20f0",
   "metadata": {},
   "source": [
    "### Part A: Creating SQL Database, Tables, and Indexes"
   ]
  },
  {
   "cell_type": "code",
   "execution_count": 147,
   "id": "7b5f7317-cb04-4c64-9b65-cd9aa23db751",
   "metadata": {},
   "outputs": [],
   "source": [
    "#create the database. \n",
    "from sqlite3 import connect \n",
    "connection = connect(\"worm_genome.sqlite\")\n",
    "cursor = connection.cursor()"
   ]
  },
  {
   "cell_type": "code",
   "execution_count": 148,
   "id": "a2b90802-795a-4448-bccd-006272cd87c6",
   "metadata": {},
   "outputs": [
    {
     "name": "stdout",
     "output_type": "stream",
     "text": [
      "done!\n"
     ]
    }
   ],
   "source": [
    "#create features table.\n",
    "#I took the error handeling code from class session 19 (Exception Handling). \n",
    "\n",
    "create_features = '''\n",
    "CREATE TABLE IF NOT EXISTS features (\n",
    "    feature_id INTEGER PRIMARY KEY AUTOINCREMENT,\n",
    "    seq_id TEXT NOT NULL,\n",
    "    source TEXT NOT NULL,\n",
    "    type_id TEXT NOT NULL,\n",
    "    start BIGINT NOT NULL, \n",
    "    end BIGINT NOT NULL, \n",
    "    score TEXT NOT NULL, --score REAL (no need to include NOT NULL)\n",
    "    strand TEXT NOT NULL, \n",
    "    phase TEXT NOT NULL\n",
    "    );\n",
    "'''\n",
    "\n",
    "try:\n",
    "    cursor.execute(create_features)\n",
    "except connection.DatabaseError:\n",
    "    print(\"Creating the features table resulted in a database error!\")\n",
    "    connection.rollback()\n",
    "    raise\n",
    "else:\n",
    "    connection.commit()\n",
    "finally:\n",
    "    print(\"done!\")"
   ]
  },
  {
   "cell_type": "code",
   "execution_count": 149,
   "id": "272c8a5f-1e68-473f-85e6-b84c727cfe95",
   "metadata": {},
   "outputs": [
    {
     "data": {
      "text/plain": [
       "[('features', 'table'), ('sqlite_sequence', 'table')]"
      ]
     },
     "execution_count": 149,
     "metadata": {},
     "output_type": "execute_result"
    }
   ],
   "source": [
    "#checking to ensure my features table was created in the database.\n",
    "select_master = \"SELECT name, type FROM sqlite_master;\"\n",
    "cursor.execute(select_master)\n",
    "cursor.fetchall()"
   ]
  },
  {
   "cell_type": "code",
   "execution_count": 150,
   "id": "b79eef60-f009-4ce0-b1b0-51a0029497c0",
   "metadata": {},
   "outputs": [
    {
     "name": "stdout",
     "output_type": "stream",
     "text": [
      "done!\n"
     ]
    }
   ],
   "source": [
    "#create attributes table.\n",
    "#I took the error handeling code from class session 19 (Exception Handling). \n",
    "\n",
    "create_attributes = '''\n",
    "CREATE TABLE IF NOT EXISTS attributes (\n",
    "    attr_id INTEGER PRIMARY KEY AUTOINCREMENT,\n",
    "    feature_id INTEGER NOT NULL,\n",
    "    attr_name TEXT NOT NULL, \n",
    "    value TEXT NOT NULL, \n",
    "    FOREIGN KEY (feature_id) REFERENCES features (feature_id)\n",
    "    );\n",
    "'''\n",
    "\n",
    "try:\n",
    "    cursor.execute(create_attributes)\n",
    "except connection.DatabaseError:\n",
    "    print(\"Creating the attributes table resulted in a database error!\")\n",
    "    connection.rollback()\n",
    "    raise\n",
    "else:\n",
    "    connection.commit()\n",
    "finally:\n",
    "    print(\"done!\")"
   ]
  },
  {
   "cell_type": "code",
   "execution_count": 151,
   "id": "547d199f-3a0f-49b0-b8ac-d6a2f4de07a5",
   "metadata": {},
   "outputs": [
    {
     "data": {
      "text/plain": [
       "[('features', 'table'), ('sqlite_sequence', 'table'), ('attributes', 'table')]"
      ]
     },
     "execution_count": 151,
     "metadata": {},
     "output_type": "execute_result"
    }
   ],
   "source": [
    "#checking to ensure my attributes table was created in the database. \n",
    "cursor.execute(select_master)\n",
    "cursor.fetchall()"
   ]
  },
  {
   "cell_type": "code",
   "execution_count": 152,
   "id": "6eba6040-165b-481f-9b3f-faed3ad4bd7d",
   "metadata": {},
   "outputs": [],
   "source": [
    "#creating the indexes for features table. \n",
    "create_feat_type_index = '''\n",
    "CREATE INDEX type_idx\n",
    "ON features (type_id);\n",
    "'''\n",
    "cursor.execute(create_feat_type_index)\n",
    "connection.commit()"
   ]
  },
  {
   "cell_type": "code",
   "execution_count": 153,
   "id": "5453ba30-cd29-4b6c-9c05-194e29f42387",
   "metadata": {},
   "outputs": [],
   "source": [
    "create_start_index = '''\n",
    "CREATE INDEX start_idx\n",
    "ON features (start);\n",
    "'''\n",
    "cursor.execute(create_start_index)\n",
    "connection.commit()"
   ]
  },
  {
   "cell_type": "code",
   "execution_count": 154,
   "id": "0bd88e0a-a2a5-4237-8a04-a21ccdad628a",
   "metadata": {},
   "outputs": [],
   "source": [
    "create_end_index = '''\n",
    "CREATE INDEX end_idx\n",
    "ON features (end);\n",
    "'''\n",
    "cursor.execute(create_end_index)\n",
    "connection.commit()"
   ]
  },
  {
   "cell_type": "code",
   "execution_count": 155,
   "id": "c414fa27-29c6-48b3-98ed-7d7c1e93d31b",
   "metadata": {},
   "outputs": [],
   "source": [
    "#creating the indexes for attributes table. \n",
    "create_feature_id_index = '''\n",
    "CREATE INDEX feature_id_idx\n",
    "ON attributes (feature_id);\n",
    "'''\n",
    "cursor.execute(create_feature_id_index)\n",
    "connection.commit()"
   ]
  },
  {
   "cell_type": "code",
   "execution_count": 156,
   "id": "225756d7-16eb-4cde-864a-31c8ffcb4075",
   "metadata": {},
   "outputs": [],
   "source": [
    "create_attr_name_index = '''\n",
    "CREATE INDEX attr_name_idx\n",
    "ON attributes (attr_name);\n",
    "'''\n",
    "cursor.execute(create_attr_name_index)\n",
    "connection.commit()"
   ]
  },
  {
   "cell_type": "code",
   "execution_count": 157,
   "id": "bb174a60-5a8e-4e22-829a-2a23c965fe88",
   "metadata": {},
   "outputs": [
    {
     "data": {
      "text/plain": [
       "[('features', 'table'),\n",
       " ('sqlite_sequence', 'table'),\n",
       " ('attributes', 'table'),\n",
       " ('type_idx', 'index'),\n",
       " ('start_idx', 'index'),\n",
       " ('end_idx', 'index'),\n",
       " ('feature_id_idx', 'index'),\n",
       " ('attr_name_idx', 'index')]"
      ]
     },
     "execution_count": 157,
     "metadata": {},
     "output_type": "execute_result"
    }
   ],
   "source": [
    "#checking both tables and all indexes that I just created are in my database, which they are!\n",
    "cursor.execute(select_master)\n",
    "cursor.fetchall()"
   ]
  },
  {
   "cell_type": "code",
   "execution_count": null,
   "id": "e31edea0-96ea-4ffb-9721-41e94dd40901",
   "metadata": {},
   "outputs": [],
   "source": []
  },
  {
   "cell_type": "markdown",
   "id": "cc2ea2ed-fdf7-4a21-950e-ca48707a258b",
   "metadata": {},
   "source": [
    "### Part B: Populating the Database"
   ]
  },
  {
   "cell_type": "code",
   "execution_count": 158,
   "id": "ce6ee864-beff-49dd-8d10-370941f638d2",
   "metadata": {},
   "outputs": [],
   "source": [
    "#inserting the data from the gff file into both features and attributes tables. \n",
    "#I implemented code from study session 11 and class session 23 to parse and populate this specific database. \n",
    "#the insert commands are executed while parsing the gff file. \n",
    "#commented lines besides those describing the line of code are other ways I could parsed the gff file; ways \n",
    "#that I explored with Cristina. They are there for future reference only. \n",
    "\n",
    "insert_features = '''\n",
    "INSERT INTO features (seq_id, source, type_id, start, end, score, strand, phase)\n",
    "VALUES (?,?,?,?,?,?,?,?); --how many values we want to insert. Template/placeholder. \n",
    "'''\n",
    "\n",
    "insert_attributes = '''\n",
    "INSERT INTO attributes (feature_id, attr_name, value)\n",
    "VALUES (?,?,?);\n",
    "'''\n",
    "\n",
    "#parsing the gff file below:\n",
    "#opening the file to read the input data for tables. \n",
    "with open(\"worm_genome.gff3\") as worm_genome_file:\n",
    "    #going through each line in the file. \n",
    "    for line in worm_genome_file:\n",
    "        #disregard the lines beginning with #'s.\n",
    "        if not line.startswith(\"#\"):\n",
    "            #split the lines by tab. Not sure about strip\n",
    "            #so maybe strip is not needed/extra.\n",
    "            line_elems = line.strip().split(\"\\t\")\n",
    "            #assign each column in my features table to the respective input from the file.\n",
    "            seq_id = line_elems[0]\n",
    "            source = line_elems[1]\n",
    "            type_id = line_elems[2]\n",
    "            start = line_elems[3]\n",
    "#             start = int(line_elems[3])\n",
    "#             if line_elems[3] == \".\":\n",
    "#                 start = -1\n",
    "#             else: \n",
    "#                 start = int(line_elems[3])\n",
    "            end = line_elems[4]\n",
    "            score = line_elems[5]\n",
    "#             if line_elems[5] == \".\":\n",
    "#                 score = \"NULL\"\n",
    "#             else:\n",
    "#                 score = float(line_elems[5])\n",
    "            strand = line_elems[6]\n",
    "            phase = line_elems[7]\n",
    "            #setting all these variables equal to one variable. \n",
    "            features_data = (seq_id, source, type_id, start, end, score, strand, phase)\n",
    "            #SQL to insert features_data into features table. Insert command above.\n",
    "            cursor.execute(insert_features, features_data)\n",
    "            \n",
    "            #Using lastrowid to return the value generated from the autoincrement \n",
    "            #column in the features table. Needed because we need feature_id to be included in the attributes table. \n",
    "            feature_id = cursor.lastrowid\n",
    "            #take the last element in the line_elems list. That will contain the data for attributes. \n",
    "            attr_str = line_elems[-1]\n",
    "            #go through each pair of attributes and split by \";\".\n",
    "            for pair in attr_str.split(\";\"):\n",
    "                #splitting the pair by name and value_name\n",
    "                name, values = pair.split(\"=\")\n",
    "                #go through each element in the value list and split by \",\".\n",
    "                for value_name in values.split(\",\"):\n",
    "                    attr_name = name \n",
    "                    value = value_name\n",
    "                    attributes_data = (feature_id, attr_name, value)\n",
    "                    cursor.execute(insert_attributes, attributes_data)\n",
    "                    \n",
    "                    #break"
   ]
  },
  {
   "cell_type": "code",
   "execution_count": 171,
   "id": "0d9b177e-bd25-4181-9907-97f259d29dee",
   "metadata": {},
   "outputs": [
    {
     "data": {
      "text/plain": [
       "[(1, 'I', 'WormBase', 'chromosome', 1, 15072434, '.', '.', '.'),\n",
       " (2, 'I', 'WormBase', 'ncRNA_gene', 3747, 3909, '.', '-', '.'),\n",
       " (3, 'I', 'WormBase', 'snoRNA', 3747, 3909, '.', '-', '.'),\n",
       " (4, 'I', 'WormBase', 'exon', 3747, 3909, '.', '-', '.'),\n",
       " (5, 'I', 'WormBase', 'gene', 4116, 10230, '.', '-', '.'),\n",
       " (6, 'I', 'WormBase', 'mRNA', 4116, 10230, '.', '-', '.'),\n",
       " (7, 'I', 'WormBase', 'three_prime_UTR', 4116, 4220, '.', '-', '.'),\n",
       " (8, 'I', 'WormBase', 'exon', 4116, 4358, '.', '-', '.'),\n",
       " (9, 'I', 'WormBase', 'CDS', 4221, 4358, '.', '-', '0'),\n",
       " (10, 'I', 'WormBase', 'exon', 5195, 5296, '.', '-', '.'),\n",
       " (11, 'I', 'WormBase', 'CDS', 5195, 5296, '.', '-', '0'),\n",
       " (12, 'I', 'WormBase', 'exon', 6037, 6327, '.', '-', '.'),\n",
       " (13, 'I', 'WormBase', 'CDS', 6037, 6327, '.', '-', '0'),\n",
       " (14, 'I', 'WormBase', 'exon', 9727, 9846, '.', '-', '.'),\n",
       " (15, 'I', 'WormBase', 'CDS', 9727, 9846, '.', '-', '0'),\n",
       " (16, 'I', 'WormBase', 'CDS', 10095, 10148, '.', '-', '0'),\n",
       " (17, 'I', 'WormBase', 'exon', 10095, 10230, '.', '-', '.'),\n",
       " (18, 'I', 'WormBase', 'five_prime_UTR', 10149, 10230, '.', '-', '.'),\n",
       " (19, 'I', 'WormBase', 'gene', 11495, 16837, '.', '+', '.'),\n",
       " (20, 'I', 'WormBase', 'mRNA', 11495, 16793, '.', '+', '.')]"
      ]
     },
     "execution_count": 171,
     "metadata": {},
     "output_type": "execute_result"
    }
   ],
   "source": [
    "select_features = \"SELECT * FROM features LIMIT 20;\"\n",
    "cursor.execute(select_features)\n",
    "cursor.fetchall()"
   ]
  },
  {
   "cell_type": "code",
   "execution_count": 172,
   "id": "91ac403a-4db8-43f5-8bfc-23ede2e350e2",
   "metadata": {},
   "outputs": [
    {
     "data": {
      "text/plain": [
       "[(1, 1, 'ID', 'chromosome:I'),\n",
       " (2, 1, 'Alias', 'BX284601.5'),\n",
       " (3, 1, 'Alias', 'NC_003279.8'),\n",
       " (4, 2, 'ID', 'gene:WBGene00023193'),\n",
       " (5, 2, 'Name', 'Y74C9A.6'),\n",
       " (6, 2, 'biotype', 'snoRNA'),\n",
       " (7, 2, 'gene_id', 'WBGene00023193'),\n",
       " (8, 2, 'logic_name', 'wormbase_non_coding'),\n",
       " (9, 3, 'ID', 'transcript:Y74C9A.6'),\n",
       " (10, 3, 'Parent', 'gene:WBGene00023193'),\n",
       " (11, 3, 'Name', 'Y74C9A.6'),\n",
       " (12, 3, 'biotype', 'snoRNA'),\n",
       " (13, 3, 'transcript_id', 'Y74C9A.6'),\n",
       " (14, 4, 'Parent', 'transcript:Y74C9A.6'),\n",
       " (15, 4, 'Name', 'Y74C9A.6.e1'),\n",
       " (16, 4, 'constitutive', '1'),\n",
       " (17, 4, 'ensembl_end_phase', '-1'),\n",
       " (18, 4, 'ensembl_phase', '-1'),\n",
       " (19, 4, 'exon_id', 'Y74C9A.6.e1'),\n",
       " (20, 4, 'rank', '1')]"
      ]
     },
     "execution_count": 172,
     "metadata": {},
     "output_type": "execute_result"
    }
   ],
   "source": [
    "select_attributes = \"SELECT * FROM attributes LIMIT 20;\"\n",
    "cursor.execute(select_attributes)\n",
    "cursor.fetchall()"
   ]
  },
  {
   "cell_type": "code",
   "execution_count": 173,
   "id": "e1f71dbb-26d2-44f7-9f1a-37a2350ae827",
   "metadata": {},
   "outputs": [],
   "source": [
    "#need to commit before moving on to Query. \n",
    "connection.commit()"
   ]
  },
  {
   "cell_type": "code",
   "execution_count": null,
   "id": "ee8601f7-5338-4438-94a3-678a48a946fe",
   "metadata": {},
   "outputs": [],
   "source": []
  },
  {
   "cell_type": "markdown",
   "id": "8c84cd84-5247-42cd-b647-21d975f0461a",
   "metadata": {},
   "source": [
    "### Part C: Query the Database"
   ]
  },
  {
   "cell_type": "code",
   "execution_count": 174,
   "id": "f57a0371-8986-4553-8c4f-68abc579d9ba",
   "metadata": {},
   "outputs": [],
   "source": [
    "#function to obtain the header taken from the class session 23 notebook. \n",
    "def get_header(cursor):\n",
    "    '''\n",
    "    Makes a tab delimited header row from the cursor description.\n",
    "    Arguments:\n",
    "        cursor: a cursor after a select query\n",
    "    Returns:\n",
    "        string: A string consisting of the column names separated by tabs, no new line\n",
    "    '''\n",
    "    return '\\t'.join([row[0] for row in cursor.description])"
   ]
  },
  {
   "cell_type": "code",
   "execution_count": 175,
   "id": "621aa97a-626c-4a4b-b72d-fe3387926a57",
   "metadata": {},
   "outputs": [],
   "source": [
    "#function to obtain the results taken from the class session 23 notebook. \n",
    "def get_results(cursor):\n",
    "    '''\n",
    "    Makes a tab delimited table from the cursor results.\n",
    "    Arguments:\n",
    "        cursor: a cursor after a select query\n",
    "    Returns:\n",
    "        string: A string consisting of the column names separated by tabs, no new line\n",
    "    ''' \n",
    "    res = list()\n",
    "    for row in cursor.fetchall():        \n",
    "        res.append('\\t'.join(list(map(str,row))))\n",
    "    return \"\\n\".join(res)"
   ]
  },
  {
   "cell_type": "code",
   "execution_count": 176,
   "id": "def53f57-97eb-44d9-9f48-cf5909d596a8",
   "metadata": {},
   "outputs": [
    {
     "name": "stdout",
     "output_type": "stream",
     "text": [
      "count(*)\n",
      "659621\n"
     ]
    }
   ],
   "source": [
    "#Query #1: Count the number of rows in the features table. \n",
    "count_rows_features = \"SELECT count(*) FROM features;\"\n",
    "cursor.execute(count_rows_features)\n",
    "print(get_header(cursor))\n",
    "print(get_results(cursor))"
   ]
  },
  {
   "cell_type": "code",
   "execution_count": 177,
   "id": "ca722f71-14c2-4742-b5f0-bb5f21b7e5dc",
   "metadata": {},
   "outputs": [
    {
     "name": "stdout",
     "output_type": "stream",
     "text": [
      "count(*)\n",
      "3436229\n"
     ]
    }
   ],
   "source": [
    "#Query #2: Count the number of rows in the attributes table. \n",
    "count_rows_attributes = \"SELECT count(*) FROM attributes;\"\n",
    "cursor.execute(count_rows_attributes)\n",
    "print(get_header(cursor))\n",
    "print(get_results(cursor))"
   ]
  },
  {
   "cell_type": "code",
   "execution_count": 178,
   "id": "20704895-2a0c-4724-92a4-e379068ecc29",
   "metadata": {
    "tags": []
   },
   "outputs": [
    {
     "name": "stdout",
     "output_type": "stream",
     "text": [
      "type_id\tcount(feature_id)\n",
      "CDS\t222859\n",
      "chromosome\t7\n",
      "exon\t269904\n",
      "five_prime_UTR\t30960\n",
      "gene\t20222\n",
      "lnc_RNA\t283\n",
      "mRNA\t33391\n",
      "miRNA\t454\n",
      "ncRNA\t8402\n",
      "ncRNA_gene\t24765\n",
      "piRNA\t15364\n",
      "pre_miRNA\t257\n",
      "pseudogene\t1791\n",
      "pseudogenic_transcript\t1827\n",
      "rRNA\t22\n",
      "snRNA\t130\n",
      "snoRNA\t345\n",
      "tRNA\t634\n",
      "three_prime_UTR\t28004\n"
     ]
    }
   ],
   "source": [
    "#Query #3: Display the type and number of features for each type from the features table. \n",
    "count_type_features = '''\n",
    "SELECT DISTINCT type_id, count(feature_id) \n",
    "FROM features\n",
    "GROUP BY type_id;\n",
    "'''\n",
    "cursor.execute(count_type_features)\n",
    "print(get_header(cursor))\n",
    "print(get_results(cursor))"
   ]
  },
  {
   "cell_type": "code",
   "execution_count": 179,
   "id": "4d1dd426-0d87-400c-8c60-5513c31147c4",
   "metadata": {
    "tags": []
   },
   "outputs": [
    {
     "name": "stdout",
     "output_type": "stream",
     "text": [
      "seq_id\ttype_id\tattr_name\tvalue\n",
      "I\tchromosome\tID\tchromosome:I\n",
      "I\tchromosome\tAlias\tBX284601.5\n",
      "I\tchromosome\tAlias\tNC_003279.8\n",
      "II\tchromosome\tID\tchromosome:II\n",
      "II\tchromosome\tAlias\tBX284602.5\n",
      "II\tchromosome\tAlias\tNC_003280.10\n",
      "III\tchromosome\tID\tchromosome:III\n",
      "III\tchromosome\tAlias\tBX284603.4\n",
      "III\tchromosome\tAlias\tNC_003281.10\n",
      "IV\tchromosome\tID\tchromosome:IV\n",
      "IV\tchromosome\tAlias\tBX284604.4\n",
      "IV\tchromosome\tAlias\tNC_003282.8\n",
      "MtDNA\tchromosome\tID\tchromosome:MtDNA\n",
      "MtDNA\tchromosome\tAlias\tX54252.1\n",
      "MtDNA\tchromosome\tAlias\tNC_001328.1\n",
      "V\tchromosome\tID\tchromosome:V\n",
      "V\tchromosome\tAlias\tBX284605.5\n",
      "V\tchromosome\tAlias\tNC_003283.11\n",
      "X\tchromosome\tID\tchromosome:X\n",
      "X\tchromosome\tAlias\tBX284606.5\n",
      "X\tchromosome\tAlias\tNC_003284.9\n"
     ]
    }
   ],
   "source": [
    "#Query #4: Display the seq_id and type from the features table and the attr_name and value from the attributes table \n",
    "#for all the features with the type chromosome.\n",
    "display_cols_both_tables = '''\n",
    "SELECT seq_id, type_id, attr_name, value \n",
    "FROM features feat\n",
    "INNER JOIN attributes att ON feat.feature_id = att.feature_id\n",
    "WHERE type_id = 'chromosome';\n",
    "'''\n",
    "cursor.execute(display_cols_both_tables)\n",
    "print(get_header(cursor))\n",
    "print(get_results(cursor))"
   ]
  },
  {
   "cell_type": "code",
   "execution_count": 182,
   "id": "89d5fbaf-6b4d-4c7c-90a2-4da5e81818cd",
   "metadata": {},
   "outputs": [
    {
     "name": "stdout",
     "output_type": "stream",
     "text": [
      "type_id\tcount(att.feature_id)\n",
      "CDS\t668577\n",
      "exon\t2159232\n",
      "five_prime_UTR\t30960\n",
      "gene\t111530\n",
      "lnc_RNA\t1415\n",
      "mRNA\t166955\n",
      "miRNA\t2270\n",
      "ncRNA\t42010\n",
      "ncRNA_gene\t123825\n",
      "piRNA\t76820\n",
      "pre_miRNA\t1285\n",
      "pseudogene\t8745\n",
      "pseudogenic_transcript\t8925\n",
      "rRNA\t110\n",
      "snRNA\t650\n",
      "snoRNA\t1725\n",
      "tRNA\t3170\n",
      "three_prime_UTR\t28004\n"
     ]
    }
   ],
   "source": [
    "#Query #5: Display the type from the features table and the number of attributes (using also the attributes table)\n",
    "#for each feature type that has more than 50 attributes.\n",
    "display_type_number_of_attr = '''\n",
    "SELECT type_id, count(att.feature_id)\n",
    "FROM features feat\n",
    "INNER JOIN attributes att ON feat.feature_id = att.feature_id\n",
    "GROUP BY feat.type_id\n",
    "HAVING count(att.feature_id) > 50;\n",
    "'''\n",
    "cursor.execute(display_type_number_of_attr)\n",
    "print(get_header(cursor))\n",
    "print(get_results(cursor))"
   ]
  },
  {
   "cell_type": "code",
   "execution_count": null,
   "id": "ee5cfbf7-e905-4f90-90a9-0bef03b3f010",
   "metadata": {},
   "outputs": [],
   "source": []
  }
 ],
 "metadata": {
  "kernelspec": {
   "display_name": "Python 3 (ipykernel)",
   "language": "python",
   "name": "python3"
  },
  "language_info": {
   "codemirror_mode": {
    "name": "ipython",
    "version": 3
   },
   "file_extension": ".py",
   "mimetype": "text/x-python",
   "name": "python",
   "nbconvert_exporter": "python",
   "pygments_lexer": "ipython3",
   "version": "3.9.7"
  }
 },
 "nbformat": 4,
 "nbformat_minor": 5
}
