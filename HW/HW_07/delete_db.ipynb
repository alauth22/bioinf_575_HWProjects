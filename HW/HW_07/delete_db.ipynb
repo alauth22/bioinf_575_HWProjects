{
 "cells": [
  {
   "cell_type": "code",
   "execution_count": 2,
   "id": "4bd8735b-5887-4ea7-8b70-f9dfcee1ac9e",
   "metadata": {},
   "outputs": [],
   "source": [
    "from sqlite3 import connect"
   ]
  },
  {
   "cell_type": "code",
   "execution_count": 3,
   "id": "4e85d418-10a5-4565-a77e-7cc615d6976e",
   "metadata": {},
   "outputs": [],
   "source": [
    "connection = connect(\"worm_genome.sqlite\")"
   ]
  },
  {
   "cell_type": "code",
   "execution_count": 4,
   "id": "2f58d8ff-36c0-4032-a1d6-21e454acd222",
   "metadata": {},
   "outputs": [],
   "source": [
    "cursor = connection.cursor()"
   ]
  },
  {
   "cell_type": "code",
   "execution_count": 5,
   "id": "4bd87760-22bf-4eea-aead-704d23659f2f",
   "metadata": {},
   "outputs": [],
   "source": [
    "connection.commit()"
   ]
  },
  {
   "cell_type": "code",
   "execution_count": 6,
   "id": "51fd4b3c-b287-46cd-93fe-a5c3b198290a",
   "metadata": {},
   "outputs": [],
   "source": [
    "cursor.close()\n",
    "connection.close()"
   ]
  },
  {
   "cell_type": "code",
   "execution_count": 7,
   "id": "64c16c49-546f-477d-a057-6cbb829812a4",
   "metadata": {},
   "outputs": [],
   "source": [
    "connection = connect(\"worm_genome2.sqlite\")"
   ]
  },
  {
   "cell_type": "code",
   "execution_count": 8,
   "id": "d8fc6f98-276c-4c49-af98-695c7cf9ce77",
   "metadata": {},
   "outputs": [],
   "source": [
    "cursor = connection.cursor()"
   ]
  },
  {
   "cell_type": "code",
   "execution_count": 9,
   "id": "e2770225-bff5-4d5b-90c7-69b253ac6ac1",
   "metadata": {},
   "outputs": [],
   "source": [
    "connection.commit()"
   ]
  },
  {
   "cell_type": "code",
   "execution_count": 10,
   "id": "34577e72-32b2-4675-959f-4af17eef25d5",
   "metadata": {},
   "outputs": [],
   "source": [
    "cursor.close()\n",
    "connection.close()"
   ]
  },
  {
   "cell_type": "code",
   "execution_count": null,
   "id": "4da8945e-debe-4989-a31b-7c2f3b485b22",
   "metadata": {},
   "outputs": [],
   "source": []
  }
 ],
 "metadata": {
  "kernelspec": {
   "display_name": "Python 3",
   "language": "python",
   "name": "python3"
  },
  "language_info": {
   "codemirror_mode": {
    "name": "ipython",
    "version": 3
   },
   "file_extension": ".py",
   "mimetype": "text/x-python",
   "name": "python",
   "nbconvert_exporter": "python",
   "pygments_lexer": "ipython3",
   "version": "3.8.8"
  }
 },
 "nbformat": 4,
 "nbformat_minor": 5
}
