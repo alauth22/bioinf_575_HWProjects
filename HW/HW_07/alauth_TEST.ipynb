{
 "cells": [
  {
   "cell_type": "markdown",
   "id": "2c18605f-8486-403f-817d-e53a9c97f668",
   "metadata": {},
   "source": [
    "## Problem #1: Python Package Exploration \n",
    "\n",
    "A. I will be exploring python/anaconda package called openml. \n",
    "\n",
    "B. I selected this package because I am interested in using machine learning in my research and I have already been introduced with the machine learning library scikit in Python. I may want to use datasets and tasks from the machine learning site OpenML along with scikit-learn and share my results online. So it would be wise to familiarize myself with this package. \n",
    "\n",
    "C. GitHub/openml-python/setup.py -> openml requires Python 3.6 or higher (line 14 and 46). \n",
    "\n",
    "D. GitHub/openml-python/setup.py -> openml requires the operating systems POSIX, Unix, MacOS. \n",
    "\n",
    "E. GitHub/openml-python/setup.py -> openml's dependencies are liac-arff 2.4.0 or higher, xmltodict, requests, scikit-learn 0.18 or higher, python-dateutil (installed through pandas), pandas 1.0.0 or higher, scipy 0.13.3 or higher, numpy 1.6.2 or higher, minio, and pyarrow. \n",
    "\n",
    "F. Class chosen (GitHub/openml-python/tests/test_datasets/test_dataset.py)\n",
    "\n",
    "    1. The class is called OpenMLClusteringTaskTets(OpenML TaskTest) and it is located from the main GitHub openml page tests folder -> test_tasks -> test_clustering_task.py. In test_clustering_task.py file, the class begins on line 10. \n",
    "    \n",
    "    2. The purpose of this object is to ensure that the openml package is able to correctly identify when it can perform clustering tasks and if the dataset is compatible for such a class. It also makes sure it can download datasets that would have missing values, categoreies, strings, or maybe some datasets that have boolean features. \n",
    "    \n",
    "    3. You can use it to make sure no clustering is done on a test server as well as seeing if you can upload a cluster task without a ground truth. \n",
    "    \n",
    "    4. Yes it does inherit from other classes, which can be found at the top of the file. They are TaskType, TestBase, OpenMLTaskTest, and OpenMLServerException. \n",
    "    \n",
    "    5. It would be nice to create a feature for this class to be able to include a dataset that contained some calculation and to ensure you do not have any wrong calcualations occurring, such as division by 0. "
   ]
  },
  {
   "cell_type": "code",
   "execution_count": null,
   "id": "336c250c-762f-427d-b7a0-19d057cbb397",
   "metadata": {},
   "outputs": [],
   "source": []
  },
  {
   "cell_type": "markdown",
   "id": "a250f087-6bb5-465f-bd36-2ff3171bf3c4",
   "metadata": {},
   "source": [
    "## Problem #2: SQL Database Creation \n",
    "\n"
   ]
  },
  {
   "cell_type": "markdown",
   "id": "e1904e78-2e37-4823-a44a-af4c6e7c3a84",
   "metadata": {},
   "source": [
    "## Part A:"
   ]
  },
  {
   "cell_type": "code",
   "execution_count": 44,
   "id": "08fe7e3b-f050-48bc-adbe-19c161ef1895",
   "metadata": {},
   "outputs": [],
   "source": [
    "#will use the SQL commands create, insert, and select.\n",
    "#Below created worm_genome.sqlite database. \n",
    "from sqlite3 import connect\n",
    "connection = connect(\"worm_genome3.sqlite\")"
   ]
  },
  {
   "cell_type": "code",
   "execution_count": 45,
   "id": "dce28d7f-657c-4bde-84b1-7ebcbdcee56d",
   "metadata": {},
   "outputs": [],
   "source": [
    "cursor = connection.cursor()"
   ]
  },
  {
   "cell_type": "code",
   "execution_count": 46,
   "id": "9bb1a071-8024-46b5-a909-1190658c6be0",
   "metadata": {},
   "outputs": [
    {
     "data": {
      "text/plain": [
       "<sqlite3.Cursor at 0x23853bb0ab0>"
      ]
     },
     "execution_count": 46,
     "metadata": {},
     "output_type": "execute_result"
    }
   ],
   "source": [
    "sql = '''SELECT type, name FROM sqlite_master LIMIT 5;'''\n",
    "cursor.execute(sql)"
   ]
  },
  {
   "cell_type": "code",
   "execution_count": 47,
   "id": "828def01-48c4-499f-a3aa-447266120c26",
   "metadata": {},
   "outputs": [
    {
     "data": {
      "text/plain": [
       "<sqlite3.Cursor at 0x23853bb0ab0>"
      ]
     },
     "execution_count": 47,
     "metadata": {},
     "output_type": "execute_result"
    }
   ],
   "source": [
    "sql = '''\n",
    "SELECT sql\n",
    "FROM sqlite_master;\n",
    "'''\n",
    "cursor.execute(sql)"
   ]
  },
  {
   "cell_type": "code",
   "execution_count": null,
   "id": "6293c369-740d-4e0a-9f29-9958e3fc0cd6",
   "metadata": {},
   "outputs": [],
   "source": [
    " "
   ]
  },
  {
   "cell_type": "code",
   "execution_count": 48,
   "id": "364d80dc-90b4-44df-a2b8-19ce693e2983",
   "metadata": {},
   "outputs": [
    {
     "name": "stdout",
     "output_type": "stream",
     "text": [
      "done!\n"
     ]
    }
   ],
   "source": [
    "#creating the features table below. \n",
    "create_features = '''\n",
    "CREATE TABLE IF NOT EXISTS features \n",
    "    (feature_id INTEGER PRIMARY KEY AUTOINCREMENT, \n",
    "    seq_id TEXT NOT NULL, \n",
    "    source TEXT NOT NULL, \n",
    "    type TEXT NOT NULL, \n",
    "    start TEXT NOT NULL, \n",
    "    end TEXT NOT NULL, \n",
    "    score TEXT NOT NULL, \n",
    "    strand TEXT NOT NULL, \n",
    "    phase TEXT NOT NULL);\n",
    "'''\n",
    "try:\n",
    "    cursor.execute(sql)\n",
    "except connection.DatabaseError:\n",
    "    print(\"Creating the survey_summary table resulted in a database error!\")\n",
    "    connection.rollback() #rollback if you get an error message \n",
    "    raise\n",
    "else:\n",
    "    connection.commit() #commit if you don't get an error message\n",
    "finally:\n",
    "    print(\"done!\")"
   ]
  },
  {
   "cell_type": "code",
   "execution_count": 49,
   "id": "6b2d568c-8885-4d8f-88be-e77715ce2204",
   "metadata": {},
   "outputs": [
    {
     "data": {
      "text/plain": [
       "<sqlite3.Cursor at 0x23853bb0ab0>"
      ]
     },
     "execution_count": 49,
     "metadata": {},
     "output_type": "execute_result"
    }
   ],
   "source": [
    "cursor.execute(create_features)"
   ]
  },
  {
   "cell_type": "code",
   "execution_count": 50,
   "id": "0ac43284-24a1-4345-92c4-081ec67412f6",
   "metadata": {},
   "outputs": [],
   "source": [
    "connection.commit()"
   ]
  },
  {
   "cell_type": "code",
   "execution_count": 51,
   "id": "1b66fd9a-d71f-4111-a2a8-fad27c43f401",
   "metadata": {},
   "outputs": [
    {
     "data": {
      "text/plain": [
       "[('features', 'table'),\n",
       " ('sqlite_sequence', 'table'),\n",
       " ('attributes', 'table'),\n",
       " ('type_idx', 'index'),\n",
       " ('start_idx', 'index'),\n",
       " ('end_idx', 'index'),\n",
       " ('feature_id_idx', 'index'),\n",
       " ('name_idx', 'index')]"
      ]
     },
     "execution_count": 51,
     "metadata": {},
     "output_type": "execute_result"
    }
   ],
   "source": [
    "#checking the sqlite_master to make sure the table is present. \n",
    "sql = 'SELECT name, type FROM sqlite_master;'\n",
    "cursor.execute(sql)\n",
    "cursor.fetchall()"
   ]
  },
  {
   "cell_type": "code",
   "execution_count": 52,
   "id": "4bd48bfe-fb85-4c23-ae78-a0a6769d25af",
   "metadata": {},
   "outputs": [
    {
     "name": "stdout",
     "output_type": "stream",
     "text": [
      "done!\n"
     ]
    }
   ],
   "source": [
    "#creating the attributes table below. \n",
    "create_attributes = '''\n",
    "CREATE TABLE IF NOT EXISTS attributes\n",
    "    (attr_id INTEGER PRIMARY KEY AUTOINCREMENT,\n",
    "    feature_id INTEGER NOT NULL,\n",
    "    attr_name TEXT NOT NULL, \n",
    "    value TEXT NOT NULL, \n",
    "    FOREIGN KEY (feature_id) REFERENCES features (feature_id)\n",
    "    );\n",
    "'''\n",
    "try:\n",
    "    cursor.execute(sql)\n",
    "except connection.DatabaseError:\n",
    "    print(\"Creating the survey_summary table resulted in a database error!\")\n",
    "    connection.rollback() #rollback if you get an error message \n",
    "    raise\n",
    "else:\n",
    "    connection.commit() #commit if you don't get an error message\n",
    "finally:\n",
    "    print(\"done!\")"
   ]
  },
  {
   "cell_type": "code",
   "execution_count": 21,
   "id": "003e5b7e-4229-4582-836b-37555323647d",
   "metadata": {},
   "outputs": [
    {
     "data": {
      "text/plain": [
       "<sqlite3.Cursor at 0x23853ae4420>"
      ]
     },
     "execution_count": 21,
     "metadata": {},
     "output_type": "execute_result"
    }
   ],
   "source": [
    "cursor.execute(create_attributes)"
   ]
  },
  {
   "cell_type": "code",
   "execution_count": 22,
   "id": "d8a61a26-8162-4be8-9353-064c7d0bb107",
   "metadata": {},
   "outputs": [
    {
     "data": {
      "text/plain": [
       "[('features', 'table'), ('sqlite_sequence', 'table'), ('attributes', 'table')]"
      ]
     },
     "execution_count": 22,
     "metadata": {},
     "output_type": "execute_result"
    }
   ],
   "source": [
    "#we have both tables that we just created! #sqlite_sequence is created with autoincrement. \n",
    "sql = 'SELECT name, type FROM sqlite_master;'\n",
    "cursor.execute(sql)\n",
    "cursor.fetchall()"
   ]
  },
  {
   "cell_type": "code",
   "execution_count": 24,
   "id": "ddfbdba2-c4a1-4520-8088-eadf48d52d60",
   "metadata": {},
   "outputs": [],
   "source": [
    "sql = '''\n",
    "CREATE INDEX type_idx\n",
    "ON features (type);\n",
    "'''"
   ]
  },
  {
   "cell_type": "code",
   "execution_count": 25,
   "id": "1836c42a-24da-4746-a5ff-823f46b3a3bf",
   "metadata": {},
   "outputs": [
    {
     "data": {
      "text/plain": [
       "<sqlite3.Cursor at 0x23853ae4420>"
      ]
     },
     "execution_count": 25,
     "metadata": {},
     "output_type": "execute_result"
    }
   ],
   "source": [
    "cursor.execute(sql)"
   ]
  },
  {
   "cell_type": "code",
   "execution_count": 26,
   "id": "cab4a159-028f-4639-9e0f-04bdaa82b34c",
   "metadata": {},
   "outputs": [],
   "source": [
    "connection.commit()"
   ]
  },
  {
   "cell_type": "code",
   "execution_count": 27,
   "id": "89c75fbf-e388-46f0-aa2b-d55837aaf007",
   "metadata": {},
   "outputs": [
    {
     "name": "stdout",
     "output_type": "stream",
     "text": [
      "name\tsql\n",
      "type_idx\tCREATE INDEX type_idx\n",
      "ON features (type)\n"
     ]
    }
   ],
   "source": [
    "sql = '''\n",
    "SELECT name, sql\n",
    "FROM sqlite_master \n",
    "WHERE type= \"index\";\n",
    "'''\n",
    "cursor.execute(sql)\n",
    "print(get_header(cursor))\n",
    "print(get_results(cursor))"
   ]
  },
  {
   "cell_type": "code",
   "execution_count": null,
   "id": "a7295f63-3752-4fef-a9d0-acc637885201",
   "metadata": {},
   "outputs": [],
   "source": [
    "# CREATE INDEX indexName ON tableName (columnName)"
   ]
  },
  {
   "cell_type": "code",
   "execution_count": 33,
   "id": "cdce841c-19aa-488a-b37b-4b807b0a7cbe",
   "metadata": {},
   "outputs": [],
   "source": [
    "sql = '''\n",
    "CREATE INDEX start_idx\n",
    "ON features (start);\n",
    "'''\n",
    "cursor.execute(sql)\n",
    "connection.commit()"
   ]
  },
  {
   "cell_type": "code",
   "execution_count": 35,
   "id": "b9f2f4e8-aef5-45c2-bedb-806651dfb27e",
   "metadata": {},
   "outputs": [],
   "source": [
    "sql = '''\n",
    "CREATE INDEX end_idx\n",
    "ON features (end);\n",
    "'''\n",
    "cursor.execute(sql)\n",
    "connection.commit()"
   ]
  },
  {
   "cell_type": "code",
   "execution_count": 36,
   "id": "29886137-db86-4245-901e-cd6c9e91a121",
   "metadata": {},
   "outputs": [],
   "source": [
    "sql = '''\n",
    "CREATE INDEX feature_id_idx\n",
    "ON attributes (feature_id);\n",
    "'''\n",
    "cursor.execute(sql)\n",
    "connection.commit()"
   ]
  },
  {
   "cell_type": "code",
   "execution_count": 38,
   "id": "b1afea36-d630-42e0-adbb-9c35ce65eec2",
   "metadata": {},
   "outputs": [],
   "source": [
    "sql = '''\n",
    "CREATE INDEX name_idx\n",
    "ON attributes (attr_name);\n",
    "'''\n",
    "cursor.execute(sql)\n",
    "connection.commit()"
   ]
  },
  {
   "cell_type": "code",
   "execution_count": 39,
   "id": "4ee38091-96a7-4d49-9740-36d615ec69fd",
   "metadata": {},
   "outputs": [
    {
     "name": "stdout",
     "output_type": "stream",
     "text": [
      "name\tsql\n",
      "type_idx\tCREATE INDEX type_idx\n",
      "ON features (type)\n",
      "start_idx\tCREATE INDEX start_idx\n",
      "ON features (start)\n",
      "end_idx\tCREATE INDEX end_idx\n",
      "ON features (end)\n",
      "feature_id_idx\tCREATE INDEX feature_id_idx\n",
      "ON attributes (feature_id)\n",
      "name_idx\tCREATE INDEX name_idx\n",
      "ON attributes (attr_name)\n"
     ]
    }
   ],
   "source": [
    "sql = '''\n",
    "SELECT name, sql\n",
    "FROM sqlite_master \n",
    "WHERE type= \"index\";\n",
    "'''\n",
    "cursor.execute(sql)\n",
    "print(get_header(cursor))\n",
    "print(get_results(cursor))"
   ]
  },
  {
   "cell_type": "code",
   "execution_count": 40,
   "id": "b45d1e40-992f-4709-a1dd-265b096f5a72",
   "metadata": {},
   "outputs": [],
   "source": [
    "def get_header(cursor):\n",
    "    '''\n",
    "    Makes a tab delimited header row from the cursor description.\n",
    "    Arguments:\n",
    "        cursor: a cursor after a select query\n",
    "    Returns:\n",
    "        string: A string consisting of the column names separated by tabs, no new line\n",
    "    '''\n",
    "    return '\\t'.join([row[0] for row in cursor.description])"
   ]
  },
  {
   "cell_type": "code",
   "execution_count": 41,
   "id": "e81bcbe5-3c8a-42df-b745-63d7338841c4",
   "metadata": {},
   "outputs": [],
   "source": [
    "def get_results(cursor):\n",
    "    '''\n",
    "    Makes a tab delimited table from the cursor results.\n",
    "    Arguments:\n",
    "        cursor: a cursor after a select query\n",
    "    Returns:\n",
    "        string: A string consisting of the column names separated by tabs, no new line\n",
    "    ''' \n",
    "    res = list()\n",
    "    for row in cursor.fetchall():        \n",
    "        res.append('\\t'.join(list(map(str,row))))\n",
    "    return \"\\n\".join(res)"
   ]
  },
  {
   "cell_type": "code",
   "execution_count": 43,
   "id": "50ab8915-69ca-4cef-a872-64c85f1e0233",
   "metadata": {},
   "outputs": [
    {
     "name": "stdout",
     "output_type": "stream",
     "text": [
      "name\n",
      "features\n",
      "sqlite_sequence\n",
      "attributes\n",
      "type_idx\n",
      "start_idx\n",
      "end_idx\n",
      "feature_id_idx\n",
      "name_idx\n"
     ]
    }
   ],
   "source": [
    "sql = '''\n",
    "SELECT name FROM sqlite_master;\n",
    "'''\n",
    "cursor.execute(sql)\n",
    "print(get_header(cursor))\n",
    "print(get_results(cursor))"
   ]
  },
  {
   "cell_type": "code",
   "execution_count": null,
   "id": "a2b69b23-79c0-4632-ad0c-5ae4deb6b529",
   "metadata": {},
   "outputs": [],
   "source": [
    "connec"
   ]
  },
  {
   "cell_type": "markdown",
   "id": "6e732037-2bcc-4fdb-af1a-be63877f07bf",
   "metadata": {},
   "source": [
    "## Part B: Populate database "
   ]
  },
  {
   "cell_type": "code",
   "execution_count": null,
   "id": "b62069e9-8fbf-4188-941d-74f34452ddac",
   "metadata": {},
   "outputs": [],
   "source": []
  },
  {
   "cell_type": "code",
   "execution_count": null,
   "id": "283af055-a9ec-4416-94a5-e169d4803cdb",
   "metadata": {},
   "outputs": [],
   "source": []
  },
  {
   "cell_type": "code",
   "execution_count": null,
   "id": "35d92f5e-aa06-49a7-af2d-77a95e238bf5",
   "metadata": {},
   "outputs": [],
   "source": []
  },
  {
   "cell_type": "code",
   "execution_count": null,
   "id": "f5940324-be8f-4043-a60d-d650e2c43751",
   "metadata": {},
   "outputs": [],
   "source": []
  },
  {
   "cell_type": "code",
   "execution_count": null,
   "id": "51671183-3276-4989-ac95-aac7eede8a14",
   "metadata": {},
   "outputs": [],
   "source": []
  },
  {
   "cell_type": "code",
   "execution_count": null,
   "id": "feb99956-2d20-4d50-a76b-4c1df7342b92",
   "metadata": {},
   "outputs": [],
   "source": []
  },
  {
   "cell_type": "code",
   "execution_count": null,
   "id": "6e599343-82b4-4945-82e4-839ad4ff3eca",
   "metadata": {},
   "outputs": [],
   "source": []
  },
  {
   "cell_type": "code",
   "execution_count": 6,
   "id": "cf0a05e6-53f2-4900-b2e5-60658d725fdd",
   "metadata": {},
   "outputs": [],
   "source": []
  },
  {
   "cell_type": "code",
   "execution_count": null,
   "id": "3aa80b3c-6353-42f5-9ef9-1a5ffca26f77",
   "metadata": {},
   "outputs": [],
   "source": []
  }
 ],
 "metadata": {
  "kernelspec": {
   "display_name": "Python 3",
   "language": "python",
   "name": "python3"
  },
  "language_info": {
   "codemirror_mode": {
    "name": "ipython",
    "version": 3
   },
   "file_extension": ".py",
   "mimetype": "text/x-python",
   "name": "python",
   "nbconvert_exporter": "python",
   "pygments_lexer": "ipython3",
   "version": "3.8.8"
  }
 },
 "nbformat": 4,
 "nbformat_minor": 5
}
