{
 "cells": [
  {
   "cell_type": "markdown",
   "metadata": {},
   "source": [
    "### Homework 6 - Pandas and basically bioinformatics\n",
    "### BIOINF 575 - Fall 2021\n",
    "\n",
    "##### Total 70 points \n",
    "\n",
    "SOLUTION\n"
   ]
  },
  {
   "cell_type": "markdown",
   "metadata": {},
   "source": [
    "For each each problem part provide the solution in Code cells after the description of the problem part.\n",
    "Answers to questions should be written either as comments together with the code or in Markdown cell(s) for each part of the problem.\n",
    "\n",
    "This homework will require the use of numpy arrays.\n"
   ]
  },
  {
   "cell_type": "markdown",
   "metadata": {},
   "source": [
    "<img src = \"https://media.geeksforgeeks.org/wp-content/uploads/finallpandas.png\" width = 500/>\n",
    "\n",
    "https://www.geeksforgeeks.org/python-pandas-dataframe/"
   ]
  },
  {
   "cell_type": "markdown",
   "metadata": {
    "tags": []
   },
   "source": [
    "______\n",
    "#### Problem 1 - Exploring time course gene expression data \n",
    "##### Identify the time interval with the most changed genes\n",
    "##### 20 points\n"
   ]
  },
  {
   "cell_type": "markdown",
   "metadata": {},
   "source": [
    "The file <b>GSE22955_small_gene_table.txt</b> contains gene expression data for about 10000 genes during treatment of breast cancer cells  with a HER2 inhibitor data was collected at every three hours for 45 hours.   \n",
    "The file contains tab-separated data, has a header that contains the time points and row labels on the first column that are gene symbols.   \n",
    "More details at: https://www.ncbi.nlm.nih.gov/geo/query/acc.cgi?acc=GSE22955\n",
    "\n",
    "\n"
   ]
  },
  {
   "cell_type": "markdown",
   "metadata": {},
   "source": [
    "..................................................................................................\n",
    "\n",
    "<b>Part 1 (12 points)</b> - Select the genes that have the same pattern of expression as BRCA1\n",
    "\n",
    "\n",
    "Select the genes that have a Pearson correlation coefficient with BRCA1 > 98%. The genes that are highly correlated with BRCA1 might be part of the same biological mechanism (might be involved in the same biological process).\n",
    "- <b>(1 points)</b> Read the data from the file into a pandas data frame\n",
    "- <b>(2 points)</b> Plot the expression of the gene BRCA1 over time (scatter plot and line plot)\n",
    "    - subset the dataframe to select the row for BRCA1 from the dataset \n",
    "    - use the plot functionality for a pandas series to plot the data\n",
    "- <b>(7 points)</b> For each gene in the dataset, compute the Pearson correaltion coefficient between the expression of the gene over time and the expression of BRCA1 over time \n",
    "    - You can use the scipy.stats.pearsonr function (recommended) or use the numpy.corrcoef function\n",
    "        - https://docs.scipy.org/doc/scipy/reference/generated/scipy.stats.pearsonr.html \n",
    "        - https://numpy.org/doc/stable/reference/generated/numpy.corrcoef.html\n",
    "    - if you use the scipy.stats.pearsonr  you can create a function that returns only the correlation coeeficient between to arrays of the same size (the pearsonr function returns a tuple that includes the p-value), then use the apply method on the initial dataframe together with the function that you just created to compute the correaltion between each row of the dataframe and the expression of BRCA1\n",
    "    - if you use the numpy.corrcoef function on the dataframe, it will return a matrix (2D numpy array) that contains the correlation coefficient between every pair of genes, then select the column for the BRCA1 gene (add the gene symbols as labels by creating a pandas series) \n",
    "- <b>(2 points)</b> Select from the series withthe correlation data only the values (and associated labels, gene symbols) that have the correaltion coefficient > 98%"
   ]
  },
  {
   "cell_type": "code",
   "execution_count": 2,
   "metadata": {},
   "outputs": [],
   "source": [
    "# Write your solution here, feel free to add new cells.\n",
    "import numpy as np\n",
    "import pandas as pd\n",
    "from scipy.stats import pearsonr\n",
    "%matplotlib inline\n",
    "import matplotlib.pyplot as plt\n"
   ]
  },
  {
   "cell_type": "code",
   "execution_count": 3,
   "metadata": {},
   "outputs": [],
   "source": [
    "# help(pearsonr)"
   ]
  },
  {
   "cell_type": "code",
   "execution_count": 4,
   "metadata": {},
   "outputs": [],
   "source": [
    "# help(np.corrcoef)  "
   ]
  },
  {
   "cell_type": "code",
   "execution_count": 5,
   "metadata": {},
   "outputs": [
    {
     "data": {
      "text/html": [
       "<div>\n",
       "<style scoped>\n",
       "    .dataframe tbody tr th:only-of-type {\n",
       "        vertical-align: middle;\n",
       "    }\n",
       "\n",
       "    .dataframe tbody tr th {\n",
       "        vertical-align: top;\n",
       "    }\n",
       "\n",
       "    .dataframe thead th {\n",
       "        text-align: right;\n",
       "    }\n",
       "</style>\n",
       "<table border=\"1\" class=\"dataframe\">\n",
       "  <thead>\n",
       "    <tr style=\"text-align: right;\">\n",
       "      <th></th>\n",
       "      <th>0</th>\n",
       "      <th>3</th>\n",
       "      <th>6</th>\n",
       "      <th>9</th>\n",
       "      <th>12</th>\n",
       "      <th>15</th>\n",
       "      <th>18</th>\n",
       "      <th>21</th>\n",
       "      <th>24</th>\n",
       "      <th>27</th>\n",
       "      <th>30</th>\n",
       "      <th>33</th>\n",
       "      <th>36</th>\n",
       "      <th>39</th>\n",
       "      <th>42</th>\n",
       "      <th>45</th>\n",
       "    </tr>\n",
       "    <tr>\n",
       "      <th>Symbol</th>\n",
       "      <th></th>\n",
       "      <th></th>\n",
       "      <th></th>\n",
       "      <th></th>\n",
       "      <th></th>\n",
       "      <th></th>\n",
       "      <th></th>\n",
       "      <th></th>\n",
       "      <th></th>\n",
       "      <th></th>\n",
       "      <th></th>\n",
       "      <th></th>\n",
       "      <th></th>\n",
       "      <th></th>\n",
       "      <th></th>\n",
       "      <th></th>\n",
       "    </tr>\n",
       "  </thead>\n",
       "  <tbody>\n",
       "    <tr>\n",
       "      <th>ABCA1</th>\n",
       "      <td>7.497117</td>\n",
       "      <td>8.184737</td>\n",
       "      <td>8.384009</td>\n",
       "      <td>8.654385</td>\n",
       "      <td>8.705771</td>\n",
       "      <td>9.266485</td>\n",
       "      <td>9.097249</td>\n",
       "      <td>8.980061</td>\n",
       "      <td>8.911098</td>\n",
       "      <td>9.377178</td>\n",
       "      <td>9.142381</td>\n",
       "      <td>9.314741</td>\n",
       "      <td>9.622010</td>\n",
       "      <td>9.543455</td>\n",
       "      <td>9.559486</td>\n",
       "      <td>10.094392</td>\n",
       "    </tr>\n",
       "    <tr>\n",
       "      <th>ABCC11</th>\n",
       "      <td>9.681143</td>\n",
       "      <td>9.687135</td>\n",
       "      <td>9.498255</td>\n",
       "      <td>9.357438</td>\n",
       "      <td>9.189169</td>\n",
       "      <td>9.049327</td>\n",
       "      <td>8.976153</td>\n",
       "      <td>8.978854</td>\n",
       "      <td>8.967797</td>\n",
       "      <td>8.912375</td>\n",
       "      <td>8.851690</td>\n",
       "      <td>8.787110</td>\n",
       "      <td>8.679719</td>\n",
       "      <td>8.771382</td>\n",
       "      <td>8.633315</td>\n",
       "      <td>8.703377</td>\n",
       "    </tr>\n",
       "    <tr>\n",
       "      <th>ABCC3</th>\n",
       "      <td>12.834826</td>\n",
       "      <td>12.841947</td>\n",
       "      <td>12.924113</td>\n",
       "      <td>12.810950</td>\n",
       "      <td>12.990568</td>\n",
       "      <td>12.791429</td>\n",
       "      <td>12.410250</td>\n",
       "      <td>12.343846</td>\n",
       "      <td>11.682339</td>\n",
       "      <td>11.369507</td>\n",
       "      <td>11.188391</td>\n",
       "      <td>11.105528</td>\n",
       "      <td>11.343285</td>\n",
       "      <td>11.151681</td>\n",
       "      <td>11.214401</td>\n",
       "      <td>10.928790</td>\n",
       "    </tr>\n",
       "    <tr>\n",
       "      <th>ABLIM1</th>\n",
       "      <td>10.786000</td>\n",
       "      <td>10.912505</td>\n",
       "      <td>11.060394</td>\n",
       "      <td>11.091041</td>\n",
       "      <td>11.166662</td>\n",
       "      <td>11.293522</td>\n",
       "      <td>11.355008</td>\n",
       "      <td>11.331177</td>\n",
       "      <td>11.649917</td>\n",
       "      <td>11.622126</td>\n",
       "      <td>11.733842</td>\n",
       "      <td>11.772563</td>\n",
       "      <td>11.909730</td>\n",
       "      <td>11.724674</td>\n",
       "      <td>11.835192</td>\n",
       "      <td>11.720621</td>\n",
       "    </tr>\n",
       "    <tr>\n",
       "      <th>ABP1</th>\n",
       "      <td>7.943247</td>\n",
       "      <td>8.121638</td>\n",
       "      <td>8.293621</td>\n",
       "      <td>8.314716</td>\n",
       "      <td>8.345499</td>\n",
       "      <td>8.414776</td>\n",
       "      <td>8.368459</td>\n",
       "      <td>8.539609</td>\n",
       "      <td>8.649921</td>\n",
       "      <td>8.698824</td>\n",
       "      <td>8.688555</td>\n",
       "      <td>8.762338</td>\n",
       "      <td>9.098345</td>\n",
       "      <td>9.294049</td>\n",
       "      <td>9.323449</td>\n",
       "      <td>9.729671</td>\n",
       "    </tr>\n",
       "    <tr>\n",
       "      <th>...</th>\n",
       "      <td>...</td>\n",
       "      <td>...</td>\n",
       "      <td>...</td>\n",
       "      <td>...</td>\n",
       "      <td>...</td>\n",
       "      <td>...</td>\n",
       "      <td>...</td>\n",
       "      <td>...</td>\n",
       "      <td>...</td>\n",
       "      <td>...</td>\n",
       "      <td>...</td>\n",
       "      <td>...</td>\n",
       "      <td>...</td>\n",
       "      <td>...</td>\n",
       "      <td>...</td>\n",
       "      <td>...</td>\n",
       "    </tr>\n",
       "    <tr>\n",
       "      <th>ZNF606</th>\n",
       "      <td>8.528510</td>\n",
       "      <td>8.394945</td>\n",
       "      <td>8.560340</td>\n",
       "      <td>8.955600</td>\n",
       "      <td>8.972039</td>\n",
       "      <td>8.858380</td>\n",
       "      <td>8.986870</td>\n",
       "      <td>9.040801</td>\n",
       "      <td>9.199987</td>\n",
       "      <td>9.201530</td>\n",
       "      <td>9.096592</td>\n",
       "      <td>9.201962</td>\n",
       "      <td>9.113082</td>\n",
       "      <td>9.238377</td>\n",
       "      <td>8.999179</td>\n",
       "      <td>9.076324</td>\n",
       "    </tr>\n",
       "    <tr>\n",
       "      <th>ZNF616</th>\n",
       "      <td>9.533892</td>\n",
       "      <td>9.671308</td>\n",
       "      <td>9.998892</td>\n",
       "      <td>10.189743</td>\n",
       "      <td>10.348529</td>\n",
       "      <td>10.293577</td>\n",
       "      <td>10.457835</td>\n",
       "      <td>10.426120</td>\n",
       "      <td>10.290234</td>\n",
       "      <td>10.279000</td>\n",
       "      <td>10.247908</td>\n",
       "      <td>10.289320</td>\n",
       "      <td>10.175219</td>\n",
       "      <td>10.316580</td>\n",
       "      <td>10.406839</td>\n",
       "      <td>10.225305</td>\n",
       "    </tr>\n",
       "    <tr>\n",
       "      <th>ZNF83</th>\n",
       "      <td>9.363751</td>\n",
       "      <td>9.162289</td>\n",
       "      <td>9.199572</td>\n",
       "      <td>9.589662</td>\n",
       "      <td>10.164692</td>\n",
       "      <td>10.039752</td>\n",
       "      <td>10.300014</td>\n",
       "      <td>10.099996</td>\n",
       "      <td>10.102037</td>\n",
       "      <td>9.971016</td>\n",
       "      <td>9.992117</td>\n",
       "      <td>10.033500</td>\n",
       "      <td>10.252678</td>\n",
       "      <td>10.170821</td>\n",
       "      <td>10.269105</td>\n",
       "      <td>9.959197</td>\n",
       "    </tr>\n",
       "    <tr>\n",
       "      <th>ZNFX1</th>\n",
       "      <td>10.854597</td>\n",
       "      <td>10.662256</td>\n",
       "      <td>11.023671</td>\n",
       "      <td>11.415034</td>\n",
       "      <td>11.720743</td>\n",
       "      <td>11.718005</td>\n",
       "      <td>11.795806</td>\n",
       "      <td>11.914836</td>\n",
       "      <td>11.799599</td>\n",
       "      <td>11.675592</td>\n",
       "      <td>11.704008</td>\n",
       "      <td>11.648020</td>\n",
       "      <td>11.661703</td>\n",
       "      <td>11.655686</td>\n",
       "      <td>11.850343</td>\n",
       "      <td>11.629349</td>\n",
       "    </tr>\n",
       "    <tr>\n",
       "      <th>ZWINT</th>\n",
       "      <td>10.024858</td>\n",
       "      <td>9.905496</td>\n",
       "      <td>9.976799</td>\n",
       "      <td>10.133369</td>\n",
       "      <td>9.311503</td>\n",
       "      <td>9.016406</td>\n",
       "      <td>9.000771</td>\n",
       "      <td>8.974313</td>\n",
       "      <td>9.177513</td>\n",
       "      <td>9.123757</td>\n",
       "      <td>8.815139</td>\n",
       "      <td>8.723943</td>\n",
       "      <td>8.396475</td>\n",
       "      <td>8.371781</td>\n",
       "      <td>8.194524</td>\n",
       "      <td>8.141444</td>\n",
       "    </tr>\n",
       "  </tbody>\n",
       "</table>\n",
       "<p>1175 rows × 16 columns</p>\n",
       "</div>"
      ],
      "text/plain": [
       "                0          3          6          9         12         15  \\\n",
       "Symbol                                                                     \n",
       "ABCA1    7.497117   8.184737   8.384009   8.654385   8.705771   9.266485   \n",
       "ABCC11   9.681143   9.687135   9.498255   9.357438   9.189169   9.049327   \n",
       "ABCC3   12.834826  12.841947  12.924113  12.810950  12.990568  12.791429   \n",
       "ABLIM1  10.786000  10.912505  11.060394  11.091041  11.166662  11.293522   \n",
       "ABP1     7.943247   8.121638   8.293621   8.314716   8.345499   8.414776   \n",
       "...           ...        ...        ...        ...        ...        ...   \n",
       "ZNF606   8.528510   8.394945   8.560340   8.955600   8.972039   8.858380   \n",
       "ZNF616   9.533892   9.671308   9.998892  10.189743  10.348529  10.293577   \n",
       "ZNF83    9.363751   9.162289   9.199572   9.589662  10.164692  10.039752   \n",
       "ZNFX1   10.854597  10.662256  11.023671  11.415034  11.720743  11.718005   \n",
       "ZWINT   10.024858   9.905496   9.976799  10.133369   9.311503   9.016406   \n",
       "\n",
       "               18         21         24         27         30         33  \\\n",
       "Symbol                                                                     \n",
       "ABCA1    9.097249   8.980061   8.911098   9.377178   9.142381   9.314741   \n",
       "ABCC11   8.976153   8.978854   8.967797   8.912375   8.851690   8.787110   \n",
       "ABCC3   12.410250  12.343846  11.682339  11.369507  11.188391  11.105528   \n",
       "ABLIM1  11.355008  11.331177  11.649917  11.622126  11.733842  11.772563   \n",
       "ABP1     8.368459   8.539609   8.649921   8.698824   8.688555   8.762338   \n",
       "...           ...        ...        ...        ...        ...        ...   \n",
       "ZNF606   8.986870   9.040801   9.199987   9.201530   9.096592   9.201962   \n",
       "ZNF616  10.457835  10.426120  10.290234  10.279000  10.247908  10.289320   \n",
       "ZNF83   10.300014  10.099996  10.102037   9.971016   9.992117  10.033500   \n",
       "ZNFX1   11.795806  11.914836  11.799599  11.675592  11.704008  11.648020   \n",
       "ZWINT    9.000771   8.974313   9.177513   9.123757   8.815139   8.723943   \n",
       "\n",
       "               36         39         42         45  \n",
       "Symbol                                              \n",
       "ABCA1    9.622010   9.543455   9.559486  10.094392  \n",
       "ABCC11   8.679719   8.771382   8.633315   8.703377  \n",
       "ABCC3   11.343285  11.151681  11.214401  10.928790  \n",
       "ABLIM1  11.909730  11.724674  11.835192  11.720621  \n",
       "ABP1     9.098345   9.294049   9.323449   9.729671  \n",
       "...           ...        ...        ...        ...  \n",
       "ZNF606   9.113082   9.238377   8.999179   9.076324  \n",
       "ZNF616  10.175219  10.316580  10.406839  10.225305  \n",
       "ZNF83   10.252678  10.170821  10.269105   9.959197  \n",
       "ZNFX1   11.661703  11.655686  11.850343  11.629349  \n",
       "ZWINT    8.396475   8.371781   8.194524   8.141444  \n",
       "\n",
       "[1175 rows x 16 columns]"
      ]
     },
     "execution_count": 5,
     "metadata": {},
     "output_type": "execute_result"
    }
   ],
   "source": [
    "#reading the data from the file into a pandas dataframe. \n",
    "gene_DF = pd.read_csv(\"GSE22955_small_gene_table.txt\", sep = \"\\t\", comment = \"#\", index_col = 0)\n",
    "gene_DF"
   ]
  },
  {
   "cell_type": "code",
   "execution_count": 6,
   "metadata": {},
   "outputs": [
    {
     "data": {
      "text/plain": [
       "pandas.core.frame.DataFrame"
      ]
     },
     "execution_count": 6,
     "metadata": {},
     "output_type": "execute_result"
    }
   ],
   "source": [
    "type(gene_DF)"
   ]
  },
  {
   "cell_type": "code",
   "execution_count": 7,
   "metadata": {},
   "outputs": [
    {
     "data": {
      "text/plain": [
       "0      9.940983\n",
       "3     10.037104\n",
       "6     10.061594\n",
       "9      9.833829\n",
       "12     9.139316\n",
       "15     8.980142\n",
       "18     8.951006\n",
       "21     8.806894\n",
       "24     9.003011\n",
       "27     8.885428\n",
       "30     8.816547\n",
       "33     8.724686\n",
       "36     8.402657\n",
       "39     8.386593\n",
       "42     8.396024\n",
       "45     8.605764\n",
       "Name: BRCA1, dtype: float64"
      ]
     },
     "execution_count": 7,
     "metadata": {},
     "output_type": "execute_result"
    }
   ],
   "source": [
    "#subsetting the dataframe to select the row for BRCA1 from gene_DF. \n",
    "import_gene = \"BRCA1\"\n",
    "BRCA1_PS = gene_DF.loc[import_gene,:] \n",
    "BRCA1_PS"
   ]
  },
  {
   "cell_type": "code",
   "execution_count": 8,
   "metadata": {},
   "outputs": [
    {
     "data": {
      "image/png": "[encoded data removed]",
      "text/plain": [
       "<Figure size 432x288 with 1 Axes>"
      ]
     },
     "metadata": {
      "needs_background": "light"
     },
     "output_type": "display_data"
    }
   ],
   "source": [
    "#Plot the expression of the gene BRCA1 over time (line plot below).\n",
    "x = BRCA1_PS\n",
    "plt.plot(x, color = \"m\", linestyle = \"-\", linewidth = 0.5, markersize = 5)\n",
    "plt.show()"
   ]
  },
  {
   "cell_type": "code",
   "execution_count": 9,
   "metadata": {},
   "outputs": [
    {
     "data": {
      "image/png": "[encoded data removed]",
      "text/plain": [
       "<Figure size 432x288 with 1 Axes>"
      ]
     },
     "metadata": {
      "needs_background": "light"
     },
     "output_type": "display_data"
    }
   ],
   "source": [
    "#the scatter plot shown below.\n",
    "x = BRCA1_PS\n",
    "plt.plot(x, color = \"m\", marker = \"o\", linestyle = \"\", linewidth = 0.5, markersize = 5)\n",
    "plt.show()"
   ]
  },
  {
   "cell_type": "code",
   "execution_count": 17,
   "metadata": {},
   "outputs": [],
   "source": [
    "#For each gene in the dataset, compute the Pearson correaltion coefficient between the expression of \n",
    "#the gene over time and the expression of BRCA1 over time\n",
    "#I indexed my tuple for first index because that is where my coefficient is located. \n",
    "def pearson_coef_work(DF_start, y):\n",
    "    return pearsonr(DF_start, y)[0]  "
   ]
  },
  {
   "cell_type": "code",
   "execution_count": 18,
   "metadata": {},
   "outputs": [
    {
     "data": {
      "text/plain": [
       "Symbol\n",
       "ABCA1    -0.877346\n",
       "ABCC11    0.969999\n",
       "ABCC3     0.796719\n",
       "ABLIM1   -0.905117\n",
       "ABP1     -0.804874\n",
       "            ...   \n",
       "ZNF606   -0.834368\n",
       "ZNF616   -0.735252\n",
       "ZNF83    -0.907524\n",
       "ZNFX1    -0.835666\n",
       "ZWINT     0.960608\n",
       "Length: 1175, dtype: float64"
      ]
     },
     "execution_count": 18,
     "metadata": {},
     "output_type": "execute_result"
    }
   ],
   "source": [
    "#goes through each row or column and does it cross. I want rows so I need to use axis = 1.  \n",
    "pearson_coef = gene_DF.apply(pearson_coef_work, y = gene_DF.loc[\"BRCA1\"], axis = 1)\n",
    "pearson_coef"
   ]
  },
  {
   "cell_type": "code",
   "execution_count": 69,
   "metadata": {},
   "outputs": [
    {
     "data": {
      "text/plain": [
       "Symbol\n",
       "ATAD2        0.987425\n",
       "BLM          0.987916\n",
       "BRCA1        1.000000\n",
       "C1orf112     0.988358\n",
       "CDC45L       0.984325\n",
       "CENPM        0.983923\n",
       "CHEK1        0.983598\n",
       "E2F2         0.987843\n",
       "EXO1         0.995347\n",
       "FLJ13912     0.985851\n",
       "FLJ20647     0.993736\n",
       "KDELC2       0.992639\n",
       "KREMEN2      0.986672\n",
       "MCM7         0.981542\n",
       "MGC24665     0.988778\n",
       "MNS1         0.988803\n",
       "NY-SAR-48    0.990424\n",
       "Pfs2         0.989485\n",
       "RFC4         0.990404\n",
       "RNASEH2A     0.992844\n",
       "STMN1        0.982093\n",
       "TIMELESS     0.980528\n",
       "TMPO         0.984384\n",
       "UBE2T        0.990075\n",
       "dtype: float64"
      ]
     },
     "execution_count": 69,
     "metadata": {},
     "output_type": "execute_result"
    }
   ],
   "source": [
    "#Select from the series with the correlation data only the values (and associated labels, gene symbols) \n",
    "#that have the correaltion coefficient > 98%\n",
    "pearson_coef_2 = pearson_coef > 0.98\n",
    "pearson_coef[pearson_coef_2]"
   ]
  },
  {
   "cell_type": "code",
   "execution_count": null,
   "metadata": {},
   "outputs": [],
   "source": []
  },
  {
   "cell_type": "markdown",
   "metadata": {},
   "source": [
    "..................................................................................................\n",
    "\n",
    "<b>Part 2 (8 points)</b> - Identify the gene most anticorrelated with BRCA1 and display the expression  data over time \n",
    "\n",
    "Identify the gene that has the lowest negative correlation with the BRCA1 gene and plot the expression of BRCA1 and the expression of the selected gene in the same plot (one line for each gene)\n",
    "- <b>(5 points)</b> Select the gene with the minimum value (has to be negative) fror the correlation (Pearson coefficient) with the expression of the BRCA1 gene\n",
    "- <b>(3 points)</b> Display the expression of the two genes (min corr gene and BRCA1) in a the same plot (expression over time, one line for each gene)"
   ]
  },
  {
   "cell_type": "code",
   "execution_count": 70,
   "metadata": {},
   "outputs": [
    {
     "data": {
      "text/plain": [
       "-0.978881390288951"
      ]
     },
     "execution_count": 70,
     "metadata": {},
     "output_type": "execute_result"
    }
   ],
   "source": [
    "# Write your solution here, feel free to add new cells.\n",
    "#will give me the minimum value for the correlation with the expression of BRCA1 gene. \n",
    "#and it's negative.\n",
    "pearson_coef.min()"
   ]
  },
  {
   "cell_type": "code",
   "execution_count": 71,
   "metadata": {},
   "outputs": [
    {
     "data": {
      "text/plain": [
       "'GLYATL2'"
      ]
     },
     "execution_count": 71,
     "metadata": {},
     "output_type": "execute_result"
    }
   ],
   "source": [
    "#will give me the gene name for the min value. \n",
    "pearson_coef.idxmin()"
   ]
  },
  {
   "cell_type": "code",
   "execution_count": 72,
   "metadata": {},
   "outputs": [
    {
     "data": {
      "text/plain": [
       "-0.978881390288951"
      ]
     },
     "execution_count": 72,
     "metadata": {},
     "output_type": "execute_result"
    }
   ],
   "source": [
    "#just confirming here and we're good. \n",
    "pearson_coef[\"GLYATL2\"]"
   ]
  },
  {
   "cell_type": "code",
   "execution_count": 73,
   "metadata": {},
   "outputs": [
    {
     "data": {
      "image/png": "[encoded data removed]",
      "text/plain": [
       "<Figure size 432x288 with 1 Axes>"
      ]
     },
     "metadata": {
      "needs_background": "light"
     },
     "output_type": "display_data"
    }
   ],
   "source": [
    "#graphing the expressin of BRCA1 and GLYATL2 together on one plot.\n",
    "gene_DF.loc[(\"BRCA1\", pearson_coef.idxmin()), :].T.plot(marker = 'o', linestyle = '-', linewidth = 1, markersize = 5)\n",
    "plt.ylabel('gene expression')\n",
    "plt.xlabel('time (hr)')\n",
    "plt.title(\"Expression over Time for GLYATL2 and BRCA1\")\n",
    "plt.show()"
   ]
  },
  {
   "cell_type": "code",
   "execution_count": null,
   "metadata": {},
   "outputs": [],
   "source": []
  },
  {
   "cell_type": "markdown",
   "metadata": {
    "tags": []
   },
   "source": [
    "______\n",
    "\n",
    "#### Problem 2 - process genomic data to compute variant calls between a tumor and a normal sample\n",
    "##### 50 points\n",
    "\n",
    "#### You have to fill in the code for 4 functions as instructed below."
   ]
  },
  {
   "cell_type": "markdown",
   "metadata": {
    "tags": []
   },
   "source": [
    ".....................................................................\n",
    "\n",
    "#### The Data\n",
    "A description of the provided data are:\n",
    "1. `b_subtilis_genome.fa`: A [FASTA format](https://blast.ncbi.nlm.nih.gov/Blast.cgi?CMD=Web&PAGE_TYPE=BlastDocs&DOC_TYPE=BlastHelp) file containing the reference sequence for _B. subtilis_\n",
    "    * A hallmark of the FASTA format is that the sequence header line precedes the sequences and always begins with a '>' character\n",
    "1. `normal.bam`: A [BAM format](https://samtools.github.io/hts-specs/SAMv1.pdf) file that contains the simulated short reads for a \"normal\" _B subtilis_ sample\n",
    "    * This is a very specialized format that needs special libraries to parse. However, just think of it as one read per line\n",
    "    * Documentation for the SAM/BAM format: \n",
    "        * https://samtools.github.io/hts-specs/SAMv1.pdf\n",
    "1. `normal.bam.bai`: A BAM index file used for random access\n",
    "1. `tumor.bam`: A [BAM format](https://samtools.github.io/hts-specs/SAMv1.pdf) file that contains the simulated short reads for a \"tumor\" _B subtilis_ sample\n",
    "1. `tumor.bam.bai`: A BAM index file used for random access\n",
    "\n",
    "<div style=\"background-color:#ffc680\">\n",
    "  <h3>Important Note</h3>\n",
    "  <p>You will be using a special Python library for handling this data. This package is called BAMnostic.</p>\n",
    "    <p><b>Before</b> doing this homework problem, you will need to install BAMnostic.  <br>  \n",
    "        To do so, go to your terminal and type:<code>conda install -c conda-forge bamnostic</code></p> \n",
    "  <p>Consider taking a look at the <a href=\"https://bamnostic.readthedocs.io/en/latest/?badge=latest\">BAMnostic documentation</a> for more information. <br>      \n",
    "The code in the following cell should run without issues if bamnostic was installed successfully.</p>\n",
    "</div>"
   ]
  },
  {
   "cell_type": "code",
   "execution_count": 28,
   "metadata": {},
   "outputs": [],
   "source": [
    "import bamnostic as bs"
   ]
  },
  {
   "cell_type": "markdown",
   "metadata": {},
   "source": [
    "---\n",
    "### Instructions"
   ]
  },
  {
   "cell_type": "markdown",
   "metadata": {},
   "source": [
    "This problem is designed to be as close to real genomics research as you can get without the math/stats/research.   \n",
    "**Given a set of genomic files you will compute the genomic variants between a tumor and a normal biological sample.**\n",
    "\n",
    "You are tasked to serially process both the `normal.bam` and `tumor.bam` sample files which contain aligned reads.  \n",
    "\n",
    "For each position on the genome, you will track:\n",
    "   * the counts of each base observed at that position (`counts`)  \n",
    "   * the consensus base at that position (`consensus`) \n",
    "   \n",
    "In the end you will have a list of variants defined by their position in the genome, nucleotide in the normal sample, nucleotide in the tumor sample and the frequency of the nucleotide at that position in the tumor sample.\n",
    "\n",
    "\n",
    "\n",
    "\n"
   ]
  },
  {
   "cell_type": "markdown",
   "metadata": {},
   "source": [
    "Using `bamnostic` you will iterate through the files (`normal.bam` and `tumor.bam`) <b>one read at a time and actually construct the alignment in a dictionaly structure that will keep two lists to monitor the positions of the normal and tumor genomes. </b>   \n",
    "The problem is set up so that you do not have to worry about dealing with `bamnostic` directly.  \n"
   ]
  },
  {
   "cell_type": "markdown",
   "metadata": {},
   "source": [
    "<div style=\"background-color:#ffc680\">\n",
    "  <h3>Important Note</h3>\n",
    "    <p>You <b>only</b> need to use <code>read.seq</code> and <code>read.pos (which is 0-based)</code> to complete this assignment</p>\n",
    "    <p>You <b>do not</b> have to consider other read attributes (<em>qualities, flags, or CIGAR strings</em>) at this time</p>\n",
    "</div>"
   ]
  },
  {
   "cell_type": "markdown",
   "metadata": {},
   "source": [
    "The data structure you will be using is a dictionary that looks like this:</br>\n",
    "\n",
    "```python\n",
    "genome_positions = {\"normal\": [...], \"tumor\": [...]}\n",
    "\n",
    "# The length of the two lists is the same and should be equal to the length of the genomic sequence.\n",
    "# that is, the number of ACGTs in the b_subtilis_genome.fa file\n",
    "# The position in the list represents the genomic positions for the normal and tumor sample. \n",
    "# So each position in the list corresponds to a position in the genome.\n",
    "\n",
    "# In each list element we want to keep track what bases/nucleotides aligned at that position in the \n",
    "# genome from each of the reads that cover that position\n",
    "# See towards the end an example with Counter\n",
    "# Every element in the list for the 'normal' and 'tumor' keys in genome_positions \n",
    "# each element is a dictionary as follows:\n",
    "\n",
    "{ 'counts': Counter(),  # Count of observed bases at this position \n",
    "  'consensus': ''}      # The most common/frequent base at this position\n",
    "    \n",
    "```\n",
    "\n",
    "#### A visualization of the read alignment and how the 'normal' and 'tumor' lists in our dictionary come into play. \n",
    "\n",
    "For the read \"TAC\" the read.pos is 1 and the read.seq is \"TAC\".    \n",
    "T aligns at position 1, A at position 2, and C at position 3.\n",
    "Assume that the genomic positions \n",
    "\n",
    "<img src = \"data_structure.png\" width = 300/>\n",
    "\n",
    "#### An example of how the processing of the reads works using the data in the figure above:      \n",
    "After we initialize our data for a genome of size 5, we have the following genome_positions:\n",
    "\n",
    "\n",
    "```python\n",
    "{'normal': [{'counts': Counter(),'consensus': ''},\n",
    "            {'counts': Counter(),'consensus': ''},\n",
    "            {'counts': Counter(),'consensus': ''},\n",
    "            {'counts': Counter(),'consensus': ''},\n",
    "            {'counts': Counter(),'consensus': ''}], \n",
    " 'tumor':  [{'counts': Counter(),'consensus': ''},\n",
    "            {'counts': Counter(),'consensus': ''},\n",
    "            {'counts': Counter(),'consensus': ''},\n",
    "            {'counts': Counter(),'consensus': ''},\n",
    "            {'counts': Counter(),'consensus': ''}]\n",
    "}\n",
    "\n",
    "```\n",
    "\n",
    "After we process the first read, \"TAC\" for the normal sample, the genome_positions will be:\n",
    "\n",
    "```python\n",
    "{'normal': [{'counts': Counter(),'consensus': ''},\n",
    "            {'counts': Counter({'T':1}),'consensus': 'T'},\n",
    "            {'counts': Counter({'A':1}),'consensus': 'A'},\n",
    "            {'counts': Counter({'C':1}),'consensus': 'C'},\n",
    "            {'counts': Counter(),'consensus': ''}], \n",
    " 'tumor':  [{'counts': Counter(),'consensus': ''},\n",
    "            {'counts': Counter(),'consensus': ''},\n",
    "            {'counts': Counter(),'consensus': ''},\n",
    "            {'counts': Counter(),'consensus': ''},\n",
    "            {'counts': Counter(),'consensus': ''}]\n",
    "}    \n",
    "\n",
    "\n",
    "```\n",
    "\n",
    "\n",
    "After all 5 reads are processed, the genome_positions will be:\n",
    "\n",
    "```python\n",
    "{'normal': [{'counts': Counter({'A':1}),'consensus': 'A'},\n",
    "            {'counts': Counter({'T':1, 'A':1, 'C':1}),'consensus': 'T'},\n",
    "            {'counts': Counter({'A':2, 'G':1, 'C':1}),'consensus': 'A'},\n",
    "            {'counts': Counter({'C':2, 'T':1}),'consensus': 'C'},\n",
    "            {'counts': Counter({'G':1}),'consensus': 'G'}], \n",
    " 'tumor':  [{'counts': Counter(),'consensus': ''},\n",
    "            {'counts': Counter(),'consensus': ''},\n",
    "            {'counts': Counter(),'consensus': ''},\n",
    "            {'counts': Counter(),'consensus': ''},\n",
    "            {'counts': Counter(),'consensus': ''}]\n",
    "}    \n",
    "\n",
    "\n",
    "```\n",
    "\n"
   ]
  },
  {
   "cell_type": "markdown",
   "metadata": {},
   "source": [
    "---\n",
    "#### Fill in the code for the following 4 functions"
   ]
  },
  {
   "cell_type": "markdown",
   "metadata": {},
   "source": [
    "#### (10 points) FUNCTION 1 - Initialize the genome_positions  - fill in the code missing in the following cell\n",
    "   `initialize_positions`:\n",
    "   * Input:\n",
    "        * genome filename\n",
    "   * Output:\n",
    "        * initialized `genome_positions`  object"
   ]
  },
  {
   "cell_type": "markdown",
   "metadata": {},
   "source": [
    "#### Details and score breakdown:\n",
    "- The length of the two lists (values for the keys 'normal' and 'tumor' ) is the same and should be equal to the length of the sequence \n",
    "     in the genome_filename (b_subtilis_genome.fa) file\n",
    "- After calling this function, the normal and tumor lists should contain the following dictionary\n",
    "     {'counts': Counter(), 'consensus': ''} for each position\n",
    "- In this function \n",
    "     - <b>(1 points)</b> open the file and \n",
    "     - <b>(1 points)</b> go through it line by line \n",
    "     - <b>(3 points)</b> if the line is a sequence line (does not start with >) go through the characters in the line\n",
    "     - <b>(5 points)</b> for each character (except for the newline character) add a dictionary like the one mentioned above, {'counts': Counter(),'consensus': ''}, in the normal and tumor list\n",
    "         - consider that the last character in the line might be a newline character '\\n' - which is not a nuvleotide in the sequence"
   ]
  },
  {
   "cell_type": "code",
   "execution_count": 49,
   "metadata": {},
   "outputs": [],
   "source": [
    "# Initialize the genome_positions \n",
    "# This can be tested with a small text file that contains a small (10-100 nucleotides) \n",
    "# sequence before going to the large B. subtilis file.\n",
    "# Make sure you run the import before you try to test this code\n",
    "# from collections import Counter\n",
    "\n",
    "#I tested this function with a small text file I created and it ran successfully. \n",
    "\n",
    "from collections import Counter \n",
    "\n",
    "def initialize_positions(genome_filename):\n",
    "    '''\n",
    "    \n",
    "    This function will take your genome file and initialize every position for each character \n",
    "    in every line. The output will be a dictionary for two keys (\"normal\" and \"tumor\") and the values \n",
    "    for each key will be a list of dicationaries for each character with counts, Counter, and consensus. \n",
    "    \n",
    "    '''\n",
    "    genome_positions = {\"normal\":[], \"tumor\":[]}  \n",
    "    #this builds the framework for my dictionary.\n",
    "    with open(genome_filename) as gene_file:\n",
    "    #this opens file.\n",
    "        for line in gene_file:\n",
    "        #this iterates through each line in the file. \n",
    "            if not line.startswith(\">\"):  \n",
    "                #if line is a sequence line.\n",
    "                for char in line.strip():  \n",
    "                    #removing the white spaces (like tabs or noraml spaces) so that we don't count those as char.\n",
    "                        genome_positions[\"normal\"].append({\"counts\": Counter(), \"consensus\": \"\"})\n",
    "                        genome_positions[\"tumor\"].append({ \"counts\": Counter(),\"consensus\": \"\"})\n",
    "    return genome_positions"
   ]
  },
  {
   "cell_type": "code",
   "execution_count": null,
   "metadata": {},
   "outputs": [],
   "source": []
  },
  {
   "cell_type": "markdown",
   "metadata": {},
   "source": [
    ".....................................\n"
   ]
  },
  {
   "cell_type": "markdown",
   "metadata": {},
   "source": [
    "#### (15 points) FUNCTION 2 - Process a read - fill in the code missing in the following cell\n",
    "\n",
    "  `process_read`:\n",
    "   * Input:\n",
    "        * read_pos: The position whare the read aligns\n",
    "        * read_seq: The sequence of the read\n",
    "        * Sample name (`'normal'` or `'tumor'`)\n",
    "        * `genome_positions`\n",
    "   * Output: \n",
    "        * The modified `genome_positions`\n"
   ]
  },
  {
   "cell_type": "markdown",
   "metadata": {},
   "source": [
    "#### Details and score breakdown:\n",
    "- <b>(3 points)</b> Go through the read sequence (read.seq) and update the genome_positions value for the sample_name (which will be tumor or normal)\n",
    "- <b>(4 points)</b> Update the list at the positions starting with the position given by read.pos (attribute of the read object that tells us where the read aligned)\n",
    "- For each nucleotide in the sequence:\n",
    "    * <b>(4 points)</b> update the dictionary counter for the respective positions\n",
    "    * <b>(4 points)</b> update consensus for the respective positions\n",
    "\n",
    "\n",
    "- E.g.: Let's assume sample_name is normal and read.pos is 5 and read.seq is AGCT\n",
    "     - Use the the genome_positions dictionary and get the value for the key 'normal' which is a list\n",
    "     - Make updates to the element from the list at position 5 which is a dictionary with two keys 'counts' and 'consensus' \n",
    "         - Add A to the counter\n",
    "         - Update the consensus if 'A' is not the consensus and now has a higher frequency than the consensus\n",
    "     - Move to the next nucleotide in the read sequence 'G', which aligns at position 6 and follow the update process described  above.\n",
    "     - Continue to go through the sequence and make similar updates to the dictionaries that are in the list at positions 7 and 8 and use the next nucleotides from the read sequence T and C  \n",
    "\n"
   ]
  },
  {
   "cell_type": "code",
   "execution_count": 51,
   "metadata": {},
   "outputs": [],
   "source": [
    "# Process a read\n",
    "# Make sure you run the import before you try to test this code\n",
    "# from collections import Counter\n",
    "\n",
    "#I tested this function with the example dictionary and sequences provided at the beginning of Problem #2. \n",
    "#All ran successfully. \n",
    "\n",
    "from collections import Counter \n",
    "\n",
    "def process_read(read_pos, read_seq, sample_name, genome_positions = None):\n",
    "    '''\n",
    "    \n",
    "    This function will process a read and update the genome_positions dictionary that was \n",
    "    created in the first function, with the respective nucleotide and position (Counter)\n",
    "    and consensus (obtained from the counter) for each key. \n",
    "   \n",
    "    '''\n",
    "    #go through the genome sequence for each character. Need a for loop to go through each nucleotide sequence. \n",
    "    #need to first find the starting position and then the length to see how long the sequence is. \n",
    "    #we can use a range and a start and ending point. \n",
    "    for char_pos in range(read_pos, read_pos + len(read_seq)):\n",
    "        #but we dont' know the position with respect to the genome for each nucleotide. So we find nc. \n",
    "        nc = read_seq[char_pos - read_pos]\n",
    "        genome_positions[sample_name][char_pos][\"counts\"].update(nc)\n",
    "        con_value = genome_positions[sample_name][char_pos][\"counts\"].most_common(1)[0][0]\n",
    "        #indexing to get the \"consensus\" with most_common method and setting it equal to con_value. \n",
    "        genome_positions[sample_name][char_pos][\"consensus\"] = con_value\n",
    "        #we set the index position for consensus key in the dictionary equal to the con_value.\n",
    "        \n",
    "    return genome_positions"
   ]
  },
  {
   "cell_type": "code",
   "execution_count": null,
   "metadata": {},
   "outputs": [],
   "source": []
  },
  {
   "cell_type": "markdown",
   "metadata": {},
   "source": [
    ".....................................\n"
   ]
  },
  {
   "cell_type": "markdown",
   "metadata": {
    "tags": []
   },
   "source": [
    "#### (5 points) FUNCTION 3 - Process a bam file - fill in the code missing in the following cell\n",
    "\n",
    " `process_bam`: \n",
    "   * Input: \n",
    "        * filename to be processed\n",
    "        * Sample name (`'normal'` or `'tumor'`)\n",
    "        * `genome_positions`\n",
    "   * Output:\n",
    "        * The modified `genome_positions` given that specific sample\n"
   ]
  },
  {
   "cell_type": "markdown",
   "metadata": {},
   "source": [
    "#### Details and score breakdown:\n",
    "- Go through the bam file one read at a time (done already) and \n",
    "    - <b>(5 points)</b> process the read"
   ]
  },
  {
   "cell_type": "code",
   "execution_count": 53,
   "metadata": {},
   "outputs": [],
   "source": [
    "# Process file - make sure you run the import before you try to test this function\n",
    "import bamnostic as bs\n",
    "def process_bam(filename, sample_name, genome_positions = None):\n",
    "    '''\n",
    "    This function will open the .bam alignment file, \n",
    "    put all the reads in the object named bam, and call function #2 \n",
    "    to process the bam file and update the genome_positions dictionary.\n",
    "    \n",
    "    '''\n",
    "    # the following line of code opens the .bam alignment file.\n",
    "    # and puts all the reads in the object named bam.\n",
    "    with bs.AlignmentFile(filename) as bam:\n",
    "        #for loop to go through each read in bam. \n",
    "        for read in bam:\n",
    "             process_read(read.pos, read.seq, sample_name, genome_positions)\n",
    "            #I want to call function #2 since we already know set the read position and sequence in funct_2\n",
    "            #I cannot use read_pos and read_seq because those are not defined in funct_3. \n",
    "            #so I use read.pos and read.seq which we can use since we're using bamnositc.                \n",
    "    return genome_positions"
   ]
  },
  {
   "cell_type": "code",
   "execution_count": null,
   "metadata": {},
   "outputs": [],
   "source": []
  },
  {
   "cell_type": "markdown",
   "metadata": {},
   "source": [
    ".....................................\n"
   ]
  },
  {
   "cell_type": "markdown",
   "metadata": {},
   "source": [
    "#### (20 points) FUNCTION 4 - Process the updated genomic data collected in genome_positions and create variant calls\n",
    "\n",
    " `process_genomic_data`:\n",
    "   * Input: \n",
    "        * `genome_positions` \n",
    "\n",
    "```python\n",
    "#E.g.: genome_positions\n",
    "{'normal':[{'counts': {'A': 5, 'C':2, 'G':7}, 'consensus': 'G'}], \n",
    " 'tumor':[{'counts': {'A': 2, 'C':9, 'G':3, 'T':1}, 'consensus': 'C'}]}\n",
    "```\n",
    "\n",
    "   * Output: \n",
    "        * The summarized variants as a `list` of `tuples`: `(pos, cons_tumor, cons_normal, alelle_freq)`\n",
    "\n",
    "```python\n",
    "#E.g. variant_calls\n",
    "[(0,'G','C',9/15)]\n",
    "```"
   ]
  },
  {
   "cell_type": "markdown",
   "metadata": {},
   "source": [
    "#### Details and score breakdown:\n",
    "\n",
    "When you have finished processing the files, you will need to produce a second `list` of `tuples` (variant_calls) using the  process_data function.  \n",
    "\n",
    "The data a `tuple`s in the variants list must contain are: `(pos, cons_tumor, cons_normal, alelle_freq)`\n",
    "1. The position of the variant\n",
    "1. The variant base\n",
    "1. The reference base\n",
    "1. The allele frequency of the variant base (counts of variant base calls/total base counts at the given position)\n",
    "    - counts of variant base calls = counts of the consensus in tumor (at the given position)\n",
    "    - total base counts = total counts of all bases (ACGT) in tumor (at the given position)\n",
    "\n",
    "An element (tuple) is added to the list if and only if the following conditions is met:\n",
    "> There is a different consensus base in the tumor sample versus the normal sample at the same position   \n",
    "More than half of the bases aligned at that position in the tumor sample suport the consensus\n",
    "\n",
    "    \n",
    "- <b>(5 points)</b> Go though the elements of the list that is the value for the 'normal' key of the genome_positions dictionary\n",
    "    - you also want the position that you can use access the same place in the tumor list so you should use enumerate to get both\n",
    "- For each element: \n",
    "    - <b>(8 points) \n",
    "        - Check if there is a different consensus base in the tumor sample versus the normal sample at the same position\n",
    "        - More than half of the bases aligned at that position in the tumor sample suport the consensus\n",
    "    - <b>(5 points)</b> Build a variant call tuple using data from the normal sample at the respective position      \n",
    "    (`genome_positions['normal'][pos]`) and the corresponding element (at the same position) in the value for the 'tumor' key (`genome_positions['tumor'][pos]`)  \n",
    "    - <b>(2 points)</b> add tuple to the `variant_calls` list."
   ]
  },
  {
   "cell_type": "code",
   "execution_count": 55,
   "metadata": {},
   "outputs": [],
   "source": [
    "# Process genomic data\n",
    "# This can be tested with a small made-up genome_positions dictionary\n",
    "from collections import Counter\n",
    "def process_data(genome_positions = None):\n",
    "    '''\n",
    "    This function will process the updated genomic data collected in genome_positions and \n",
    "    return variant calls which is a tuple with the position of interest, the consensus for \n",
    "    both normal and tumor at that position, and the allele frequency for tumor at that \n",
    "    position. \n",
    "    \n",
    "    '''\n",
    "    variant_calls = [] \n",
    "    for pos, d_normal in enumerate(genome_positions[\"normal\"]):\n",
    "        cons_normal = d_normal[\"consensus\"]\n",
    "        d_tumor = genome_positions[\"tumor\"][pos]\n",
    "        cons_tumor = d_tumor[\"consensus\"] \n",
    "        counter_tumor = d_tumor[\"counts\"]\n",
    "        #I want the counter to \"focus\" on the tumor counts at this certain position. \n",
    "        if len(counter_tumor) > 0:\n",
    "        #this if statement will exclude any Counters that have no values in them. \n",
    "            numerator = counter_tumor.most_common(1)[0][1]\n",
    "            #numberator will total the number of the most common base. \n",
    "            denominator = sum(counter_tumor.values())\n",
    "            #denominator will sum up all the values for each nucleotide at that position in tumor, counts. \n",
    "            alelle_freq = numerator/denominator\n",
    "            if (cons_normal != cons_tumor) and (alelle_freq > 0.5):\n",
    "            #this if statement will ensure the consensuses for normal and tumor are different from each other \n",
    "            #at the same position in the genome.  \n",
    "                tup_final = (pos, cons_tumor, cons_normal, alelle_freq) \n",
    "                #built my tuple which I set equal to the variable tup_final.\n",
    "                variant_calls.append(tup_final)\n",
    "                #append my tup_final to my empty list called variant_calls.\n",
    "    return variant_calls"
   ]
  },
  {
   "cell_type": "code",
   "execution_count": null,
   "metadata": {},
   "outputs": [],
   "source": []
  },
  {
   "cell_type": "markdown",
   "metadata": {},
   "source": [
    "---\n",
    "#### This is to run all the code together after all functions are completed. \n",
    "#### The following cells should work if all the code above works.\n",
    "\n",
    "#### I recommend to try a test with a small genome file (100 nucleotides or so) "
   ]
  },
  {
   "cell_type": "code",
   "execution_count": 57,
   "metadata": {},
   "outputs": [
    {
     "data": {
      "text/plain": [
       "[(303, 'A', 'T', 1.0),\n",
       " (424, 'A', 'G', 0.625),\n",
       " (426, 'A', 'C', 0.625),\n",
       " (427, 'A', 'C', 0.625),\n",
       " (429, 'A', 'G', 0.625),\n",
       " (430, 'G', 'T', 0.625),\n",
       " (431, 'A', 'G', 0.625),\n",
       " (432, 'C', 'G', 0.625),\n",
       " (433, 'C', 'A', 0.5555555555555556),\n",
       " (434, 'T', 'A', 0.5555555555555556)]"
      ]
     },
     "execution_count": 57,
     "metadata": {},
     "output_type": "execute_result"
    }
   ],
   "source": [
    "# This will take some time to run for the file provided -- 10 min\n",
    "# Make sure you run the import before you try to test this code\n",
    "# from collections import Counter\n",
    "# import bamnostic as bs\n",
    "\n",
    "# Initialize the list\n",
    "genome_positions = initialize_positions('b_subtilis_genome.fa')\n",
    "\n",
    "# Process all the bam files\n",
    "for filename in ('normal.bam', 'tumor.bam'):\n",
    "    genome_positions = process_bam(filename, filename.split('.')[0], genome_positions)\n",
    "\n",
    "# Process the results\n",
    "results = process_data(genome_positions)\n",
    "\n",
    "# Display the first 10 variant calls\n",
    "results[:10]\n"
   ]
  },
  {
   "cell_type": "code",
   "execution_count": 64,
   "metadata": {},
   "outputs": [
    {
     "data": {
      "text/plain": [
       "92066"
      ]
     },
     "execution_count": 64,
     "metadata": {},
     "output_type": "execute_result"
    }
   ],
   "source": [
    "len(results)"
   ]
  },
  {
   "cell_type": "code",
   "execution_count": 65,
   "metadata": {},
   "outputs": [
    {
     "data": {
      "text/plain": [
       "4215606"
      ]
     },
     "execution_count": 65,
     "metadata": {},
     "output_type": "execute_result"
    }
   ],
   "source": [
    "len(genome_positions[\"normal\"])"
   ]
  },
  {
   "cell_type": "code",
   "execution_count": null,
   "metadata": {},
   "outputs": [],
   "source": []
  },
  {
   "cell_type": "markdown",
   "metadata": {},
   "source": [
    "______________"
   ]
  },
  {
   "cell_type": "code",
   "execution_count": 60,
   "metadata": {},
   "outputs": [],
   "source": [
    "## Example of how the Counter object works it is a special dictionary with the count for each key\n",
    "\n",
    "from collections import Counter\n"
   ]
  },
  {
   "cell_type": "code",
   "execution_count": 61,
   "metadata": {},
   "outputs": [
    {
     "name": "stdout",
     "output_type": "stream",
     "text": [
      "Counter({'C': 3, 'A': 2, 'T': 2, 'G': 1})\n",
      "Counter({'C': 3, 'A': 3, 'T': 2, 'G': 1})\n",
      "<bound method Counter.most_common of Counter({'C': 3, 'A': 3, 'T': 2, 'G': 1})>\n",
      "[('C', 3), ('A', 3), ('T', 2), ('G', 1)]\n"
     ]
    }
   ],
   "source": [
    "from collections import Counter\n",
    "\n",
    "c = Counter()\n",
    "c.update(\"CAGTTACC\")\n",
    "print(c)\n",
    "c.update(\"A\")\n",
    "print(c)\n",
    "print(c.most_common)\n",
    "print(c.most_common())"
   ]
  },
  {
   "cell_type": "code",
   "execution_count": 62,
   "metadata": {},
   "outputs": [
    {
     "name": "stdout",
     "output_type": "stream",
     "text": [
      "Help on function most_common in module collections:\n",
      "\n",
      "most_common(self, n=None)\n",
      "    List the n most common elements and their counts from the most\n",
      "    common to the least.  If n is None, then list all element counts.\n",
      "    \n",
      "    >>> Counter('abracadabra').most_common(3)\n",
      "    [('a', 5), ('b', 2), ('r', 2)]\n",
      "\n"
     ]
    }
   ],
   "source": [
    "help(Counter.most_common)"
   ]
  },
  {
   "cell_type": "markdown",
   "metadata": {},
   "source": [
    "________\n",
    "_________"
   ]
  },
  {
   "cell_type": "markdown",
   "metadata": {
    "tags": []
   },
   "source": [
    "====================================================================\n",
    "#### Extra details about the context of the problem and the data generation if you are interested - not related to the homework\n",
    "\n",
    "#### Background"
   ]
  },
  {
   "cell_type": "markdown",
   "metadata": {},
   "source": [
    "> _B. subtilis_ is a Gram-positive bacterium that is often used as a model organism in the study of bacterial chromosome replication. It is also considered to be the best studied Gram-positive bacterial.[$\\^1\\$](https://wickhamlabs.co.uk/technical-resource-centre/fact-sheet-bacillus-subtilis/)"
   ]
  },
  {
   "cell_type": "markdown",
   "metadata": {},
   "source": [
    "We will be working with some simulated _B. subtilis_ data.   \n",
    "Some key characteristics of the _B. subtilis_ genome is that it is a 4.13611 megabase (Mb) circular genome with a median [GC%](https://en.wikipedia.org/wiki/GC-content) of 43.6[$\\^2\\$](https://www.ncbi.nlm.nih.gov/genome/?term=Bacillus%20subtilis[Organism]&cmd=DetailsSearch)."
   ]
  },
  {
   "cell_type": "markdown",
   "metadata": {
    "tags": []
   },
   "source": [
    ".....................................................................\n",
    "#### Methods"
   ]
  },
  {
   "cell_type": "markdown",
   "metadata": {},
   "source": [
    "The data was simulated using the [Bacillus subtilis subsp. subtilis str. 168](https://support.illumina.com/sequencing/sequencing_software/igenome.html) provided by illumina's iGenomes collection.\n",
    "\n",
    "* [ART](https://www.niehs.nih.gov/research/resources/software/biostatistics/art/) was used to simulate the short reads (`fastq` files) based on the genome above using known base calling error rates and biases within specified illumina technologies\n",
    "* [SInC](https://sourceforge.net/projects/sincsimulator/files/?source=navbar) was used to modify the ART reads to simulate SNPS, CNVs, and indels within the reads\n",
    "* [VarSimLab](https://github.com/NabaviLab/VarSimLab) was used to orchestrate the other technologies and generate the short reads necessary for this assignment\n",
    "* [bwa](http://bio-bwa.sourceforge.net/) was used to align the reads to the reference genome\n",
    "* [samtools](http://www.htslib.org/) was used to sort, merge, and index the resultant files\n",
    "\n",
    "Assuming that all of the above software is installed correctly, the following command was used to generate the data:\n",
    ">```bash\n",
    "python Exome_Script.py -use_genome -c 7 -s -snp 10 -l 100 -sam output b_subtilis_genome.fa\n",
    "\n",
    "\n",
    "There are two samples (normal and tumor) and the parameters in the command above mean that the samples have $\\approx$ 7x coverage of $\\approx$ 100 bp long reads with a SNP rate of 10% across the genome of _B. subtilis_. As this is a cancer cell line simulation workflow, the \"tumor\" sample should significantly differ from the \"normal\"."
   ]
  }
 ],
 "metadata": {
  "kernelspec": {
   "display_name": "Python 3",
   "language": "python",
   "name": "python3"
  },
  "language_info": {
   "codemirror_mode": {
    "name": "ipython",
    "version": 3
   },
   "file_extension": ".py",
   "mimetype": "text/x-python",
   "name": "python",
   "nbconvert_exporter": "python",
   "pygments_lexer": "ipython3",
   "version": "3.8.8"
  }
 },
 "nbformat": 4,
 "nbformat_minor": 4
}
