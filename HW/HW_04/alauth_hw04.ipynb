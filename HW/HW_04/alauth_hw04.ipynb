{
 "cells": [
  {
   "cell_type": "markdown",
   "metadata": {},
   "source": [
    "### Homework 4 - Python control structures\n",
    "### BIOINF 575 - Fall 2021\n",
    "\n",
    "##### Total 50 points "
   ]
  },
  {
   "cell_type": "markdown",
   "metadata": {},
   "source": [
    "For each each problem part provide the solution in Code cells after the description of the problem part.\n",
    "Answers to questions should be written either as comments together with the code or in Markdown cell(s) for each part of the problem.\n",
    "\n",
    "This homework will require the use of data types, control structures (with a focus on functions) and file read and write operations\n"
   ]
  },
  {
   "cell_type": "markdown",
   "metadata": {
    "jp-MarkdownHeadingCollapsed": true,
    "tags": []
   },
   "source": [
    "##### FUNCTION - block of code that only runs when called and can be reused without having to copy the code\n",
    "\n",
    "```python\n",
    "def function_name(arguments):\n",
    "    <statements>\n",
    "    return result\n",
    "\n",
    "# Call the function:\n",
    "function_name(values)\n",
    "```"
   ]
  },
  {
   "cell_type": "markdown",
   "metadata": {
    "tags": []
   },
   "source": [
    "##### FILE - collection of data stored and identified as a unit by the operating system\n",
    "\n",
    "```python\n",
    "\n",
    "# Open file and return a stream.  Raise OSError upon failure.\n",
    "open(file, mode='r', buffering=-1, encoding=None, errors=None, newline=None, closefd=True, opener=None)\n",
    "\n",
    "\n",
    "with open(file_name, \"r\") as file\n",
    "    for line in file:\n",
    "        <statements>\n",
    "```\n",
    "\n",
    "The result of the open function is an iterable object.    \n",
    "Iterable:  An object capable of returning its members one at a time.    \n",
    "https://docs.python.org/3/glossary.html    \n",
    "https://docs.python.org/3/library/collections.abc.html?highlight=iterable#collections.abc.Iterable\n"
   ]
  },
  {
   "cell_type": "code",
   "execution_count": 1,
   "metadata": {},
   "outputs": [],
   "source": [
    "#help(open)"
   ]
  },
  {
   "cell_type": "markdown",
   "metadata": {
    "tags": []
   },
   "source": [
    "______\n",
    "#### Problem 1 - Exploring regulatory networks\n",
    "\n",
    "\n",
    "To understand gene regulation, accurate and comprehensive knowledge of transcriptional regulatory elements is essential. Transcriptional Regulatory Element Database (TRED) has been built in response to increasing needs of an integrated repository for both cis- and trans- regulatory elements in mammals, and the lack of such resources at present.   \n",
    "http://rulai.cshl.edu/cgi-bin/TRED/tred.cgi?process=home\n",
    "\n",
    "Gene Regulatory Networks for the 36 Transcription Factor families in human, mouse, and rat.  \n",
    "http://rulai.cshl.edu/TRED/GRN/grn.htm\n",
    "\n",
    "<img src = \"http://rulai.cshl.edu/TRED/GRN/images/Gli_mouse.png\" width = 500/>\n",
    "\n",
    "<b>Ellipses are transcription factors (TFs).</b>   \n",
    "<b>Boxes are genes.</b>  \n",
    "<b>Red lines indicate the protein-DNA binding is known.</b>    \n",
    "\n",
    "\n",
    "http://rulai.cshl.edu/TRED/GRN/Gli.htm\n",
    " \n",
    "\n",
    "\n",
    "\n"
   ]
  },
  {
   "cell_type": "markdown",
   "metadata": {},
   "source": [
    "#### Genes and TFs are network nodes. \n",
    "#### The dictionary below is constructed based on the above network to store nodes that directly affect at least one node as keys   and the nodes they directly affect in a set as values.\n",
    "``` python\n",
    "biological_network = {\n",
    "    \"Adcyap1\": {\"Gli1\"},\n",
    "    \"Gli1\": {\"Ptch1\", \"Foxa2\", \"Myf5\", \"Nkx2-9\", \"Shh\"},\n",
    "    \"Gli2\": {\"Ptch1\", \"Fgf15\", \"Foxe1\", \"Foxa2\", \"Myf5\", \"Gli1\"},\n",
    "    \"Gli3\": {\"Ptch1\", \"Foxa2\", \"Myf5\", \"Gli1\", \"Shh\"},\n",
    "    \"Ihh\": {\"Gli1\"}\n",
    "}\n",
    "\n",
    "```"
   ]
  },
  {
   "cell_type": "markdown",
   "metadata": {},
   "source": [
    "..................................................................................................\n",
    "\n",
    "<b>Part 1 (10 points)</b> - Finding genes regulated by transcription factors.\n",
    "\n",
    "Use the dictionary and figure above to:\n",
    "- <b>(1 point)</b> Create a tuple with the transcription factors in the network (pink elipses in the figure)\n",
    "    - Write the transcription factor symbols (pink elipses in the figure) manually in a tuple\n",
    "- <b>(1 point)</b> Create a tuple with the genes in the network (blue boxes in the figure)\n",
    "    - Write the gene symbols (light blue boxes in the figure) manually in a tuple\n",
    "- <b>(7 points)</b> Write a function that computes the set of GENES that a given TRANSCRIPTION FACTOR directly regulates in the network\n",
    "    - Make proper validations: \n",
    "        - e.g.: Make sure to check that what the function receives as a transcription factor is really a transcription factor, i.e. is in the transcription factors tuple\n",
    "    - Make use of the functionality available for the data structures you are using\n",
    "    - Include function documentation.\n",
    "-<b>(1 point)</b> Test your function for the following 4 transcription factors: Gli1, Gli2, Gli3 and Foxa2.\n",
    "\n"
   ]
  },
  {
   "cell_type": "code",
   "execution_count": 1,
   "metadata": {},
   "outputs": [],
   "source": [
    "#Write your solution here, feel free to add new cells.\n",
    "##main goal of this function is to determine the genes that are regulated \n",
    "#by transcription factors. \n",
    " \n",
    "biological_network = {\n",
    "    \"Adcyap1\": {\"Gli1\"},\n",
    "    \"Gli1\": {\"Ptch1\", \"Foxa2\", \"Myf5\", \"Nkx2-9\", \"Shh\"},\n",
    "    \"Gli2\": {\"Ptch1\", \"Fgf15\", \"Foxe1\", \"Foxa2\", \"Myf5\", \"Gli1\"},\n",
    "    \"Gli3\": {\"Ptch1\", \"Foxa2\", \"Myf5\", \"Gli1\", \"Shh\"},\n",
    "  \"Ihh\": {\"Gli1\"}\n",
    "}\n",
    "\n",
    "#needed tf and gene tuples. \n",
    "TF_tuple = (\"Gli1\", \"Gli2\", \"Gli3\", \"Foxe1\", \"Foxa2\")\n",
    "genes_tuple = (\"Fgf15\", \"Ptch1\", \"Adcyap1\", \"Ihh\", \"Myf5\", \"Nkx2-9\", \"Shh\")\n",
    "\n",
    "#defining the function with documentation.\n",
    "def testing_genes(tf, network):\n",
    "    '''\n",
    "    Function computes set of genes that are regulated by a transcription factor.\n",
    "    \n",
    "    Parameters: tf (transcription factor) and network (your dictionary).\n",
    "    \n",
    "    Function returns a set of specific genes or prints statements if the transcription \n",
    "    factor does not directly regulate genes in the dictionary or if the value for \n",
    "    the tf parameter is not a transcription factor. \n",
    "    '''\n",
    "    gene_set = set()\n",
    "    key_list = []\n",
    "    for key in network.keys():\n",
    "        key_list.append(key)\n",
    "    \n",
    "    if tf in TF_tuple:\n",
    "        if tf in key_list:\n",
    "            for values in (network[tf]):\n",
    "                if values in genes_tuple:\n",
    "                    gene_set.add(values)\n",
    "        elif tf not in key_list:\n",
    "            print(\"This transcription factor does not directly regulate any genes within this dictionary.\")\n",
    "    else: \n",
    "        print(\"This is not a transcription factor.\")\n",
    "    \n",
    "    return gene_set    \n"
   ]
  },
  {
   "cell_type": "code",
   "execution_count": 2,
   "metadata": {},
   "outputs": [
    {
     "data": {
      "text/plain": [
       "{'Myf5', 'Nkx2-9', 'Ptch1', 'Shh'}"
      ]
     },
     "execution_count": 2,
     "metadata": {},
     "output_type": "execute_result"
    }
   ],
   "source": [
    "testing_genes(\"Gli1\", biological_network)"
   ]
  },
  {
   "cell_type": "code",
   "execution_count": 3,
   "metadata": {},
   "outputs": [
    {
     "data": {
      "text/plain": [
       "{'Fgf15', 'Myf5', 'Ptch1'}"
      ]
     },
     "execution_count": 3,
     "metadata": {},
     "output_type": "execute_result"
    }
   ],
   "source": [
    "testing_genes(\"Gli2\", biological_network)"
   ]
  },
  {
   "cell_type": "code",
   "execution_count": 4,
   "metadata": {},
   "outputs": [
    {
     "data": {
      "text/plain": [
       "{'Myf5', 'Ptch1', 'Shh'}"
      ]
     },
     "execution_count": 4,
     "metadata": {},
     "output_type": "execute_result"
    }
   ],
   "source": [
    "testing_genes(\"Gli3\", biological_network)"
   ]
  },
  {
   "cell_type": "code",
   "execution_count": 5,
   "metadata": {},
   "outputs": [
    {
     "name": "stdout",
     "output_type": "stream",
     "text": [
      "This transcription factor does not directly regulate any genes within this dictionary.\n"
     ]
    },
    {
     "data": {
      "text/plain": [
       "set()"
      ]
     },
     "execution_count": 5,
     "metadata": {},
     "output_type": "execute_result"
    }
   ],
   "source": [
    "testing_genes(\"Foxa2\", biological_network)"
   ]
  },
  {
   "cell_type": "code",
   "execution_count": 6,
   "metadata": {},
   "outputs": [
    {
     "name": "stdout",
     "output_type": "stream",
     "text": [
      "This is not a transcription factor.\n"
     ]
    },
    {
     "data": {
      "text/plain": [
       "set()"
      ]
     },
     "execution_count": 6,
     "metadata": {},
     "output_type": "execute_result"
    }
   ],
   "source": [
    "#I tested a gene to make sure I got the correct statement\n",
    "#if it is not a transcription factor, which I did!\n",
    "\n",
    "testing_genes(\"Fgf15\", biological_network)"
   ]
  },
  {
   "cell_type": "code",
   "execution_count": null,
   "metadata": {},
   "outputs": [],
   "source": []
  },
  {
   "cell_type": "markdown",
   "metadata": {},
   "source": [
    "..................................................................................................\n",
    "\n",
    "<b>Part 2 (10 points)</b> - Finding upstream genes in a regulatory network\n",
    "\n",
    "- <b>(7 points)</b> Write a function that computes the set of transcription factors that a given gene is directly regulated by in the network given by the biological_network dictionary from part 1. \n",
    "    - Make proper validations: \n",
    "        - e.g.: Make sure to check that what the function receives as a transcription factor is really a gene, i.e. is in the genes tuple you created in part 1\n",
    "    - Make use of the functionality available for the data structures you are using\n",
    "    - Include function documentation.\n",
    "- <b>(3 points)</b> Test your function for the following 4 genes: Nkx2-9, Ptch1, Myf5 and Shh\n",
    "    - Use a for loop to get the results for each of the tested genes\n",
    "- <b>(4 BONUS POINTS)</b>\n",
    "    - Identify the common regulators for these 4 genes by computing the intersection of the results.\n",
    "\n"
   ]
  },
  {
   "cell_type": "code",
   "execution_count": 209,
   "metadata": {},
   "outputs": [],
   "source": [
    "##Write your solution here, feel free to add new cells.\n",
    "##This function must compute the set of transcription factors \n",
    "#that a given gene is directly regulated by in the network. \n",
    "\n",
    "biological_network = {\n",
    "    \"Adcyap1\": {\"Gli1\"},\n",
    "    \"Gli1\": {\"Ptch1\", \"Foxa2\", \"Myf5\", \"Nkx2-9\", \"Shh\"},\n",
    "    \"Gli2\": {\"Ptch1\", \"Fgf15\", \"Foxe1\", \"Foxa2\", \"Myf5\", \"Gli1\"},\n",
    "    \"Gli3\": {\"Ptch1\", \"Foxa2\", \"Myf5\", \"Gli1\", \"Shh\"},\n",
    "  \"Ihh\": {\"Gli1\"}\n",
    "}\n",
    "\n",
    "#needed tf and gene tuples.\n",
    "TF_tuple = (\"Gli1\", \"Gli2\", \"Gli3\", \"Foxe1\", \"Foxa2\")\n",
    "genes_tuple = (\"Fgf15\", \"Ptch1\", \"Adcyap1\", \"Ihh\", \"Myf5\", \"Nkx2-9\", \"Shh\")\n",
    "\n",
    "#defining the function with documentation.\n",
    "def testing_tf(gene, network):\n",
    "    '''\n",
    "    Function computes the set of transcription factors that directly regulate \n",
    "    a given gene.\n",
    "    \n",
    "    Parameters: gene (your choice of gene) and network (your dictionary).\n",
    "    \n",
    "    Function returns the set of specific transcription factors or prints statements \n",
    "    if the gene is not regulated by transcription factors in the dictionary or if the \n",
    "    value for the gene parameter is not a gene. \n",
    "    '''\n",
    "    tf_set = set()   \n",
    "    key_list = []\n",
    "    for key in network.keys():\n",
    "        key_list.append(key)\n",
    "    \n",
    "    \n",
    "    for key in TF_tuple:\n",
    "        if key in key_list:\n",
    "            if gene in (network[key]):\n",
    "                if gene in genes_tuple:\n",
    "                    tf_set.add(key)\n",
    "                    \n",
    "#This for loop below is hard code and not generalized. I attempted multiple times \n",
    "#to make this part of the function general with the logic that if I called this \n",
    "#function with a value for gene paramter that was in the genes_tuple but was not \n",
    "#in any of the values for any of the keys in this dictionary, then I could tell \n",
    "#the function to print \"This gene is not regulated by transcription factors.\" I \n",
    "#tried multiple ways to break these nested dictionaries apart to just get the values \n",
    "#to then do either a for loop and/or an if statement but I kept getting my print \n",
    "#statment printed multiple times instead of just once. So I remained with the \n",
    "#hard code because it at least printed my statement once. Below is the general \n",
    "#code I had but it was iterating. \n",
    "\n",
    "#         test = set()\n",
    "#         for value in biological_network.values():\n",
    "#             test.update(value)\n",
    "#             if gene not in test:\n",
    "#                 print(\"This gene is not regulated by transcription factors.\")\n",
    "\n",
    "    for key in key_list:\n",
    "        if gene in genes_tuple:\n",
    "            if key == gene:\n",
    "                print(\"This gene is not regulated by transcription factors.\")\n",
    "    \n",
    "    if gene in TF_tuple:\n",
    "        print(\"This is not a gene.\")\n",
    "        \n",
    "    return tf_set\n"
   ]
  },
  {
   "cell_type": "code",
   "execution_count": 210,
   "metadata": {},
   "outputs": [
    {
     "name": "stdout",
     "output_type": "stream",
     "text": [
      "{'Gli1'}\n",
      "{'Gli1', 'Gli2', 'Gli3'}\n",
      "{'Gli1', 'Gli2', 'Gli3'}\n",
      "{'Gli1', 'Gli3'}\n"
     ]
    }
   ],
   "source": [
    "#testing the four genes (Nkx2-9, Ptch1, Myf5, and Shh) using a for loop.\n",
    "\n",
    "test = [\"Nkx2-9\", \"Ptch1\", \"Myf5\", \"Shh\"]\n",
    "for a in test:\n",
    "    print(testing_tf(a, biological_network))"
   ]
  },
  {
   "cell_type": "code",
   "execution_count": 211,
   "metadata": {},
   "outputs": [
    {
     "name": "stdout",
     "output_type": "stream",
     "text": [
      "This gene is not regulated by transcription factors.\n"
     ]
    },
    {
     "data": {
      "text/plain": [
       "set()"
      ]
     },
     "execution_count": 211,
     "metadata": {},
     "output_type": "execute_result"
    }
   ],
   "source": [
    "#Testing one gene that should not be regulated by any transcription factors. \n",
    "testing_tf(\"Adcyap1\", biological_network)"
   ]
  },
  {
   "cell_type": "code",
   "execution_count": 212,
   "metadata": {},
   "outputs": [
    {
     "name": "stdout",
     "output_type": "stream",
     "text": [
      "This is not a gene.\n"
     ]
    },
    {
     "data": {
      "text/plain": [
       "set()"
      ]
     },
     "execution_count": 212,
     "metadata": {},
     "output_type": "execute_result"
    }
   ],
   "source": [
    "#Testing a TF to make sure we get the correct output. \n",
    "testing_tf(\"Foxa2\", biological_network)"
   ]
  },
  {
   "cell_type": "markdown",
   "metadata": {
    "tags": []
   },
   "source": [
    "______\n",
    "#### Problem 2 - Process a variant call format file to select variants of interest\n",
    "##### 20 points\n",
    "\n",
    "We have variant data for a sample in the file `variant_data_file.vcf`, which contains information about approximatelly 1000 differences found in the genome (Y chromosome) of the specific sample when compared to the reference.\n",
    "\n",
    "The description of the format for the vcf file version 4.1 is available in the following document:\n",
    "https://samtools.github.io/hts-specs/VCFv4.1.pdf\n",
    "\n",
    "Also, below is the header of the vcf file explaining each element on the line above. \n",
    "\n",
    "```\n",
    "##fileformat=VCFv4.0\n",
    "##fileDate=20100610 \n",
    "##source=glfTools v3\n",
    "##reference=1000GenomesPilot-NCBI36 \n",
    "##phasing=NA\n",
    "##INFO=<ID=NS,Number=1,Type=Integer,Description=\"Number of Samples With Mapped Reads\">\n",
    "##INFO=<ID=DP,Number=1,Type=Integer,Description=\"Total Depth\">\n",
    "##INFO=<ID=DB,Number=0,Type=Flag,Description=\"dbSNP membership, build 129\">\n",
    "##INFO=<ID=H2,Number=0,Type=Flag,Description=\"HapMap2 membership\">\n",
    "##FILTER=<ID=NUYR,Description=\"Variant in non-unique Y region\">\n",
    "##FORMAT=<ID=GT,Number=1,Type=String,Description=\"Genotype\">\n",
    "##FORMAT=<ID=GQ,Number=1,Type=Integer,Description=\"Genotype\tQuality\">\n",
    "##FORMAT=<ID=DP,Number=1,Type=Integer,Description=\"Depth\">\n",
    "##INFO=<ID=AC,Number=.,Type=Integer,Description=\"Allele count in genotypes\">\n",
    "##INFO=<ID=AN,Number=1,Type=Integer,Description=\"Total number of alleles in called genotypes\">\n",
    "#CHROM\tPOS\tID\tREF\tALT\tQUAL\tFILTER\tINFO\n",
    "Y\t2728456\trs2058276\tT\tC\t32\t.\tAC=2;AN=2;DB;DP=182;H2;NS=65\n",
    "```\n",
    "\n",
    "\n",
    "\n"
   ]
  },
  {
   "cell_type": "markdown",
   "metadata": {},
   "source": [
    "..................................................................................................\n",
    "\n",
    "<b>Part 1 (10 points)</b>\n",
    "\n",
    "- <b>(8 points)</b> Write a function that takes as input the data for a variant, which has the format of a line in the `variant_data_file.vcf` and <b>returns the rs-identifier</b> if:\n",
    "     - the variant has an identifier (e.g.: rs2058276, missing identifier is denoted by \".\" in the file) AND  \n",
    "     - has a quality of at least 35 AND \n",
    "     - a total read depth higher than 180.   \n",
    "<b>If the conditions are not met return `None`.</b>\n",
    "\n",
    "Note: The missing identifier value and the thresholds for read depth and quality can be arguments in your funtions if you want to allow for flexibility in checking other thresholds.\n",
    "- <b>(2 points)</b> Test your function with at least the following two test variant:\n",
    "\n",
    "```python\n",
    "test_variant1 = \"Y\t2728456\trs2058276\tT\tC\t32\t.\tAC=2;AN=2;DB;DP=182;H2;NS=65\"\n",
    "\n",
    "test_variant2 = \"Y\t2728456\trs2058260\tT\tC\t37\t.\tAC=2;AN=2;DB;DP=182;H2;NS=65\"\n",
    "\n",
    "\n",
    "```\n",
    "Below is the header and a line that contains variant data: \n",
    "\n",
    "#CHROM\tPOS\tID\tREF\tALT\tQUAL\tFILTER\tINFO   \n",
    "Y\t2728456\trs2058276\tT\tC\t32\t.\tAC=2;AN=2;DB;DP=182;H2;NS=65\n",
    "\n",
    "\n",
    "\n",
    "```\n",
    "\n",
    "\n",
    "*   Score breakdown - these are not ordered steps of an algorithm but just elements of the solution to focus on:\n",
    "    - <b>(1 points)</b> Correctly identifying the variant features you are looking to check the values for\n",
    "    - <b>(3 points)</b> Correctly extracting the values for the variant features\n",
    "    - <b>(3 points)</b> Correctly computing the result for different use cases (when all conditions are met, one of the conditions is not met, ...)\n",
    "    - <b>(1 points)</b> Correctly returning the computed result\n",
    "    - <b>(2 points)</b> Testing your function"
   ]
  },
  {
   "cell_type": "code",
   "execution_count": 189,
   "metadata": {},
   "outputs": [],
   "source": [
    "#Write your solution here, feel free to add new cells.\n",
    "# One suggestion would be to break down the string into \n",
    "#smaller parts and then look for the features of interest\n",
    "# You could use the code from the solution of homework 3 to \n",
    "#build your function\n",
    "\n",
    "#variant features I need: ID, QUAL, DP \n",
    "#These are global variables. These can be called into a local \n",
    "#function but must be outside of the function.\n",
    "\n",
    "header_list = \"CHROM\tPOS\tID\tREF\tALT\tQUAL\tFILTER\tINFO\"\n",
    "split_header = header_list.split()\n",
    "index_ID = split_header.index(\"ID\")\n",
    "index_QUAL = split_header.index(\"QUAL\")\n",
    "\n",
    "def ID_extract(variant_data):\n",
    "    '''\n",
    "    This function returns the rs-identifier ONLY if the input from \n",
    "    the data for the parameter variant_data meets ALL three criteria:\n",
    "    1. the variant has an ID, 2. has a quality of at least 35, \n",
    "    3. has a total read depth higher than 100. \n",
    "    If the provided input for the paramter does not mean any one of these\n",
    "    conditions, the function returns None (nonetype).\n",
    "    '''\n",
    "#this was odd for me. I could not use \"\\t\" in the split method because\n",
    "#it would give me an error message. So I tried four spaces and it worked. \n",
    "\n",
    "    split_ID = variant_data.split(\"    \")[index_ID]\n",
    "    \n",
    "    split_QUAL = variant_data.split(\"    \")[index_QUAL]\n",
    "    \n",
    "    split_a = variant_data.split(\"    \")\n",
    "    split_b = split_a[7].split(\";\")\n",
    "    for x in split_b:\n",
    "        split_c = x.split(\"=\") \n",
    "        if \"DP\" in split_c:\n",
    "            split_DP = split_c[1]\n",
    "    \n",
    "    if split_ID != \".\" and int(split_QUAL) >= 35 and int(split_DP) > 180:\n",
    "        return split_ID\n",
    "    else:\n",
    "        return None \n"
   ]
  },
  {
   "cell_type": "code",
   "execution_count": 185,
   "metadata": {},
   "outputs": [
    {
     "name": "stdout",
     "output_type": "stream",
     "text": [
      "None\n"
     ]
    }
   ],
   "source": [
    "#testing my function with test_variant1\n",
    "\n",
    "test_variant1 = \"Y    2728456    rs2058276    T    C    32    .    AC=2;AN=2;DB;DP=182;H2;NS=65\"\n",
    "print(ID_extract(test_variant1))"
   ]
  },
  {
   "cell_type": "code",
   "execution_count": 190,
   "metadata": {},
   "outputs": [
    {
     "name": "stdout",
     "output_type": "stream",
     "text": [
      "rs2058260\n"
     ]
    }
   ],
   "source": [
    "#testing my function with test_variant2\n",
    "\n",
    "test_variant2 = \"Y    2728456    rs2058260    T    C    37    .    AC=2;AN=2;DB;DP=182;H2;NS=65\"\n",
    "print(ID_extract(test_variant2))\n"
   ]
  },
  {
   "cell_type": "code",
   "execution_count": null,
   "metadata": {},
   "outputs": [],
   "source": []
  },
  {
   "cell_type": "markdown",
   "metadata": {},
   "source": [
    "..................................................................................................\n",
    "\n",
    "<b>Part 2 (10 points)</b>\n",
    "\n",
    "Select from the `variant_data_file.vcf` a set of rs-identifiers that denote the  the variants that have a quality of at least 35 and a total read depth higher than 180.\n",
    "\n",
    "```\n",
    "Below is the header and a line that contains variant data:\n",
    "#CHROM\tPOS\tID\tREF\tALT\tQUAL\tFILTER\tINFO\n",
    "Y\t2728456\trs2058276\tT\tC\t32\t.\tAC=2;AN=2;DB;DP=182;H2;NS=65\n",
    "\n",
    "\n",
    "\n",
    "```\n",
    "\n",
    "\n",
    "*   Score breakdown - these are not ordered steps of an algorithm but just elements of the solution to focus on:\n",
    "    - <b>(1 points)</b> Writing code that correctly opens the file\n",
    "    - <b>(1 points)</b> Writing code that goes through the data in the file \n",
    "    - <b>(4 points)</b> Applying the function created above to the lines that have variant data, or writing code that returns the correct result for each line \n",
    "    - <b>(3 points)</b> Corectly building the resulting set of rs identifiers\n",
    "    - <b>(1 points)</b> Writing code that ensures the file is closed at the end"
   ]
  },
  {
   "cell_type": "code",
   "execution_count": 213,
   "metadata": {},
   "outputs": [
    {
     "name": "stdout",
     "output_type": "stream",
     "text": [
      "{'rs34276300', 'rs28586912', 'rs2082033', 'rs2032658', 'rs17316597', 'rs9306841', 'rs2319818', 'rs9786823', 'rs9792835', 'rs17250310', 'rs7893095', 'rs9785740', 'rs7067303', 'rs2032631', 'rs1864469', 'rs17250177', 'rs7892876', 'rs4354487', 'rs17307245', 'rs9786211', 'rs7892920', 'rs9786746', 'rs9786420', 'rs9786391', 'rs3907838', 'rs17222251', 'rs9786781', 'rs7892893', 'rs9786485', 'rs7067412', 'rs9786223', 'rs9341301', 'rs17316778', 'rs9786433', 'rs9786810', 'rs7067460', 'rs9786516', 'rs9786062', 'rs57666145', 'rs9786552', 'rs9785716', 'rs7067346', 'rs9786832', 'rs11096453', 'rs2874089', 'rs9786424', 'rs17307670', 'rs2078144', 'rs7067469', 'rs17250163', 'rs17316372', 'rs9786191', 'rs9785959', 'rs9785739', 'rs7893070', 'rs7067440', 'rs17222167', 'rs9785743', 'rs3906451', 'rs9786684', 'rs9785688', 'rs4141961', 'rs9786357', 'rs60115999', 'rs2072422', 'rs2032652', 'rs17250992', 'rs9786502', 'rs9785784', 'rs1005041', 'rs16980396', 'rs7067278', 'rs35960273', 'rs9785824', 'rs34194308', 'rs9785839', 'rs891407', 'rs7893014', 'rs9786774', 'rs56039724', 'rs765557', 'rs17250226', 'rs9786450', 'rs9786741', 'rs9786335', 'rs9786856', 'rs9786714', 'rs9785717', 'rs2075640', 'rs3853052', 'rs9786458', 'rs7893074', 'rs9786184', 'rs9786097', 'rs1358368', 'rs9785945', 'rs957431', 'rs7067527', 'rs9785999', 'rs17842518', 'rs9786314', 'rs9786477', 'rs17307252', 'rs9785767', 'rs9786505', 'rs7067305'}\n"
     ]
    }
   ],
   "source": [
    "#Write your solution here, feel free to add new cells.\n",
    "#One suggestion would be to break down the string into smaller \n",
    "#parts and then look for the element of interest I wnat to extract \n",
    "\n",
    "\n",
    "#Important Note:I copied and paste my function from Problem 2, \n",
    "#Part 1 below because the spaces in the vcf file provided for \n",
    "#this homework had actualy tabs (\"\\t\"), so my four spaces (\"    \")\n",
    "#would not work in when I used the split method in the function. \n",
    "#So I renamed the function ID_extract_2. \n",
    "\n",
    "\n",
    "header_list = \"CHROM\tPOS\tID\tREF\tALT\tQUAL\tFILTER\tINFO\"\n",
    "split_header = header_list.split()\n",
    "index_ID = split_header.index(\"ID\")\n",
    "index_QUAL = split_header.index(\"QUAL\")\n",
    "\n",
    "ID_set = set()\n",
    "\n",
    "def ID_extract_2(variant_data):\n",
    "    '''\n",
    "    This function returns the rs-identifier ONLY if the input from \n",
    "    the data for the parameter variant_data meets ALL three criteria:\n",
    "    1. the variant has an ID, 2. has a quality of at least 35, \n",
    "    3. has a total read depth higher than 100. \n",
    "    If the provided input for the paramter does not mean any one of these\n",
    "    conditions, the function returns None (nonetype).\n",
    "    '''\n",
    "    split_ID = variant_data.split(\"\\t\")[index_ID]\n",
    "    \n",
    "    split_QUAL = variant_data.split(\"\\t\")[index_QUAL]\n",
    "    \n",
    "    split_a = variant_data.split(\"\\t\")\n",
    "    split_b = split_a[7].split(\";\")\n",
    "    for x in split_b:\n",
    "        split_c = x.split(\"=\") \n",
    "        if \"DP\" in split_c:\n",
    "            split_DP = split_c[1]  \n",
    "    \n",
    "    if split_ID != \".\" and int(split_QUAL) >= 35 and int(split_DP) > 180:\n",
    "        return split_ID\n",
    "    else:\n",
    "        return None \n",
    "\n",
    "#Below is my code regarding the vcf file. \n",
    "\n",
    "with open(\"variant_data_file.vcf\") as variant_file:\n",
    "    for line in variant_file:\n",
    "        if not line.startswith(\"#\"):\n",
    "            final_result = ID_extract_2(line)\n",
    "            if final_result != None:\n",
    "                ID_set.add(final_result)\n",
    "print(ID_set)"
   ]
  },
  {
   "cell_type": "code",
   "execution_count": null,
   "metadata": {},
   "outputs": [],
   "source": []
  },
  {
   "cell_type": "markdown",
   "metadata": {},
   "source": [
    "_______"
   ]
  },
  {
   "cell_type": "markdown",
   "metadata": {},
   "source": [
    "#### Problem 3 - Understand the code\n",
    "##### 10 points\n",
    ".................................................................................................."
   ]
  },
  {
   "cell_type": "markdown",
   "metadata": {},
   "source": [
    "<b>Exploring a regulatory network (10 points) </b>   \n",
    "\n",
    "\n",
    "Explain what the following code does and how it computes the result it displays.\n",
    "- Explaining the line with the for keyword is 2 points and each of the other 8 statements is worth each 1 point.\n"
   ]
  },
  {
   "cell_type": "code",
   "execution_count": 195,
   "metadata": {},
   "outputs": [],
   "source": [
    "biological_network = {\n",
    "    \"AKT\": {\"BAD\", \"GSK3\", \"FOXO3A\", \"IKK\"},\n",
    "    \"CALM\": {\"MLCK\", \"PHK\", \"CAMK\", \"ADCY\", \"PDLM\", \"BAD\"},\n",
    "    \"RAS\": {\"PI3K\", \"BAD\"}}\n",
    "result = set()\n",
    "extra = biological_network[\"AKT\"]\n",
    "for value in biological_network.values():\n",
    "    result.update(value)\n",
    "    extra = extra.intersection(value)\n",
    "print(result)\n",
    "print(extra)\n",
    "extra.pop()"
   ]
  },
  {
   "cell_type": "markdown",
   "metadata": {
    "tags": []
   },
   "source": [
    "#### Write your solution here and then run the cell (Markdown)\n",
    "\n",
    "Line 1: You are creating a dictionary called biological_network with strings as keys and sets as values.\n",
    "\n",
    "Line 2: You are creating an empty set and assigning it to the variable called result. \n",
    "\n",
    "Line 3: You are assigning the variable extra to the index key string \"AKT\" in the biological_network dictionary. \n",
    "\n",
    "Line 4: You are beginning a for loop where your variable value iterates over all the values in the biolgoical_network dictionary. \n",
    "\n",
    "Line 5: Within the for loop, you have your empty set which is the variable result updated with the variable called value, which will place all the values from the dictionary into this set. It is important to remember that you are adding the individual elements to the set and NOT the entire sets. \n",
    "\n",
    "Line 6: We are finding what is common between the sets in the variable extra and setting all of that equal to the variable \"extra\". \n",
    "\n",
    "Line 7: Print the variable result, which should be the completed set filled with all the values from the dictionary. \n",
    "\n",
    "Line 8: Print the variable extra, which should be the one value among all the values in the dictionary that repeats itself more than once.\n",
    "\n",
    "LIne 9. Pop out the value for the variable extra. \n",
    "\n",
    "____ double click here to edit the cell _____"
   ]
  },
  {
   "cell_type": "code",
   "execution_count": 196,
   "metadata": {},
   "outputs": [
    {
     "name": "stdout",
     "output_type": "stream",
     "text": [
      "{'PDLM', 'FOXO3A', 'ADCY', 'PHK', 'BAD', 'IKK', 'MLCK', 'GSK3', 'CAMK', 'PI3K'}\n",
      "{'BAD'}\n"
     ]
    },
    {
     "data": {
      "text/plain": [
       "'BAD'"
      ]
     },
     "execution_count": 196,
     "metadata": {},
     "output_type": "execute_result"
    }
   ],
   "source": [
    "biological_network = {\n",
    "    \"AKT\": {\"BAD\", \"GSK3\", \"FOXO3A\", \"IKK\"},\n",
    "    \"CALM\": {\"MLCK\", \"PHK\", \"CAMK\", \"ADCY\", \"PDLM\", \"BAD\"},\n",
    "    \"RAS\": {\"PI3K\", \"BAD\"}}\n",
    "result = set()\n",
    "extra = biological_network[\"AKT\"]\n",
    "for value in biological_network.values():\n",
    "    result.update(value)\n",
    "    extra = extra.intersection(value)\n",
    "print(result)\n",
    "print(extra)\n",
    "extra.pop()"
   ]
  },
  {
   "cell_type": "code",
   "execution_count": null,
   "metadata": {},
   "outputs": [],
   "source": []
  },
  {
   "cell_type": "code",
   "execution_count": null,
   "metadata": {},
   "outputs": [],
   "source": []
  },
  {
   "cell_type": "code",
   "execution_count": null,
   "metadata": {},
   "outputs": [],
   "source": []
  },
  {
   "cell_type": "code",
   "execution_count": null,
   "metadata": {},
   "outputs": [],
   "source": []
  },
  {
   "cell_type": "markdown",
   "metadata": {},
   "source": [
    "_______\n",
    "_______"
   ]
  }
 ],
 "metadata": {
  "kernelspec": {
   "display_name": "Python 3",
   "language": "python",
   "name": "python3"
  },
  "language_info": {
   "codemirror_mode": {
    "name": "ipython",
    "version": 3
   },
   "file_extension": ".py",
   "mimetype": "text/x-python",
   "name": "python",
   "nbconvert_exporter": "python",
   "pygments_lexer": "ipython3",
   "version": "3.8.8"
  }
 },
 "nbformat": 4,
 "nbformat_minor": 4
}
