{
 "cells": [
  {
   "cell_type": "markdown",
   "metadata": {},
   "source": [
    "### Homework 2 - Python data types - numeric and string\n",
    "### BIOINF 575 - Fall 2021\n",
    "\n",
    "#### Total: 40 points "
   ]
  },
  {
   "cell_type": "markdown",
   "metadata": {},
   "source": [
    "For each each problem part provide the solution in Code cells after the description of the problem part.    \n",
    "Answers to questions should be written either as comments together with the code or in Markdown cell(s) for each part of the problem."
   ]
  },
  {
   "cell_type": "markdown",
   "metadata": {
    "tags": []
   },
   "source": [
    "_______"
   ]
  },
  {
   "cell_type": "markdown",
   "metadata": {},
   "source": [
    "#### Problem 1 - Numeric types, strings and type conversion - computing expressions\n",
    "<b>10 points\n",
    "    \n"
   ]
  },
  {
   "cell_type": "markdown",
   "metadata": {},
   "source": [
    "..................................................................................................\n",
    "\n",
    "<b>Part 1 (5 points) </b>\n",
    "\n",
    "<b> a. (2 points) </b> Write code to extract the 5th digit of a large integer number \n",
    "   - e.g. for 234571125674, the 5th digit is 7)"
   ]
  },
  {
   "cell_type": "code",
   "execution_count": 26,
   "metadata": {},
   "outputs": [
    {
     "data": {
      "text/plain": [
       "'5'"
      ]
     },
     "execution_count": 26,
     "metadata": {},
     "output_type": "execute_result"
    }
   ],
   "source": [
    "#Write your solution here, feel free to add new cells.\n",
    "int_num = \"1029584756\"\n",
    "int_num[4]"
   ]
  },
  {
   "cell_type": "code",
   "execution_count": 5,
   "metadata": {},
   "outputs": [
    {
     "data": {
      "text/plain": [
       "'3'"
      ]
     },
     "execution_count": 5,
     "metadata": {},
     "output_type": "execute_result"
    }
   ],
   "source": [
    "int_num = 102030304\n",
    "str(int_num)[4]\n",
    "#outside you are applying to the result of the string function"
   ]
  },
  {
   "cell_type": "code",
   "execution_count": null,
   "metadata": {},
   "outputs": [],
   "source": []
  },
  {
   "cell_type": "markdown",
   "metadata": {},
   "source": [
    "<b> b. (3 points) </b> Write code to check if a number is a palindrome (it is the same number if you reverse it)\n",
    "   - e.g. 11 and 12344321 are palindromes, while 456 is not"
   ]
  },
  {
   "cell_type": "code",
   "execution_count": 27,
   "metadata": {},
   "outputs": [
    {
     "data": {
      "text/plain": [
       "True"
      ]
     },
     "execution_count": 27,
     "metadata": {},
     "output_type": "execute_result"
    }
   ],
   "source": [
    "#Write your solution here, feel free to add new cells.\n",
    "palindrome_check = \"123456654321\"\n",
    "palindrome_check == palindrome_check[::-1]"
   ]
  },
  {
   "cell_type": "code",
   "execution_count": 13,
   "metadata": {},
   "outputs": [
    {
     "data": {
      "text/plain": [
       "True"
      ]
     },
     "execution_count": 13,
     "metadata": {},
     "output_type": "execute_result"
    }
   ],
   "source": [
    "palindrome_check = 123456654321\n",
    "pal_reverse = int(str(palindrome_check)[::-1])\n",
    "palindrome_check == pal_reverse"
   ]
  },
  {
   "cell_type": "code",
   "execution_count": null,
   "metadata": {},
   "outputs": [],
   "source": []
  },
  {
   "cell_type": "code",
   "execution_count": null,
   "metadata": {},
   "outputs": [],
   "source": []
  },
  {
   "cell_type": "code",
   "execution_count": 34,
   "metadata": {},
   "outputs": [
    {
     "data": {
      "text/plain": [
       "False"
      ]
     },
     "execution_count": 34,
     "metadata": {},
     "output_type": "execute_result"
    }
   ],
   "source": [
    "#Note: I performed a second check to see if a number is not a palindrome. \n",
    "palindrome_check = \"6789\"\n",
    "palindrome_check == palindrome_check[::-1]"
   ]
  },
  {
   "cell_type": "code",
   "execution_count": 17,
   "metadata": {},
   "outputs": [
    {
     "data": {
      "text/plain": [
       "True"
      ]
     },
     "execution_count": 17,
     "metadata": {},
     "output_type": "execute_result"
    }
   ],
   "source": [
    "palindrome_check = 1221\n",
    "pal_reverse = str(palindrome_check)[::-1]\n",
    "pal_check = str(palindrome_check)\n",
    "pal_check == pal_reverse \n"
   ]
  },
  {
   "cell_type": "markdown",
   "metadata": {},
   "source": [
    "..................................................................................................\n",
    "\n",
    "<b>Part 2 (5 points) </b>\n",
    "\n",
    "<b> a. (4 points)</b> Write code that computes the expression $x^3 - 2*x + x0x + 1/\\sqrt{x}$ for a given positive natural number $x$\n",
    "   - An example to explain $x0x$ is:\n",
    "       - if $x = 9$, $x0x = 909$ \n",
    "   - x0x can be created using type conversion and string concatenation\n",
    "    \n",
    "<b> b. (1 point)</b> Test your code for $x = 16$ and $x = 100$\n"
   ]
  },
  {
   "cell_type": "code",
   "execution_count": 31,
   "metadata": {
    "tags": []
   },
   "outputs": [
    {
     "data": {
      "text/plain": [
       "326.5"
      ]
     },
     "execution_count": 31,
     "metadata": {},
     "output_type": "execute_result"
    }
   ],
   "source": [
    "#Write your solution here, feel free to add new cells.\n",
    "#I first used integer 4 as a test while building the code. \n",
    "x = 4\n",
    "y = str(x) + str(0) + str(x)\n",
    "z = int(y)\n",
    "((((x**3) - 2) * x) + z + 1/x**0.5"
   ]
  },
  {
   "cell_type": "code",
   "execution_count": 18,
   "metadata": {},
   "outputs": [
    {
     "data": {
      "text/plain": [
       "460.5"
      ]
     },
     "execution_count": 18,
     "metadata": {},
     "output_type": "execute_result"
    }
   ],
   "source": [
    "x = 4\n",
    "y = str(x) + str(0) + str(x)\n",
    "z = int(y)\n",
    "(x**3) - 2 * x + z + 1/(x**0.5)"
   ]
  },
  {
   "cell_type": "code",
   "execution_count": null,
   "metadata": {},
   "outputs": [],
   "source": []
  },
  {
   "cell_type": "code",
   "execution_count": 32,
   "metadata": {},
   "outputs": [
    {
     "data": {
      "text/plain": [
       "20380.25"
      ]
     },
     "execution_count": 32,
     "metadata": {},
     "output_type": "execute_result"
    }
   ],
   "source": [
    "#Here is where I tested my code for x = 16.\n",
    "x = 16\n",
    "y = str(x) + str(0) + str(x)\n",
    "z = int(y)\n",
    "((((x**3) - 2) * x) + z + 1)/(x**0.5)"
   ]
  },
  {
   "cell_type": "code",
   "execution_count": 33,
   "metadata": {},
   "outputs": [
    {
     "data": {
      "text/plain": [
       "10099990.1"
      ]
     },
     "execution_count": 33,
     "metadata": {},
     "output_type": "execute_result"
    }
   ],
   "source": [
    "#Here is where I tested my code for x = 100. \n",
    "x = 100\n",
    "y = str(x) + str(0) + str(x)\n",
    "z = int(y)\n",
    "((((x**3) - 2) * x) + z + 1)/(x**0.5)"
   ]
  },
  {
   "cell_type": "markdown",
   "metadata": {},
   "source": [
    "______\n",
    "#### Problem 2 - Rank paper abstracts based on the relevance to the keyword \"SARS-CoV-2\"\n",
    "<b>10 points\n",
    "\n",
    "..................................................................................................\n",
    "\n",
    "##### This should be done using only string functions and numeric and boolean operations\n",
    "\n",
    "We will use the term frequency - inverse document frequency (tf-idf) metric to rank the abstracts.\n",
    "This metric is used in information retrieval to score the relevance of each document relative to the words in the search query.\n",
    "Intuitively the term frequency measures if the word appears more times in the document that document which would make that document more relevant (adjusting for the document length).\n",
    "The inverse document frequency accounts for the fact that some words are more common than others.\n",
    "The formula is: \n",
    "\n",
    "```\n",
    "tf_idf = tf * idf\n",
    "tf = count of given term in document/ total number of terms in document\n",
    "idf = log(Number of documents/ Number of documents with the given term)\n",
    "```\n",
    "\n",
    "https://en.wikipedia.org/wiki/Tf–idf  \n",
    "\"A survey conducted in 2015 showed that 83% of text-based recommender systems in digital libraries use tf–idf.[2]\"\n",
    "https://towardsdatascience.com/tf-idf-for-document-ranking-from-scratch-in-python-on-real-world-dataset-796d339a4089\n",
    "    \n"
   ]
  },
  {
   "cell_type": "markdown",
   "metadata": {},
   "source": [
    "<b>a. (1 point)</b> Write code that stores in variables abstract_1, ..., abstract_5 the abstracts of the following 5 papers: \n",
    "(copy paste of the text of the abstract from the online page)  \n",
    "   - Abstract 1: https://www.ncbi.nlm.nih.gov/pmc/articles/PMC7537588/\n",
    "   - Abstract 2. https://pubmed.ncbi.nlm.nih.gov/33116300/\n",
    "   - Abstract 3: https://www.ncbi.nlm.nih.gov/pmc/articles/PMC8447042/\n",
    "   - Abstract 4: https://pubmed.ncbi.nlm.nih.gov/32906143/\n",
    "   - Abstract 5: https://www.ncbi.nlm.nih.gov/pmc/articles/PMC8299217/"
   ]
  },
  {
   "cell_type": "code",
   "execution_count": 35,
   "metadata": {},
   "outputs": [],
   "source": [
    "#Write your solution here, feel free to add new cells.\n",
    "abstract_1 = \"Severe acute respiratory syndrome coronavirus 2 (SARS-CoV-2) is a highly transmissible and pathogenic coronavirus that emerged in late 2019 and has caused a pandemic of acute respiratory disease, named ‘coronavirus disease 2019’ (COVID-19), which threatens human health and public safety. In this Review, we describe the basic virology of SARS-CoV-2, including genomic characteristics and receptor use, highlighting its key difference from previously known coronaviruses. We summarize current knowledge of clinical, epidemiological and pathological features of COVID-19, as well as recent progress in animal models and antiviral treatment approaches for SARS-CoV-2 infection. We also discuss the potential wildlife hosts and zoonotic origin of this emerging virus in detail.\"\n",
    "abstract_2 = \"The SARS-CoV-2 pandemic and its unprecedented global societal and economic disruptive impact has marked the third zoonotic introduction of a highly pathogenic coronavirus into the human population. Although the previous coronavirus SARS-CoV and MERS-CoV epidemics raised awareness of the need for clinically available therapeutic or preventive interventions, to date, no treatments with proven efficacy are available. The development of effective intervention strategies relies on the knowledge of molecular and cellular mechanisms of coronavirus infections, which highlights the significance of studying virus-host interactions at the molecular level to identify targets for antiviral intervention and to elucidate critical viral and host determinants that are decisive for the development of severe disease. In this Review, we summarize the first discoveries that shape our current understanding of SARS-CoV-2 infection throughout the intracellular viral life cycle and relate that to our knowledge of coronavirus biology. The elucidation of similarities and differences between SARS-CoV-2 and other coronaviruses will support future preparedness and strategies to combat coronavirus infections.\"\n",
    "abstract_3 = \"Most early Bluetooth‐based exposure notification apps use three binary classifications to recommend quarantine following SARS‐CoV‐2 exposure: a window of infectiousness in the transmitter, ≥15 minutes duration, and Bluetooth attenuation below a threshold. However, Bluetooth attenuation is not a reliable measure of distance, and infection risk is not a binary function of distance, nor duration, nor timing. We model uncertainty in the shape and orientation of an exhaled virus‐containing plume and in inhalation parameters, and measure uncertainty in distance as a function of Bluetooth attenuation. We calculate expected dose by combining this with estimated infectiousness based on timing relative to symptom onset. We calibrate an exponential dose–response curve based on infection probabilities of household contacts. The probability of current or future infectiousness, conditioned on how long postexposure an exposed individual has been symptom‐free, decreases during quarantine, with shape determined by incubation periods, proportion of asymptomatic cases, and asymptomatic shedding durations. It can be adjusted for negative test results using Bayes' theorem. We capture a 10‐fold range of risk using six infectiousness values, 11‐fold range using three Bluetooth attenuation bins, ∼sixfold range from exposure duration given the 30 minute duration cap imposed by the Google/Apple v1.1, and ∼11‐fold between the beginning and end of 14 day quarantine. Public health authorities can either set a threshold on initial infection risk to determine 14‐day quarantine onset, or on the conditional probability of current and future infectiousness conditions to determine both quarantine and duration.\"\n",
    "abstract_4 = \"Severe acute respiratory syndrome coronavirus 2 (SARS-CoV-2) is the cause of the ongoing coronavirus disease 2019 (COVID-19) pandemic1. To understand the pathogenicity and antigenic potential of SARS-CoV-2 and to develop therapeutic tools, it is essential to profile the full repertoire of its expressed proteins. The current map of SARS-CoV-2 coding capacity is based on computational predictions and relies on homology with other coronaviruses. As the protein complement varies among coronaviruses, especially in regard to the variety of accessory proteins, it is crucial to characterize the specific range of SARS-CoV-2 proteins in an unbiased and open-ended manner. Here, using a suite of ribosome-profiling techniques2-4, we present a high-resolution map of coding regions in the SARS-CoV-2 genome, which enables us to accurately quantify the expression of canonical viral open reading frames (ORFs) and to identify 23 unannotated viral ORFs. These ORFs include upstream ORFs that are likely to have a regulatory role, several in-frame internal ORFs within existing ORFs, resulting in N-terminally truncated products, as well as internal out-of-frame ORFs, which generate novel polypeptides. We further show that viral mRNAs are not translated more efficiently than host mRNAs; instead, virus translation dominates host translation because of the high levels of viral transcripts. Our work provides a resource that will form the basis of future functional studies.\"\n",
    "abstract_5 = \"SARS-CoV-2 infection can cause severe respiratory COVID-19. However, many individuals present with isolated upper respiratory symptoms, suggesting potential to constrain viral pathology to the nasopharynx. Which cells SARS-CoV-2 primarily targets and how infection influences the respiratory epithelium remains incompletely understood. We performed scRNA-seq on nasopharyngeal swabs from 58 healthy and COVID-19 participants. During COVID-19, we observe expansion of secretory, loss of ciliated, and epithelial cell repopulation via deuterosomal cell expansion. In mild and moderate COVID-19, epithelial cells express anti-viral/interferon-responsive genes, while cells in severe COVID-19 have muted anti-viral responses despite equivalent viral loads. SARS-CoV-2 RNA+ host-target cells are highly heterogenous, including developing ciliated, interferon-responsive ciliated, AZGP1high goblet, and KRT13+ “hillock”-like cells, and we identify genes associated with susceptibility, resistance, or infection response. Our study defines protective and detrimental responses to SARS-CoV-2, the direct viral targets of infection, and suggests that failed nasal epithelial anti-viral immunity may underlie and precede severe COVID-19.\"\n"
   ]
  },
  {
   "cell_type": "markdown",
   "metadata": {},
   "source": [
    "    \n",
    "<b>b. (1 point)</b> Write code that computes how many times the text \"SARS-CoV-2\" appears in each of the 5 abstracts \n",
    "\n"
   ]
  },
  {
   "cell_type": "code",
   "execution_count": 46,
   "metadata": {},
   "outputs": [],
   "source": [
    "#Write your solution here, feel free to add new cells.\n",
    "counts_1 = abstract_1.count(\"SARS-CoV-2\")\n",
    "counts_2 = abstract_2.count(\"SARS-CoV-2\")\n",
    "counts_3 = abstract_3.count(\"SARS-CoV-2\")\n",
    "counts_4 = abstract_4.count(\"SARS-CoV-2\")\n",
    "counts_5 = abstract_5.count(\"SARS-CoV-2\")"
   ]
  },
  {
   "cell_type": "code",
   "execution_count": 69,
   "metadata": {},
   "outputs": [
    {
     "name": "stdout",
     "output_type": "stream",
     "text": [
      "3\n",
      "3\n",
      "0\n",
      "5\n",
      "4\n"
     ]
    }
   ],
   "source": [
    "print(counts_1)\n",
    "print(counts_2)\n",
    "print(counts_3)\n",
    "print(counts_4)\n",
    "print(counts_5)"
   ]
  },
  {
   "cell_type": "markdown",
   "metadata": {},
   "source": [
    "<b>c. (1 point)</b> Write code that computes how many words are each of the 5 abstracts    \n",
    "(words are separated by space)\n",
    "\n"
   ]
  },
  {
   "cell_type": "code",
   "execution_count": 45,
   "metadata": {},
   "outputs": [
    {
     "name": "stdout",
     "output_type": "stream",
     "text": [
      "108\n"
     ]
    }
   ],
   "source": [
    "#Write your solution here, feel free to add new cells.\n",
    "#Note: I decided to add the integer 2 because the code is only counting words separated by space and not\n",
    "#including the very first and the very last words in each abstract. \n",
    "\n",
    "abstract_1.split(\" \")\n",
    "number_of_words_abstract_1 = abstract_1.count(\" \") + 2\n",
    "print(number_of_words_abstract_1)"
   ]
  },
  {
   "cell_type": "code",
   "execution_count": 36,
   "metadata": {},
   "outputs": [
    {
     "name": "stdout",
     "output_type": "stream",
     "text": [
      "162\n"
     ]
    }
   ],
   "source": [
    "abstract_2.split(\" \")\n",
    "number_of_words_abstract_2 = abstract_2.count(\" \") + 2\n",
    "print(number_of_words_abstract_2)"
   ]
  },
  {
   "cell_type": "code",
   "execution_count": 39,
   "metadata": {},
   "outputs": [
    {
     "name": "stdout",
     "output_type": "stream",
     "text": [
      "240\n"
     ]
    }
   ],
   "source": [
    "abstract_3.split(\" \")\n",
    "number_of_words_abstract_3 = abstract_3.count(\" \") + 2\n",
    "print(number_of_words_abstract_3)"
   ]
  },
  {
   "cell_type": "code",
   "execution_count": 40,
   "metadata": {},
   "outputs": [
    {
     "name": "stdout",
     "output_type": "stream",
     "text": [
      "215\n"
     ]
    }
   ],
   "source": [
    "abstract_4.split(\" \")\n",
    "number_of_words_abstract_4 = abstract_4.count(\" \") + 2\n",
    "print(number_of_words_abstract_4)"
   ]
  },
  {
   "cell_type": "code",
   "execution_count": 41,
   "metadata": {},
   "outputs": [
    {
     "name": "stdout",
     "output_type": "stream",
     "text": [
      "152\n"
     ]
    }
   ],
   "source": [
    "abstract_5.split(\" \")\n",
    "number_of_words_abstract_5 = abstract_5.count(\" \") + 2\n",
    "print(number_of_words_abstract_5)"
   ]
  },
  {
   "cell_type": "markdown",
   "metadata": {},
   "source": [
    "<b>d. (3 points)</b> In how many abstracts does the text \"SARS-CoV-2\" appear?   \n",
    "Write code that computes this number using the counts computed at point <b>a</b>, comparison operators and mathematical computations using logical values.\n",
    "\n"
   ]
  },
  {
   "cell_type": "code",
   "execution_count": 68,
   "metadata": {},
   "outputs": [
    {
     "data": {
      "text/plain": [
       "True"
      ]
     },
     "execution_count": 68,
     "metadata": {},
     "output_type": "execute_result"
    }
   ],
   "source": [
    "#Write your solution here, feel free to add new cells. \n",
    "counts_1 >= 1"
   ]
  },
  {
   "cell_type": "code",
   "execution_count": 54,
   "metadata": {},
   "outputs": [
    {
     "data": {
      "text/plain": [
       "True"
      ]
     },
     "execution_count": 54,
     "metadata": {},
     "output_type": "execute_result"
    }
   ],
   "source": [
    "counts_2 >= 1"
   ]
  },
  {
   "cell_type": "code",
   "execution_count": 55,
   "metadata": {},
   "outputs": [
    {
     "data": {
      "text/plain": [
       "False"
      ]
     },
     "execution_count": 55,
     "metadata": {},
     "output_type": "execute_result"
    }
   ],
   "source": [
    "counts_3 >= 1"
   ]
  },
  {
   "cell_type": "code",
   "execution_count": 56,
   "metadata": {},
   "outputs": [
    {
     "data": {
      "text/plain": [
       "True"
      ]
     },
     "execution_count": 56,
     "metadata": {},
     "output_type": "execute_result"
    }
   ],
   "source": [
    "counts_4 >= 1"
   ]
  },
  {
   "cell_type": "code",
   "execution_count": 57,
   "metadata": {},
   "outputs": [
    {
     "data": {
      "text/plain": [
       "True"
      ]
     },
     "execution_count": 57,
     "metadata": {},
     "output_type": "execute_result"
    }
   ],
   "source": [
    "counts_5 >= 1"
   ]
  },
  {
   "cell_type": "code",
   "execution_count": 1,
   "metadata": {},
   "outputs": [
    {
     "data": {
      "text/plain": [
       "4"
      ]
     },
     "execution_count": 1,
     "metadata": {},
     "output_type": "execute_result"
    }
   ],
   "source": [
    "#Note: Here I used a mathematical computation (+) using logical values that I got from the code above to \n",
    "#determine how many abstracts contain the desired text. \n",
    "True + True + False + True + True \n",
    "#I should have added the expressions in one unique \n",
    "#expression and set the numerical value equail to \n",
    "#into a variable. "
   ]
  },
  {
   "cell_type": "markdown",
   "metadata": {},
   "source": [
    "<b>e. (3 points)</b> Write code that computes the TF-IDF for text \"SARS-CoV-2\" for each of the 5 abstracts\n",
    "\n"
   ]
  },
  {
   "cell_type": "code",
   "execution_count": 63,
   "metadata": {},
   "outputs": [],
   "source": [
    "#Write your solution here, feel free to add new cells.\n",
    "#Note: I just copied the math equations from the beginning of problem 2 here for quicker reference. \n",
    "#My answers are in the next cells below. \n",
    "\n",
    "tf_idf = tf * idf\n",
    "tf = count of given term in document/ total number of terms in document\n",
    "idf = log(Number of documents/ Number of documents with the given term)"
   ]
  },
  {
   "cell_type": "code",
   "execution_count": 73,
   "metadata": {
    "tags": []
   },
   "outputs": [
    {
     "name": "stdout",
     "output_type": "stream",
     "text": [
      "0.006198431980950271\n"
     ]
    }
   ],
   "source": [
    "import math\n",
    "tf = (counts_1)/(number_of_words_abstract_1)\n",
    "idf = (math.log(5/4))\n",
    "tf_idf = tf * idf\n",
    "print(tf_idf)"
   ]
  },
  {
   "cell_type": "code",
   "execution_count": 74,
   "metadata": {},
   "outputs": [
    {
     "name": "stdout",
     "output_type": "stream",
     "text": [
      "0.004132287987300181\n"
     ]
    }
   ],
   "source": [
    "tf = (counts_2)/(number_of_words_abstract_2)\n",
    "idf = (math.log(5/4))\n",
    "tf_idf = tf * idf\n",
    "print(tf_idf)"
   ]
  },
  {
   "cell_type": "code",
   "execution_count": 75,
   "metadata": {},
   "outputs": [
    {
     "name": "stdout",
     "output_type": "stream",
     "text": [
      "0.0\n"
     ]
    }
   ],
   "source": [
    "tf = (counts_3)/(number_of_words_abstract_3)\n",
    "idf = (math.log(5/4))\n",
    "tf_idf = tf * idf\n",
    "print(tf_idf)"
   ]
  },
  {
   "cell_type": "code",
   "execution_count": 76,
   "metadata": {},
   "outputs": [
    {
     "name": "stdout",
     "output_type": "stream",
     "text": [
      "0.005189384914283948\n"
     ]
    }
   ],
   "source": [
    "tf = (counts_4)/(number_of_words_abstract_4)\n",
    "idf = (math.log(5/4))\n",
    "tf_idf = tf * idf\n",
    "print(tf_idf)"
   ]
  },
  {
   "cell_type": "code",
   "execution_count": 77,
   "metadata": {
    "tags": []
   },
   "outputs": [
    {
     "name": "stdout",
     "output_type": "stream",
     "text": [
      "0.0058721987187949935\n"
     ]
    }
   ],
   "source": [
    "tf = (counts_5)/(number_of_words_abstract_5)\n",
    "idf = (math.log(5/4))\n",
    "tf_idf = tf * idf\n",
    "print(tf_idf)"
   ]
  },
  {
   "cell_type": "markdown",
   "metadata": {},
   "source": [
    "<b>f. (1 point)</b> Based on the computed TF-IDF for the for the 5 abstracts, what is the abstract would you recommend to look at first and which one would you recommend to look at last if you are interested in learning more about \"SARS-CoV-2\"? Justify your recommendation. "
   ]
  },
  {
   "cell_type": "code",
   "execution_count": 96,
   "metadata": {},
   "outputs": [],
   "source": [
    "#Write your solution here, feel free to add new cells.\n",
    "\n",
    "#Based on the computed TF-IDF values, I would recommend looking at abstract 1 first and abstract 3 last, since abstract 1 had the highest \n",
    "#TF-IDF value of 0.006198 and abstract 3 had the lowest value of 0.0. To me, this can be misleading since abstract 4 had the most counts \n",
    "#for the desired text, but it had more total words compared to abstract 1's total word count. So when you do simple division to calculate TF, \n",
    "#abstract 1 has a higher value than abstract 4. Since the value of IDF was constant among all five abstracts, I believed the value of TF was  \n",
    "#really the deciding factor for the value of TF-IDF. So I may put forth an educated guess and say that these TF-IDF values may help a researcher \n",
    "#just so much and the researcher should know its limitations based on specific desired text, number of times the desired text appears, and the \n",
    "#exact total word counts in the documents. "
   ]
  },
  {
   "cell_type": "markdown",
   "metadata": {},
   "source": [
    "_______"
   ]
  },
  {
   "cell_type": "markdown",
   "metadata": {
    "tags": []
   },
   "source": [
    "#### Problem 3 - Fun with sequences/strings\n",
    "<b>(10 points)\n",
    "\n",
    ".................................................................................................."
   ]
  },
  {
   "cell_type": "markdown",
   "metadata": {
    "tags": []
   },
   "source": [
    "<b>Part 1 (5 points)</b> - DNA sequence display \n",
    "- Write one single expression (e.g.: a+b, 5-3*2,) that computes a string that looks like the following display if you use the `print` function to display it.\n",
    "- The expression should meet the following requirements:\n",
    "   * It can contain numbers, $*$ and $+$ operators, and type conversions (if needed))\n",
    "   * It can only strings with unique characters (e.g.: \"-A\" is a string with unique characters, \"AA\" or \"A..C\", or \"-G-\" are not) \n",
    "\n",
    "```\n",
    ". DNA SEQUENCE 1. \n",
    ".    AAA        .\n",
    ".  CCCCCCC      .\n",
    ". TTTTTAAAA     .  \n",
    ".  GGGGGGG      . \n",
    ".    TTT        .\n",
    "```\n",
    "\n"
   ]
  },
  {
   "cell_type": "code",
   "execution_count": 91,
   "metadata": {},
   "outputs": [
    {
     "name": "stdout",
     "output_type": "stream",
     "text": [
      "DNA SEQUENCE 1\n",
      "   AAA\n",
      " CCCCCCC\n",
      "TTTTTAAAA\n",
      " GGGGGGG\n",
      "   TTT\n"
     ]
    }
   ],
   "source": [
    "#Write your solution here, feel free to add new cells.\n",
    "string_one = \"DNA SEQUENCE 1\\n\" + \" \"*3 + \"A\"*3 + \"\\n\" + \" \" + \"C\"*7 + \"\\n\" + (\"T\"*5 + \"A\"*4) + \"\\n\"+ \" \" + \"G\"*7 + \"\\n\" + \" \"*3 + \"T\"*3\n",
    "print(string_one) "
   ]
  },
  {
   "cell_type": "markdown",
   "metadata": {},
   "source": [
    "..................................................................................................\n",
    "\n",
    "<b>Part 2 (5 points) </b> - Displaying the stem-loop of a microRNA\n",
    "\n",
    "\"MiRNA are small, evolutionary conserved, single-stranded, non-coding RNA molecules that bind target mRNA to prevent protein production.\" \n",
    "https://www.ncbi.nlm.nih.gov/pmc/articles/PMC3048316/\n",
    "\n",
    "\"miRNAs have been implicated in the regulation of virtually all signaling circuits within a cell and their dysregulation has been shown to play an essential role in the development and progression of cancer.\"\n",
    "https://www.ncbi.nlm.nih.gov/pmc/articles/PMC4009396/\n",
    "\n",
    "\"MicroRNA miR-4779 suppresses tumor growth by inducing apoptosis and cell cycle arrest through direct targeting of PAK2 and CCND3\"\n",
    "https://www.ncbi.nlm.nih.gov/pmc/articles/PMC5833427/\n",
    "\n",
    "\n",
    "- Write one single expression that uses the sequence of miR-4779 and displays its stem-loop     \n",
    "https://www.mirbase.org/cgi-bin/mirna_entry.pl?acc=MI0017423\n",
    "\n",
    "The sequence:\n",
    "`\n",
    "UAAAUGUCUUACUGCUUUUACUGUUCCCUCCUAGAGUCCAUUCUUUACUCUAGGAGGGAAUAGUAAAAGCAGUAAGACAUUUA\n",
    "`\n",
    "\n",
    "The stem-loop:\n",
    "```\n",
    "                                        cca    \n",
    "5' uaaaugucuuacugcuuuuacuguucccuccuagagu   u    \n",
    "   |||||||||||||||||||||||||||||||||||||   u    \n",
    "3' auuuacagaaugacgaaaaugauaagggaggaucuca   c    \n",
    "                                        uuu     \n",
    "```\n",
    "\n",
    "\n",
    "- The expression can use strings that contain spaces, numbers \"'\" or \"|\", the \"+\" operator and can use subsetting and string functions to get specific parts of the sequence that you need to put on each line.\n",
    "\n",
    "e.g.: assume seq is the variable with the sequence string:\n",
    "```\n",
    "print(\"7  ' \" + seq[:2] + \"|\") \n",
    "```\n",
    "would result in:\n",
    "```\n",
    "7  ' ua|\n",
    "```"
   ]
  },
  {
   "cell_type": "code",
   "execution_count": 92,
   "metadata": {},
   "outputs": [
    {
     "name": "stdout",
     "output_type": "stream",
     "text": [
      "                                        cca                                         \n",
      "5' uaaaugucuuacugcuuuuacuguucccuccuagagu   u    \n",
      "   |||||||||||||||||||||||||||||||||||||   u    \n",
      "3' auuuacagaaugacgaaaaugauaagggaggaucuca   c    \n",
      "                                        uuu                                         \n"
     ]
    }
   ],
   "source": [
    "#Write your solution here, feel free to add new cells. \n",
    "seq = \"UAAAUGUCUUACUGCUUUUACUGUUCCCUCCUAGAGUCCAUUCUUUACUCUAGGAGGGAAUAGUAAAAGCAGUAAGACAUUUA\"\n",
    "seq_1 = seq.lower()\n",
    "print(seq_1[37:40].center(84) + \"\\n\" + \"5' \" + seq_1[0:37] + seq_1[40].center(8) + \"\\n\" + \" \"*3 + \"|\"*37 + seq_1[41].center(8) + \"\\n\" + \"3' \" + seq_1[86:45:-1] + seq_1[42].center(8) + \"\\n\" + seq_1[43:46].center(84))"
   ]
  },
  {
   "cell_type": "markdown",
   "metadata": {},
   "source": [
    "#### Problem 4 - Understand the code\n",
    "<b>(10 points)<b/>"
   ]
  },
  {
   "cell_type": "markdown",
   "metadata": {},
   "source": [
    "..................................................................................................\n",
    "\n",
    "<b>Part 1 (5 points) </b>   \n",
    "\n",
    "Explain what the following code does and how it computes the result it displays.\n",
    "- Explaining the statments 1,2 & 4 are worth 0.5 points each and explaining statement 3 is worth 3.5 points each.\n",
    "\n",
    "```python\n",
    "sequence  = \"uaaaugucuuacugcuuuuacuguucccuccuagagu\"\n",
    "miR_4779 = \"UAAAUGUCUUACUGCUUUUACUGUUCCCUCCUAGAGUCCAUUCUUUACUCUAGGAGGGAAUAGUAAAAGCAGUAAGACAUUUA\"\n",
    "computed_seq = sequence.upper() + \"CCAUUCUUU\" + sequence.translate(str.maketrans(\"acgu\",\"ugca\")).upper()[::-1]\n",
    "computed_seq == miR_4779\n",
    "```"
   ]
  },
  {
   "cell_type": "markdown",
   "metadata": {},
   "source": [
    "#### Write your solution here and then run the cell (Markdown)\n",
    "#Statement 1: You are assigning a DNA sequence as a string to the variable named sequence. \n",
    "\n",
    "#Statement 2: You are assigning another DNA sequence as a string to the variable named miR_4779. \n",
    "\n",
    "#Statement 3: You are capitalizing the entire string in the variable called sequence. Then you are appending the additional string of sequence to the current sequence that you just capitalized. For the last part of this statement, you are first using the maketrans command to create a mapping table where the target string, \"acgu\", is to be replaced with the desired string, \"ugca\". The translate command will then return a final sequence string where the specified string in the maketrans command is replaced with the desired string in the mapping table from the maketrans command. Finally, the  sequence string will be reversed and added to the master sequence string that is assigned to variable named computed_seq.\n",
    "\n",
    "#Statement 4: You are using a boolean operator == to see if computed_seq and miR_4779 are equal (True) or not equal (False). Since we added to the variable computed_seq, it makes logical sense that computed_seq will not equal the variable miR_4779. Thus, the result should be FALSE, which it is when you run the code. \n",
    "\n",
    "\n",
    "\n",
    "\n",
    "\n",
    "____ double click here to edit the cell _____"
   ]
  },
  {
   "cell_type": "code",
   "execution_count": 94,
   "metadata": {},
   "outputs": [
    {
     "data": {
      "text/plain": [
       "False"
      ]
     },
     "execution_count": 94,
     "metadata": {},
     "output_type": "execute_result"
    }
   ],
   "source": [
    "sequence  = \"uaaaugucuuacugcuuuuacuguucccuccuagagu\"\n",
    "miR_4779 = \"UAAAUGUCUUACUGCUUUUACUGUUCCCUCCUAGAGUCCAUUCUUUACUCUAGGAGGGAAUAGUAAAAGCAGUAAGACAUUUA\"\n",
    "computed_seq = sequence.upper() + \"CCAUUCUUU\" + sequence.translate(str.maketrans(\"acgu\",\"ugca\")).upper()[::-1]\n",
    "computed_seq == miR_4779"
   ]
  },
  {
   "cell_type": "markdown",
   "metadata": {},
   "source": [
    "..................................................................................................\n",
    "\n",
    "<b>Part 2 (5 points) </b>   \n",
    "\n",
    "Explain what the following code does and how it computes the result it displays.\n",
    "- Explaining statment 1 is worth 3 points, statement 2 is worth 0.5 points and statement 3 is worth 1.5 points. \n",
    "\n",
    "```python\n",
    "different_bases = (computed_seq.count(\"A\") != miR_4779.count(\"A\"))* \"A\" +\\\n",
    "                (computed_seq.count(\"C\") != miR_4779.count(\"C\"))* \"C\" +\\\n",
    "                (computed_seq.count(\"G\") != miR_4779.count(\"G\"))* \"G\" +\\\n",
    "                (computed_seq.count(\"U\") != miR_4779.count(\"U\"))* \"U\"\n",
    "print(different_bases)\n",
    "\n",
    "computed_seq[58:63] + \" \" + miR_4779[58:63]\n",
    "```"
   ]
  },
  {
   "cell_type": "markdown",
   "metadata": {},
   "source": [
    "#### Write your solution here and then run the cell (Markdown)\n",
    "\n",
    "#Statement 1: You are assigning this code to the variable called different_bases. You are using boolean operations to see if the number of a specific nucleotide (A, C, G, or U) in a string assigned to the variable computed_seq is NOT equal to the number of the same specific nucleotide in another string assigned to the variable miR_4779. If it is true, then TRUE would equal 1 and the value of 1 would be mutlipled by the specific nucleotide, which is a string, resulting in the nucleotide string value. If the boolean operation is false, then FALSE would equal 0 and the value of 0 would be mutlipled by the specific nucleotide, which is a string, resulting in no answer but ''. This code will repeat three more times to run through all four nucelotides, adding each result to the previous result with the \"+\" operator.\n",
    "\n",
    "#Statemetn 2: You are printing the variable called different_bases, which gives the addition of the strings whose boolean results were TRUE and FALSE. Only the TRUE results will have nucleotide strings to add, while the FASLE results will have no output to add. Thus, when we run the code, we see that it is true for nucleotides \"C\" and \"U\", and thus we get the output of \"CU\".\n",
    "\n",
    "#Statement 3: You are taking a specific index from the string in the variable called computed_seq, adding a space, and then adding another specific index from the string in the variable called miR_4779. After we run the code, our result includes the two indexed strings separated by a space. \n",
    "\n",
    "____ double click here to edit the cell _____"
   ]
  },
  {
   "cell_type": "code",
   "execution_count": 247,
   "metadata": {},
   "outputs": [
    {
     "data": {
      "text/plain": [
       "False"
      ]
     },
     "execution_count": 247,
     "metadata": {},
     "output_type": "execute_result"
    }
   ],
   "source": [
    "(computed_seq.count(\"A\") != miR_4779.count(\"A\"))"
   ]
  },
  {
   "cell_type": "code",
   "execution_count": 248,
   "metadata": {},
   "outputs": [
    {
     "data": {
      "text/plain": [
       "''"
      ]
     },
     "execution_count": 248,
     "metadata": {},
     "output_type": "execute_result"
    }
   ],
   "source": [
    "(computed_seq.count(\"A\") != miR_4779.count(\"A\")) * \"A\""
   ]
  },
  {
   "cell_type": "code",
   "execution_count": 260,
   "metadata": {},
   "outputs": [
    {
     "name": "stdout",
     "output_type": "stream",
     "text": [
      "CU\n"
     ]
    },
    {
     "data": {
      "text/plain": [
       "'AACAG AAUAG'"
      ]
     },
     "execution_count": 260,
     "metadata": {},
     "output_type": "execute_result"
    }
   ],
   "source": [
    "different_bases = (computed_seq.count(\"A\") != miR_4779.count(\"A\"))* \"A\" +\\\n",
    "                (computed_seq.count(\"C\") != miR_4779.count(\"C\"))* \"C\" +\\\n",
    "                (computed_seq.count(\"G\") != miR_4779.count(\"G\"))* \"G\" +\\\n",
    "                (computed_seq.count(\"U\") != miR_4779.count(\"U\"))* \"U\"\n",
    "print(different_bases)\n",
    "\n",
    "computed_seq[58:63] + \" \" + miR_4779[58:63] "
   ]
  },
  {
   "cell_type": "code",
   "execution_count": 95,
   "metadata": {},
   "outputs": [
    {
     "name": "stdout",
     "output_type": "stream",
     "text": [
      "there are 37 nucleotides in the following sequence: \n",
      "uaaaugucuuacugcuuuuacuguucccuccuagagu\n",
      "\n",
      "there are 83 nucleotides in the following sequence: \n",
      "UAAAUGUCUUACUGCUUUUACUGUUCCCUCCUAGAGUCCAUUCUUUACUCUAGGAGGGAAUAGUAAAAGCAGUAAGACAUUUA\n",
      "\n"
     ]
    }
   ],
   "source": [
    "print(f\"there are {len(sequence)} nucleotides in the following sequence: \\n{sequence}\\n\")\n",
    "print(f\"there are {len(miR_4779)} nucleotides in the following sequence: \\n{miR_4779}\\n\")"
   ]
  },
  {
   "cell_type": "markdown",
   "metadata": {},
   "source": [
    "\n",
    "_______"
   ]
  }
 ],
 "metadata": {
  "kernelspec": {
   "display_name": "Python 3",
   "language": "python",
   "name": "python3"
  },
  "language_info": {
   "codemirror_mode": {
    "name": "ipython",
    "version": 3
   },
   "file_extension": ".py",
   "mimetype": "text/x-python",
   "name": "python",
   "nbconvert_exporter": "python",
   "pygments_lexer": "ipython3",
   "version": "3.8.8"
  }
 },
 "nbformat": 4,
 "nbformat_minor": 4
}
