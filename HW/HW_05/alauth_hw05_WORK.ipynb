{
 "cells": [
  {
   "cell_type": "markdown",
   "metadata": {},
   "source": [
    "### Homework 5 - Numpy arrays and data structures\n",
    "### BIOINF 575 - Fall 2021\n",
    "\n",
    "##### Total 60 points \n"
   ]
  },
  {
   "cell_type": "markdown",
   "metadata": {},
   "source": [
    "For each each problem part provide the solution in Code cells after the description of the problem part.\n",
    "Answers to questions should be written either as comments together with the code or in Markdown cell(s) for each part of the problem.\n",
    "\n",
    "This homework will require the use of numpy arrays.\n"
   ]
  },
  {
   "cell_type": "markdown",
   "metadata": {},
   "source": [
    "#### Arrays of different dimensions (`shape` gives the number of elements on each dimension):\n",
    "\n",
    "<img src=\"https://www.oreilly.com/library/view/elegant-scipy/9781491922927/assets/elsp_0105.png\" alt=\"data structures\" width=\"500\">  \n",
    "\n",
    "_____\n"
   ]
  },
  {
   "cell_type": "markdown",
   "metadata": {},
   "source": [
    "#### <b>Basic array attributes:</b>\n",
    "* shape: array dimension\n",
    "* size: Number of elements in array\n",
    "* ndim: Number of array dimension (len(arr.shape))\n",
    "* dtype: Data-type of the array\n",
    "* slicing: [row_slice,col_slice]\n",
    "\n",
    "Pandas Series a named array: \n",
    "```\n",
    "pd.Series(data, index)\n",
    "```"
   ]
  },
  {
   "cell_type": "markdown",
   "metadata": {
    "tags": []
   },
   "source": [
    "______\n",
    "#### Problem 1 - Exploring time course gene expression data \n",
    "##### Identify the time interval with the most changed genes\n",
    "##### 20 points\n"
   ]
  },
  {
   "cell_type": "markdown",
   "metadata": {},
   "source": [
    "The file <b>GSE22955_small_gene_table.txt</b> contains gene expression data for about 10000 genes during treatment of breast cancer cells  with a HER2 inhibitor data was collected at every three hours for 45 hours.   \n",
    "The file contains tab-separated data, has a header that contains the time points and row labels on the first column that are gene symbols.   \n",
    "More details at: https://www.ncbi.nlm.nih.gov/geo/query/acc.cgi?acc=GSE22955\n",
    "\n",
    "\n",
    "Below is code to get the data loaded into numpy array that you can use to solve the problem."
   ]
  },
  {
   "cell_type": "code",
   "execution_count": 2,
   "metadata": {},
   "outputs": [
    {
     "name": "stdout",
     "output_type": "stream",
     "text": [
      "Expression matrix dimensions:  (1175, 16)\n",
      "Time points in hours:  [ 0  3  6  9 12 15 18 21 24 27 30 33 36 39 42 45]\n",
      "Gene symbols:  ['ABCA1' 'ABCC11' 'ABCC3' ... 'ZNF83' 'ZNFX1' 'ZWINT']\n"
     ]
    }
   ],
   "source": [
    "# This code loads the data into a 2D array\n",
    "\n",
    "# genes on the rows time points (h) on the columns every three hours starting at 0h ending at 45h\n",
    "# total of 16 time points, 17 columns with the gene symbols\n",
    "\n",
    "import numpy as np\n",
    "\n",
    "time_course_filename = \"GSE22955_small_gene_table.txt\"\n",
    "\n",
    "# the following line uses the loadtxt function form the np library to read data from a file into an array\n",
    "# it skips the first two rows one. comment row and a header rowL skiprows = 2\n",
    "# it takes only columns 2 to 17 skipping the first column where we have gene symbols: usecols = range(1,17)\n",
    "# help(np.loadtxt) # see function documentation\n",
    "expr_matrix = np.loadtxt(time_course_filename, skiprows = 2, usecols = range(1,17))\n",
    "print(\"Expression matrix dimensions: \", expr_matrix.shape)\n",
    "\n",
    "time_points = 3 * np.arange(16)\n",
    "print(\"Time points in hours: \", time_points)\n",
    "\n",
    "\n",
    "# you will not need the genes symbols for this problem\n",
    "# it is here to use if you want to explore the data further\n",
    "# the following line of code creates an array with the gene symbols\n",
    "# takes them from the first column in the file: usecols = 0\n",
    "# it makes the data str, default is numeric\n",
    "gene_symbols = np.loadtxt(time_course_filename, skiprows = 2, usecols = 0, dtype = str)\n",
    "print(\"Gene symbols: \", gene_symbols)\n",
    "\n",
    "\n",
    "\n"
   ]
  },
  {
   "cell_type": "markdown",
   "metadata": {},
   "source": [
    "..................................................................................................\n",
    "\n",
    "<b>Part 1 (6 points)</b> - Count the number of genes that change between two time points \n",
    "\n",
    "\n",
    "Count the number of genes that have a change (up or down) of at least a 25% between two time points 0h and 12h (the time points are two numbers that represent hours)\n",
    "- (3 points) Compute the log fold change for each gene/row \n",
    "    - the log fold change is the log 2 of the ratio between the gene expression at the two time points (expr at 12h/expr at 0h)\n",
    "    - the np library has a log2 function youcan make use of\n",
    "    - vectorized operations allow you to apply a funtion or an to the array or operations between arrays and it will be applied to each element of the array\n",
    "    ``` python\n",
    "    ```\n",
    "- (3 points) Count the rows that have at least a 25% change (ratio > 1.25, up or down) in average expression between the time points\n",
    "    - the log is a positive value for numbers >1 (increase in expression) and negative for numbers <1 (decrease in expression) so you can use the absolute value to capture both\n",
    "    - use sum to count values for which a contition is true, for arrays the condition is applied to each value yielding a logical array (of True, which is 1 and False, which is 0) and adding  up all values from the logical array will count the number of True values\n",
    "\n"
   ]
  },
  {
   "cell_type": "code",
   "execution_count": 3,
   "metadata": {},
   "outputs": [],
   "source": [
    "#Write your solution here, feel free to add new cells.\n",
    "\n"
   ]
  },
  {
   "cell_type": "code",
   "execution_count": 149,
   "metadata": {},
   "outputs": [
    {
     "data": {
      "text/plain": [
       "0.32192809488736235"
      ]
     },
     "execution_count": 149,
     "metadata": {},
     "output_type": "execute_result"
    }
   ],
   "source": [
    "#Problem 1:\n",
    "import numpy as np\n",
    "import pandas as pd\n",
    "time_course_filename = \"GSE22955_small_gene_table.txt\"\n",
    "\n",
    "expr_matrix = np.loadtxt(time_course_filename, skiprows = 2, usecols = range(1,17))\n",
    "time_points = 3 * np.arange(16)\n",
    "gene_symbols = np.loadtxt(time_course_filename, skiprows = 2, usecols = 0, dtype = str)\n",
    "\n",
    "#line below only will take the columns that I want. \n",
    "# column_1 = expr_matrix[:,0] -> for 0 hour \n",
    "# column_2 = expr_matrix[:,4] -> for 12 hour \n",
    "\n",
    "\n",
    "\n",
    "# division = column_2/column_1\n",
    "# log_2 = np.log2(ratio)\n",
    "#ask Cristina about this. \n",
    "\n",
    "# header_list = \"Symbol\t0\t3\t6\t9\t12\t15\t18\t21\t24\t27\t30\t33\t36\t39\t42\t45\"\n",
    "# split_header = header_list.split(\"\\t\")\n",
    "# index_0hr = split_header.index(\"0\")\n",
    "# index_12hr = split_header.index(\"12\")\n",
    "time_0 = 0 \n",
    "time_1 = 12\n",
    "time_points == 12 #will give you True or False wherever the condtion is true or false. \n",
    "np.where(time_points == 12) #will give you index where the condition is true. \n",
    "\n",
    "#should be more generalized with somehow incorporating 0hr and 12hr\n",
    "gene_ratio = (expr_matrix[:,4]/expr_matrix[:,0])\n",
    "#this will do log 2 \n",
    "gene_log = np.log2(gene_ratio)\n",
    "#using absolute value here to capture both positive and negative values. \n",
    "gene_abs = abs(gene_log)\n",
    "gene_abs\n",
    "\n",
    "#using panda series to include the row names. \n",
    "gene_fold = pd.Series(gene_abs, index = gene_symbols)\n",
    "gene_fold\n",
    "\n",
    "log_var = np.log2(1.25)\n",
    "log_var"
   ]
  },
  {
   "cell_type": "code",
   "execution_count": 211,
   "metadata": {},
   "outputs": [
    {
     "name": "stdout",
     "output_type": "stream",
     "text": [
      "0\n",
      "4\n"
     ]
    }
   ],
   "source": [
    "time_0 = 0\n",
    "time_1 = 12\n",
    "# time_points == 12 #will give you True or False wherever the condtion is true or false. \n",
    "np.where(time_points == time_0) #will give you index where the condition is true. \n",
    "index_0 = np.where(time_points == time_0)[0][0] #or you can just divide time_o by 3. \n",
    "index_1 = np.where(time_points == time_1)[0][0]\n",
    "print(index_0)\n",
    "print(index_1)"
   ]
  },
  {
   "cell_type": "code",
   "execution_count": 151,
   "metadata": {},
   "outputs": [
    {
     "data": {
      "text/plain": [
       "ABCA1     0.215636\n",
       "ABCC11    0.075243\n",
       "ABCC3     0.017401\n",
       "ABLIM1    0.050038\n",
       "ABP1      0.071269\n",
       "            ...   \n",
       "ZNF606    0.073142\n",
       "ZNF616    0.118289\n",
       "ZNF83     0.118408\n",
       "ZNFX1     0.110758\n",
       "ZWINT     0.106496\n",
       "Length: 1175, dtype: float64"
      ]
     },
     "execution_count": 151,
     "metadata": {},
     "output_type": "execute_result"
    }
   ],
   "source": [
    "gene_ratio = (expr_matrix[:,index_1]/expr_matrix[:,index_0])\n",
    "gene_ratio\n",
    "gene_log = np.log2(gene_ratio)\n",
    "#using absolute value here to capture both positive and negative values. \n",
    "gene_abs = abs(gene_log)\n",
    "gene_abs\n",
    "#using panda series to include the row names. \n",
    "gene_fold = pd.Series(gene_abs, index = gene_symbols)\n",
    "gene_fold\n",
    "\n",
    "# log_var = np.log2(1.25)\n",
    "# log_var"
   ]
  },
  {
   "cell_type": "code",
   "execution_count": 152,
   "metadata": {},
   "outputs": [
    {
     "name": "stdout",
     "output_type": "stream",
     "text": [
      "5\n"
     ]
    }
   ],
   "source": [
    "#part #2: \n",
    "get_25 = gene_fold > log_var\n",
    "value_sum = get_25.sum()\n",
    "print(value_sum)\n"
   ]
  },
  {
   "cell_type": "code",
   "execution_count": 153,
   "metadata": {},
   "outputs": [
    {
     "name": "stdout",
     "output_type": "stream",
     "text": [
      "(0, 12, 5)\n"
     ]
    },
    {
     "data": {
      "text/plain": [
       "tuple"
      ]
     },
     "execution_count": 153,
     "metadata": {},
     "output_type": "execute_result"
    }
   ],
   "source": [
    "max_tuple = (time_0, time_1, value_sum)\n",
    "print(max_tuple)\n",
    "type(max_tuple)"
   ]
  },
  {
   "cell_type": "markdown",
   "metadata": {},
   "source": [
    "..................................................................................................\n",
    "\n",
    "<b>Part 2 (14 points)</b> - Identify the time interval with the most changed genes\n",
    "\n",
    "Apply the code/approach used at Part 1 to compute the count of genes for every pair of time points and identify the pair of time points with the highest number of changed genes. \n",
    "- (6 points) Create the combination of every two (different) time points\n",
    "    - You can use two for loops to create the combination of timepoints (recommended) or you can find functionality already available in python that does this \n",
    "- (6 points) Find the pair with the maximum number of genes (if they are multiple you can just find the last one) \n",
    "    - You can use the find maximum algorithm shown in one of the first sessions in the class \n",
    "- (2 points) Display the result in a nice format. You can use the following f-string:      \n",
    "f\"The time interval with the most, {x}, changes genes is {start_time}h - {stop_time}h\"\n",
    "  "
   ]
  },
  {
   "cell_type": "code",
   "execution_count": 154,
   "metadata": {},
   "outputs": [],
   "source": [
    "#Write your solution here, feel free to add new cells.\n",
    "#So does this mean every kind of different time point? so 0 hr to 3 hr or 0 hr to 6 hr? \n",
    "#use find max shown in first sessions of class. \n",
    "#Display the interval. \n",
    "\n",
    "#some kind of iteration here. \n"
   ]
  },
  {
   "cell_type": "code",
   "execution_count": 162,
   "metadata": {},
   "outputs": [
    {
     "name": "stdout",
     "output_type": "stream",
     "text": [
      "(0, 45, 78)\n"
     ]
    }
   ],
   "source": [
    "#create a \"global\" tuple because it is outside of the for loop. \n",
    "max_tuple = (time_0, time_1, value_sum)\n",
    "# print(time_start)\n",
    "#beginning of for loop\n",
    "for time_start in time_points:\n",
    "    for time_end in time_points:\n",
    "        if time_start < time_end:\n",
    "#             print(time_start, time_end)\n",
    "            index_0 = np.where(time_points == time_start)[0][0] \n",
    "            index_1 = np.where(time_points == time_end)[0][0]\n",
    "            gene_ratio = (expr_matrix[:,index_1]/expr_matrix[:,index_0])\n",
    "            gene_log = np.log2(gene_ratio) \n",
    "            gene_abs = abs(gene_log)\n",
    "            gene_fold = pd.Series(gene_abs, index = gene_symbols)\n",
    "            log_var = np.log2(1.25)\n",
    "            get_25 = gene_fold > log_var\n",
    "            value = get_25.sum()\n",
    "#             print(value)\n",
    "            if value > max_tuple[2]:\n",
    "# #                 time_0 = time_start\n",
    "# #                 time_1 = time_end\n",
    "        \n",
    "                max_tuple = (time_start, time_end, value)\n",
    "print(max_tuple)\n",
    "# (2 points) Display the result in a nice format. You can use the following f-string:\n",
    "# f\"The time interval with the most, {x}, changes genes is {start_time}h - {stop_time}h\""
   ]
  },
  {
   "cell_type": "code",
   "execution_count": 156,
   "metadata": {},
   "outputs": [
    {
     "data": {
      "text/plain": [
       "'The time interval with the most, 5, changes in genes is 0h - 12h.'"
      ]
     },
     "execution_count": 156,
     "metadata": {},
     "output_type": "execute_result"
    }
   ],
   "source": [
    "f\"The time interval with the most, {max_tuple[2]}, changes in genes is {max_tuple[0]}h - {max_tuple[1]}h.\""
   ]
  },
  {
   "cell_type": "code",
   "execution_count": null,
   "metadata": {},
   "outputs": [],
   "source": []
  },
  {
   "cell_type": "code",
   "execution_count": 157,
   "metadata": {},
   "outputs": [],
   "source": [
    "del time_start #comment print in previous cell works because you defined time_start within the for loop. "
   ]
  },
  {
   "cell_type": "code",
   "execution_count": 158,
   "metadata": {},
   "outputs": [
    {
     "name": "stdout",
     "output_type": "stream",
     "text": [
      "(4, 3, 5)\n"
     ]
    }
   ],
   "source": [
    "#more examples on how to find the max based off of a starting point max value. \n",
    "x = [(1,2,3), (2,3,0), (4,3,5), (3,5,2)]\n",
    "max_value = (3,5,2)\n",
    "for i in x:\n",
    "#     print(i)\n",
    "    x_third_pos = i[2]\n",
    "    max_value_third_pos = max_value[2]\n",
    "    if x_third_pos > max_value_third_pos:\n",
    "        max_value = i \n",
    "print(max_value)\n"
   ]
  },
  {
   "cell_type": "code",
   "execution_count": 159,
   "metadata": {},
   "outputs": [
    {
     "name": "stdout",
     "output_type": "stream",
     "text": [
      "7\n"
     ]
    }
   ],
   "source": [
    "#another example on how to find the max based off of a starting max value, where you iterate and go through a list to \n",
    "#eventually find the max value. \n",
    "x = [2,3,1,7,4]\n",
    "max_value = x[0]\n",
    "for i in x:\n",
    "    if i > max_value:\n",
    "        max_value = i \n",
    "print(max_value)"
   ]
  },
  {
   "cell_type": "markdown",
   "metadata": {},
   "source": [
    "______\n",
    "\n",
    "#### Problem 2 - Understand the code \n",
    "##### 10 points"
   ]
  },
  {
   "cell_type": "markdown",
   "metadata": {},
   "source": [
    "Transcription networks contain a small set of recurring regulation patterns, called network motifs.\n",
    "Some references about network motifs in biological networks.   \n",
    "https://www.nature.com/articles/nrg2102   \n",
    "https://link.springer.com/referenceworkentry/10.1007%2F978-1-4419-9863-7_463    \n",
    "https://media.springernature.com/lw785/springer-static/image/prt%3A978-1-4419-9863-7%2F6/MediaObjects/978-1-4419-9863-7_6_Part_Fig1-463_HTML.gif\n",
    "\n",
    "Feed forward loop (A) - small recurring pattern (B and C show the two parts of the FFL):   \n",
    "<img src = https://www.frontiersin.org/files/Articles/222083/fphys-07-00600-HTML/image_m/fphys-07-00600-g001.jpg width = 200/><img src = \"http://rulai.cshl.edu/TRED/GRN/images/Gli_mouse.png\" width = 500/>\n",
    "\n",
    "\n",
    "\n",
    "https://www.frontiersin.org/files/Articles/222083/fphys-07-00600-HTML/image_m/fphys-07-00600-g001.jpg\n",
    "http://rulai.cshl.edu/TRED/GRN/Gli.htm"
   ]
  },
  {
   "cell_type": "markdown",
   "metadata": {},
   "source": [
    "..................................................................................................\n",
    "\n",
    "\n",
    "<b> Explain what the following code does and how it computes the result it displays.<b>\n",
    "\n",
    "Score breakdown:\n",
    "- (10 points) Explaining each statement is worth 1 point and 1 point for explaining what the function does overall\n"
   ]
  },
  {
   "cell_type": "code",
   "execution_count": 15,
   "metadata": {},
   "outputs": [],
   "source": [
    "biological_network = {\n",
    "    \"Adcyap1\": {\"Gli1\"},\n",
    "    \"Gli1\": {\"Ptch1\", \"Foxa2\", \"Myf5\", \"Nkx2-9\", \"Shh\"},\n",
    "    \"Gli2\": {\"Ptch1\", \"Fgf15\", \"Foxe1\", \"Foxa2\", \"Myf5\", \"Gli1\"},\n",
    "    \"Gli3\": {\"Ptch1\", \"Foxa2\", \"Myf5\", \"Gli1\", \"Shh\"},\n",
    "    \"Ihh\": {\"Gli1\"}\n",
    "}"
   ]
  },
  {
   "cell_type": "code",
   "execution_count": 16,
   "metadata": {},
   "outputs": [
    {
     "data": {
      "text/plain": [
       "{('Gli2', 'Gli1', 'Foxa2'),\n",
       " ('Gli2', 'Gli1', 'Myf5'),\n",
       " ('Gli2', 'Gli1', 'Ptch1'),\n",
       " ('Gli3', 'Gli1', 'Foxa2'),\n",
       " ('Gli3', 'Gli1', 'Myf5'),\n",
       " ('Gli3', 'Gli1', 'Ptch1'),\n",
       " ('Gli3', 'Gli1', 'Shh')}"
      ]
     },
     "execution_count": 16,
     "metadata": {},
     "output_type": "execute_result"
    }
   ],
   "source": [
    "def compute_FFL(network):\n",
    "    FFL_set = set()\n",
    "    for gene in network:\n",
    "        #focusing on the keys\n",
    "        reg_genes = network[gene]\n",
    "        for regg in reg_genes:\n",
    "            for iregg in set(reg_genes).intersection(set(network.get(regg,()))):\n",
    "                #get regg from the second for value/key \n",
    "                FFL_set.add((gene,regg,iregg))\n",
    "    return FFL_set\n",
    "            \n",
    "\n",
    "compute_FFL(biological_network)         "
   ]
  },
  {
   "cell_type": "markdown",
   "metadata": {
    "tags": []
   },
   "source": [
    "#### Write your solution here and then run the cell (Markdown)\n",
    "Cell #1: You are setting a dictionary equal to the variable biological_network where keys are strings and values are sets of string values.\n",
    "\n",
    "Cell #2:\n",
    "\n",
    "Line 1: You are defining a function that is called compute_FFL and you are setting the parameter to be network. \n",
    "\n",
    "Line 2: You are creating an empty set equal to the variable FFL_set. \n",
    "\n",
    "Line 3: You are beginning a for loop where your variable called gene in being iterated through your parameter network. \n",
    "\n",
    "Line 4: You are setting a new variable called reg_genes equal to the index of where your gene is found in network. So basically it is the value of that key, which is the set. \n",
    "\n",
    "Line 5: You are beginning another for loop where your variable regg is iterated through reg_genes, which was the index of every gene in your parameter network. \n",
    "\n",
    "Line 6: You are beginning your third nested for loop where your variable iregg is iterated in the set of reg_gene varialbe, which is the value of the key in the dictionary. You then look for the intersection or common values between that reg_gene set and your value set that belongs to the key that was in your reg_gene set. You are getting that common value in the value set for the key of the reg variable. \n",
    "\n",
    "Line 7: You are adding to your empty set (FFL_set) your variables gene, regg, and iregg in that order. \n",
    "\n",
    "Line 8: You end your function by returning your FFL_set. \n",
    "\n",
    "Line 9: You call the function with your parameter being your biological_network dictionary. \n",
    "\n",
    "Overall Function Goal: Take a gene, look in that gene's key in the dictionary and see if you find a corresponding gene in the key's value. If so, go to the value for that gene's key, and compare both genes' value sets and find the intersecting values and list them in separate tuples in the returned output. \n",
    "\n",
    "\n",
    "\n",
    "____ double click here to edit the cell _____"
   ]
  },
  {
   "cell_type": "code",
   "execution_count": null,
   "metadata": {},
   "outputs": [],
   "source": []
  },
  {
   "cell_type": "markdown",
   "metadata": {
    "tags": []
   },
   "source": [
    "_______\n",
    "\n",
    "#### Problem 3 -  Covid-19 data analysis - try to find out what makes Dexamethasone more dangerous for some patients\n",
    "##### 20 points\n",
    "\n",
    "\n",
    "\"COVID-19 ICU patients with the IFIH1 rs1990760 TT variant show an ameliorated inflammatory response that results in better outcomes than CC/CT variants. Dexamethasone may reverse this anti-inflammatory phenotype.\"   \n",
    "The above is the conclusion from a recent (July 2021) study.   \n",
    "The data and more details from the study can be found at the following urls:  \n",
    "https://www.ncbi.nlm.nih.gov/geo/query/acc.cgi?acc=GSE168400\n",
    "https://www.medrxiv.org/content/10.1101/2021.07.03.21259946v1   \n"
   ]
  },
  {
   "cell_type": "markdown",
   "metadata": {},
   "source": [
    "..................................................................................................\n",
    "\n",
    "We took the read counts data from the study mentioned above and want to detect the genes that show a highchange in expression between the patients with the TT variant and the other patients.   \n",
    "The counts data is in the file <b>covid_counts.txt</b>.     \n",
    "The file has genes on the rows and patients/samples on the columns, the last column is the gene length in number of bases/nucleotides.   \n"
   ]
  },
  {
   "cell_type": "code",
   "execution_count": 91,
   "metadata": {},
   "outputs": [
    {
     "name": "stdout",
     "output_type": "stream",
     "text": [
      "Counts matrix dimensions (N genes by M patients):  (17624, 42)\n",
      "Gene length data (in kb): \n",
      " \"A1BG\"       1.7720\n",
      "\"A1CF\"       2.1480\n",
      "\"A2M\"        4.6890\n",
      "\"A2ML1\"      5.2220\n",
      "\"A4GALT\"     2.0940\n",
      "             ...   \n",
      "\"ZYG11A\"     4.2850\n",
      "\"ZYG11B\"     8.1540\n",
      "\"ZYX\"        2.3125\n",
      "\"ZZEF1\"     11.4490\n",
      "\"ZZZ3\"       4.3370\n",
      "Length: 17624, dtype: float64\n"
     ]
    },
    {
     "data": {
      "text/plain": [
       "array([ 1.772 ,  2.148 ,  4.689 , ...,  2.3125, 11.449 ,  4.337 ])"
      ]
     },
     "execution_count": 91,
     "metadata": {},
     "output_type": "execute_result"
    }
   ],
   "source": [
    "import numpy as np\n",
    "import pandas as pd\n",
    "\n",
    "covid_file_name = \"covid_counts.txt\"\n",
    "\n",
    "# thegrouplabelsfor the data\n",
    "group_labels = pd.Series([\"TT\", \"CT\", \"CC\", \"CT\", \"CC\", \"TT\", \"CT\", \n",
    "                         \"CT\", \"CC\", \"TT\", \"CC\", \"TT\", \"TT\", \"CC\", \n",
    "                         \"CC\", \"CT\", \"TT\", \"CT\", \"CC\", \"TT\", \"CC\", \n",
    "                         \"CT\", \"CT\", \"CC\", \"CT\", \"CT\", \"CT\", \"CT\", \n",
    "                         \"CT\", \"CT\", \"CC\", \"CT\", \"CC\", \"TT\", \"CC\", \n",
    "                         \"TT\", \"TT\", \"TT\", \"CT\", \"CT\", \"CT\", \"CT\"],\n",
    "                       index= ['Patient1', 'Patient9', 'Patient10', 'Patient11', 'Patient12',\n",
    "                               'Patient13', 'Patient14', 'Patient15', 'Patient16', 'Patient17',\n",
    "                               'Patient18', 'Patient2', 'Patient19', 'Patient20', 'Patient21',\n",
    "                               'Patient22', 'Patient23', 'Patient24', 'Patient25', 'Patient26',\n",
    "                               'Patient27', 'Patient28', 'Patient3', 'Patient29', 'Patient30',\n",
    "                               'Patient31', 'Patient32', 'Patient33', 'Patient34', 'Patient35',\n",
    "                               'Patient36', 'Patient37', 'Patient4', 'Patient38', 'Patient39',\n",
    "                               'Patient40', 'Patient41', 'Patient42', 'Patient5', 'Patient6',\n",
    "                               'Patient7', 'Patient8'])\n",
    "\n",
    "#  load the counts data into an array for all 42 patients\n",
    "counts_matrix = np.loadtxt(covid_file_name, skiprows = 1, usecols = range(1,43))\n",
    "print(\"Counts matrix dimensions (N genes by M patients): \", counts_matrix.shape)\n",
    "\n",
    "# gene length (median length of all its mature, mRNA, transcripts) in number of base pairs \n",
    "# we transform the data in kilo base by dividing by 1000\n",
    "gene_length_array = np.loadtxt(covid_file_name, skiprows = 1, usecols = 43)/1000\n",
    "gene_symbol_array = np.loadtxt(covid_file_name, skiprows = 1, usecols = 0, dtype = str)\n",
    "\n",
    "gene_data = pd.Series(gene_length_array, index = gene_symbol_array)\n",
    "print(\"Gene length data (in kb): \\n\", gene_data)\n",
    "\n",
    "counts_matrix\n",
    "gene_length_array\n"
   ]
  },
  {
   "cell_type": "code",
   "execution_count": 92,
   "metadata": {},
   "outputs": [
    {
     "data": {
      "text/plain": [
       "(17624,)"
      ]
     },
     "execution_count": 92,
     "metadata": {},
     "output_type": "execute_result"
    }
   ],
   "source": [
    "gene_symbol_array.shape"
   ]
  },
  {
   "cell_type": "code",
   "execution_count": 93,
   "metadata": {},
   "outputs": [
    {
     "data": {
      "text/plain": [
       "(17624,)"
      ]
     },
     "execution_count": 93,
     "metadata": {},
     "output_type": "execute_result"
    }
   ],
   "source": [
    "gene_length_array.shape"
   ]
  },
  {
   "cell_type": "code",
   "execution_count": 94,
   "metadata": {},
   "outputs": [
    {
     "data": {
      "text/plain": [
       "(17624, 42)"
      ]
     },
     "execution_count": 94,
     "metadata": {},
     "output_type": "execute_result"
    }
   ],
   "source": [
    "counts_matrix.shape"
   ]
  },
  {
   "cell_type": "markdown",
   "metadata": {},
   "source": [
    "\n",
    "\n",
    "..................................................................................................\n",
    "\n",
    "<b>Part 1 (5 points)</b> - Compute TPM \n",
    "\n",
    "Before we can compute the difference between the TT and the other phenotype we should quatify the expression value, we will use the TPM (Transcripts Per Kilobase Million) measure to do that.\n",
    "\n",
    "To compute the TPM you do:\n",
    "- (<b>2 points</b>) Divide the read counts by the length of each gene in kilobases. This gives you reads per kilobase (RPK).\n",
    "    - Should make the gene_length_array a column (reshape) so you can do operations (division) at the column level \n",
    "- (<b>2 points</b>) Count up all the RPK values in a sample and divide this number by 1,000,000. This is your “per million” scaling factor.\n",
    "- (<b>1 point</b>) Divide the RPK values by the “per million” scaling factor. This gives you TPM.\n"
   ]
  },
  {
   "cell_type": "code",
   "execution_count": 167,
   "metadata": {},
   "outputs": [
    {
     "data": {
      "text/plain": [
       "(17624,)"
      ]
     },
     "execution_count": 167,
     "metadata": {},
     "output_type": "execute_result"
    }
   ],
   "source": [
    "gene_length_array #this gives you a 1D array which is one row with so many elements. We want one column with those many elements. \n",
    "gene_length_array.shape"
   ]
  },
  {
   "cell_type": "code",
   "execution_count": 168,
   "metadata": {},
   "outputs": [],
   "source": [
    "# gene_length_array_2 = gene_length_array.reshape(gene_length_array.size,1)\n",
    "# gene_length_array_2.shape"
   ]
  },
  {
   "cell_type": "code",
   "execution_count": 203,
   "metadata": {},
   "outputs": [
    {
     "data": {
      "text/plain": [
       "(17624, 42)"
      ]
     },
     "execution_count": 203,
     "metadata": {},
     "output_type": "execute_result"
    }
   ],
   "source": [
    "#Write your solution here, feel free to add new cells.\n",
    "#This does the same thing as above, just with the number instead of the gene_length_array.size. \n",
    "gene_length_array.shape\n",
    "gene_length_array_reshaped = gene_length_array.reshape(17624,1)\n",
    "gene_length_array_reshaped\n",
    "# gene_length_array_reshaped.shape\n",
    "\n",
    "RPK_values = counts_matrix/gene_length_array_reshaped\n",
    "# type(RPK_values)\n",
    "RPK_values.shape\n",
    "#this is an array \n",
    "\n",
    "# valuessum = RPK_values\n",
    "# valuessum"
   ]
  },
  {
   "cell_type": "code",
   "execution_count": 207,
   "metadata": {},
   "outputs": [
    {
     "data": {
      "text/plain": [
       "204325443.1719634"
      ]
     },
     "execution_count": 207,
     "metadata": {},
     "output_type": "execute_result"
    }
   ],
   "source": [
    "RPK_sum = RPK_values.sum()\n",
    "RPK_sum"
   ]
  },
  {
   "cell_type": "code",
   "execution_count": 208,
   "metadata": {},
   "outputs": [
    {
     "data": {
      "text/plain": [
       "204.3254431719634"
      ]
     },
     "execution_count": 208,
     "metadata": {},
     "output_type": "execute_result"
    }
   ],
   "source": [
    "final_scal = RPK_sum/1000000\n",
    "final_scal"
   ]
  },
  {
   "cell_type": "code",
   "execution_count": null,
   "metadata": {},
   "outputs": [],
   "source": []
  },
  {
   "cell_type": "code",
   "execution_count": null,
   "metadata": {},
   "outputs": [],
   "source": []
  },
  {
   "cell_type": "code",
   "execution_count": null,
   "metadata": {},
   "outputs": [],
   "source": []
  },
  {
   "cell_type": "code",
   "execution_count": null,
   "metadata": {},
   "outputs": [],
   "source": []
  },
  {
   "cell_type": "code",
   "execution_count": null,
   "metadata": {},
   "outputs": [],
   "source": []
  },
  {
   "cell_type": "code",
   "execution_count": null,
   "metadata": {},
   "outputs": [],
   "source": []
  },
  {
   "cell_type": "code",
   "execution_count": null,
   "metadata": {},
   "outputs": [],
   "source": []
  },
  {
   "cell_type": "code",
   "execution_count": 175,
   "metadata": {},
   "outputs": [
    {
     "data": {
      "text/html": [
       "<div>\n",
       "<style scoped>\n",
       "    .dataframe tbody tr th:only-of-type {\n",
       "        vertical-align: middle;\n",
       "    }\n",
       "\n",
       "    .dataframe tbody tr th {\n",
       "        vertical-align: top;\n",
       "    }\n",
       "\n",
       "    .dataframe thead th {\n",
       "        text-align: right;\n",
       "    }\n",
       "</style>\n",
       "<table border=\"1\" class=\"dataframe\">\n",
       "  <thead>\n",
       "    <tr style=\"text-align: right;\">\n",
       "      <th></th>\n",
       "      <th>0</th>\n",
       "      <th>1</th>\n",
       "      <th>2</th>\n",
       "      <th>3</th>\n",
       "      <th>4</th>\n",
       "      <th>5</th>\n",
       "      <th>6</th>\n",
       "      <th>7</th>\n",
       "      <th>8</th>\n",
       "      <th>9</th>\n",
       "      <th>...</th>\n",
       "      <th>32</th>\n",
       "      <th>33</th>\n",
       "      <th>34</th>\n",
       "      <th>35</th>\n",
       "      <th>36</th>\n",
       "      <th>37</th>\n",
       "      <th>38</th>\n",
       "      <th>39</th>\n",
       "      <th>40</th>\n",
       "      <th>41</th>\n",
       "    </tr>\n",
       "  </thead>\n",
       "  <tbody>\n",
       "    <tr>\n",
       "      <th>0</th>\n",
       "      <td>1.693002</td>\n",
       "      <td>1.693002</td>\n",
       "      <td>7.336343</td>\n",
       "      <td>5.643341</td>\n",
       "      <td>4.514673</td>\n",
       "      <td>6.207675</td>\n",
       "      <td>12.415350</td>\n",
       "      <td>0.000000</td>\n",
       "      <td>0.564334</td>\n",
       "      <td>1.693002</td>\n",
       "      <td>...</td>\n",
       "      <td>2.257336</td>\n",
       "      <td>9.029345</td>\n",
       "      <td>2.821670</td>\n",
       "      <td>0.000000</td>\n",
       "      <td>7.336343</td>\n",
       "      <td>2.257336</td>\n",
       "      <td>1.693002</td>\n",
       "      <td>1.128668</td>\n",
       "      <td>2.257336</td>\n",
       "      <td>4.514673</td>\n",
       "    </tr>\n",
       "    <tr>\n",
       "      <th>1</th>\n",
       "      <td>0.000000</td>\n",
       "      <td>0.000000</td>\n",
       "      <td>0.000000</td>\n",
       "      <td>0.000000</td>\n",
       "      <td>0.465549</td>\n",
       "      <td>0.465549</td>\n",
       "      <td>0.000000</td>\n",
       "      <td>0.000000</td>\n",
       "      <td>0.000000</td>\n",
       "      <td>0.465549</td>\n",
       "      <td>...</td>\n",
       "      <td>0.000000</td>\n",
       "      <td>0.000000</td>\n",
       "      <td>0.000000</td>\n",
       "      <td>0.000000</td>\n",
       "      <td>0.000000</td>\n",
       "      <td>0.000000</td>\n",
       "      <td>0.000000</td>\n",
       "      <td>0.000000</td>\n",
       "      <td>0.000000</td>\n",
       "      <td>0.000000</td>\n",
       "    </tr>\n",
       "    <tr>\n",
       "      <th>2</th>\n",
       "      <td>0.000000</td>\n",
       "      <td>1.279591</td>\n",
       "      <td>1.279591</td>\n",
       "      <td>0.853060</td>\n",
       "      <td>0.000000</td>\n",
       "      <td>0.426530</td>\n",
       "      <td>0.000000</td>\n",
       "      <td>6.184688</td>\n",
       "      <td>0.639795</td>\n",
       "      <td>0.639795</td>\n",
       "      <td>...</td>\n",
       "      <td>0.000000</td>\n",
       "      <td>0.000000</td>\n",
       "      <td>0.000000</td>\n",
       "      <td>0.000000</td>\n",
       "      <td>0.213265</td>\n",
       "      <td>0.426530</td>\n",
       "      <td>0.213265</td>\n",
       "      <td>0.000000</td>\n",
       "      <td>2.772446</td>\n",
       "      <td>0.639795</td>\n",
       "    </tr>\n",
       "    <tr>\n",
       "      <th>3</th>\n",
       "      <td>0.382995</td>\n",
       "      <td>0.000000</td>\n",
       "      <td>0.191498</td>\n",
       "      <td>0.574493</td>\n",
       "      <td>0.574493</td>\n",
       "      <td>0.382995</td>\n",
       "      <td>0.191498</td>\n",
       "      <td>0.000000</td>\n",
       "      <td>0.000000</td>\n",
       "      <td>0.191498</td>\n",
       "      <td>...</td>\n",
       "      <td>0.000000</td>\n",
       "      <td>0.574493</td>\n",
       "      <td>0.765990</td>\n",
       "      <td>0.382995</td>\n",
       "      <td>0.574493</td>\n",
       "      <td>0.191498</td>\n",
       "      <td>0.382995</td>\n",
       "      <td>0.000000</td>\n",
       "      <td>0.574493</td>\n",
       "      <td>0.000000</td>\n",
       "    </tr>\n",
       "    <tr>\n",
       "      <th>4</th>\n",
       "      <td>0.000000</td>\n",
       "      <td>0.000000</td>\n",
       "      <td>0.000000</td>\n",
       "      <td>1.432665</td>\n",
       "      <td>0.477555</td>\n",
       "      <td>3.820439</td>\n",
       "      <td>3.820439</td>\n",
       "      <td>0.477555</td>\n",
       "      <td>0.000000</td>\n",
       "      <td>0.000000</td>\n",
       "      <td>...</td>\n",
       "      <td>0.477555</td>\n",
       "      <td>0.955110</td>\n",
       "      <td>3.820439</td>\n",
       "      <td>0.477555</td>\n",
       "      <td>0.000000</td>\n",
       "      <td>0.000000</td>\n",
       "      <td>0.477555</td>\n",
       "      <td>0.000000</td>\n",
       "      <td>1.432665</td>\n",
       "      <td>0.477555</td>\n",
       "    </tr>\n",
       "    <tr>\n",
       "      <th>...</th>\n",
       "      <td>...</td>\n",
       "      <td>...</td>\n",
       "      <td>...</td>\n",
       "      <td>...</td>\n",
       "      <td>...</td>\n",
       "      <td>...</td>\n",
       "      <td>...</td>\n",
       "      <td>...</td>\n",
       "      <td>...</td>\n",
       "      <td>...</td>\n",
       "      <td>...</td>\n",
       "      <td>...</td>\n",
       "      <td>...</td>\n",
       "      <td>...</td>\n",
       "      <td>...</td>\n",
       "      <td>...</td>\n",
       "      <td>...</td>\n",
       "      <td>...</td>\n",
       "      <td>...</td>\n",
       "      <td>...</td>\n",
       "      <td>...</td>\n",
       "    </tr>\n",
       "    <tr>\n",
       "      <th>17619</th>\n",
       "      <td>1.866978</td>\n",
       "      <td>3.267211</td>\n",
       "      <td>3.500583</td>\n",
       "      <td>2.333722</td>\n",
       "      <td>4.900817</td>\n",
       "      <td>5.600933</td>\n",
       "      <td>9.334889</td>\n",
       "      <td>1.400233</td>\n",
       "      <td>1.866978</td>\n",
       "      <td>0.933489</td>\n",
       "      <td>...</td>\n",
       "      <td>2.800467</td>\n",
       "      <td>3.967328</td>\n",
       "      <td>6.067678</td>\n",
       "      <td>6.067678</td>\n",
       "      <td>10.268378</td>\n",
       "      <td>3.033839</td>\n",
       "      <td>3.033839</td>\n",
       "      <td>3.500583</td>\n",
       "      <td>4.434072</td>\n",
       "      <td>2.100350</td>\n",
       "    </tr>\n",
       "    <tr>\n",
       "      <th>17620</th>\n",
       "      <td>20.358106</td>\n",
       "      <td>25.876870</td>\n",
       "      <td>16.188374</td>\n",
       "      <td>18.273240</td>\n",
       "      <td>13.490312</td>\n",
       "      <td>16.556291</td>\n",
       "      <td>15.084621</td>\n",
       "      <td>16.311013</td>\n",
       "      <td>22.075055</td>\n",
       "      <td>25.754231</td>\n",
       "      <td>...</td>\n",
       "      <td>25.876870</td>\n",
       "      <td>15.207260</td>\n",
       "      <td>20.112828</td>\n",
       "      <td>17.782683</td>\n",
       "      <td>18.027962</td>\n",
       "      <td>20.112828</td>\n",
       "      <td>16.678931</td>\n",
       "      <td>14.961982</td>\n",
       "      <td>20.848663</td>\n",
       "      <td>18.886436</td>\n",
       "    </tr>\n",
       "    <tr>\n",
       "      <th>17621</th>\n",
       "      <td>1584.864865</td>\n",
       "      <td>2945.297297</td>\n",
       "      <td>1830.054054</td>\n",
       "      <td>3260.108108</td>\n",
       "      <td>1241.945946</td>\n",
       "      <td>1166.270270</td>\n",
       "      <td>1693.405405</td>\n",
       "      <td>2859.675676</td>\n",
       "      <td>1662.270270</td>\n",
       "      <td>3340.972973</td>\n",
       "      <td>...</td>\n",
       "      <td>1866.378378</td>\n",
       "      <td>952.216216</td>\n",
       "      <td>1162.378378</td>\n",
       "      <td>1647.567568</td>\n",
       "      <td>1202.594595</td>\n",
       "      <td>3449.081081</td>\n",
       "      <td>2208.864865</td>\n",
       "      <td>898.594595</td>\n",
       "      <td>3887.567568</td>\n",
       "      <td>1016.648649</td>\n",
       "    </tr>\n",
       "    <tr>\n",
       "      <th>17622</th>\n",
       "      <td>36.859114</td>\n",
       "      <td>65.595248</td>\n",
       "      <td>34.413486</td>\n",
       "      <td>46.991004</td>\n",
       "      <td>25.067692</td>\n",
       "      <td>25.941130</td>\n",
       "      <td>35.024893</td>\n",
       "      <td>71.359944</td>\n",
       "      <td>61.228055</td>\n",
       "      <td>56.511486</td>\n",
       "      <td>...</td>\n",
       "      <td>43.147873</td>\n",
       "      <td>29.871605</td>\n",
       "      <td>51.096166</td>\n",
       "      <td>62.014150</td>\n",
       "      <td>45.593502</td>\n",
       "      <td>53.716482</td>\n",
       "      <td>39.654118</td>\n",
       "      <td>28.299415</td>\n",
       "      <td>55.026640</td>\n",
       "      <td>41.138964</td>\n",
       "    </tr>\n",
       "    <tr>\n",
       "      <th>17623</th>\n",
       "      <td>9.453539</td>\n",
       "      <td>17.754208</td>\n",
       "      <td>15.909615</td>\n",
       "      <td>20.982246</td>\n",
       "      <td>11.298132</td>\n",
       "      <td>19.137653</td>\n",
       "      <td>18.445930</td>\n",
       "      <td>69.172239</td>\n",
       "      <td>47.498271</td>\n",
       "      <td>28.130044</td>\n",
       "      <td>...</td>\n",
       "      <td>31.358082</td>\n",
       "      <td>13.142725</td>\n",
       "      <td>19.598801</td>\n",
       "      <td>19.598801</td>\n",
       "      <td>15.909615</td>\n",
       "      <td>14.987318</td>\n",
       "      <td>27.899470</td>\n",
       "      <td>26.977173</td>\n",
       "      <td>17.754208</td>\n",
       "      <td>52.109753</td>\n",
       "    </tr>\n",
       "  </tbody>\n",
       "</table>\n",
       "<p>17624 rows × 42 columns</p>\n",
       "</div>"
      ],
      "text/plain": [
       "                0            1            2            3            4   \\\n",
       "0         1.693002     1.693002     7.336343     5.643341     4.514673   \n",
       "1         0.000000     0.000000     0.000000     0.000000     0.465549   \n",
       "2         0.000000     1.279591     1.279591     0.853060     0.000000   \n",
       "3         0.382995     0.000000     0.191498     0.574493     0.574493   \n",
       "4         0.000000     0.000000     0.000000     1.432665     0.477555   \n",
       "...            ...          ...          ...          ...          ...   \n",
       "17619     1.866978     3.267211     3.500583     2.333722     4.900817   \n",
       "17620    20.358106    25.876870    16.188374    18.273240    13.490312   \n",
       "17621  1584.864865  2945.297297  1830.054054  3260.108108  1241.945946   \n",
       "17622    36.859114    65.595248    34.413486    46.991004    25.067692   \n",
       "17623     9.453539    17.754208    15.909615    20.982246    11.298132   \n",
       "\n",
       "                5            6            7            8            9   ...  \\\n",
       "0         6.207675    12.415350     0.000000     0.564334     1.693002  ...   \n",
       "1         0.465549     0.000000     0.000000     0.000000     0.465549  ...   \n",
       "2         0.426530     0.000000     6.184688     0.639795     0.639795  ...   \n",
       "3         0.382995     0.191498     0.000000     0.000000     0.191498  ...   \n",
       "4         3.820439     3.820439     0.477555     0.000000     0.000000  ...   \n",
       "...            ...          ...          ...          ...          ...  ...   \n",
       "17619     5.600933     9.334889     1.400233     1.866978     0.933489  ...   \n",
       "17620    16.556291    15.084621    16.311013    22.075055    25.754231  ...   \n",
       "17621  1166.270270  1693.405405  2859.675676  1662.270270  3340.972973  ...   \n",
       "17622    25.941130    35.024893    71.359944    61.228055    56.511486  ...   \n",
       "17623    19.137653    18.445930    69.172239    47.498271    28.130044  ...   \n",
       "\n",
       "                32          33           34           35           36  \\\n",
       "0         2.257336    9.029345     2.821670     0.000000     7.336343   \n",
       "1         0.000000    0.000000     0.000000     0.000000     0.000000   \n",
       "2         0.000000    0.000000     0.000000     0.000000     0.213265   \n",
       "3         0.000000    0.574493     0.765990     0.382995     0.574493   \n",
       "4         0.477555    0.955110     3.820439     0.477555     0.000000   \n",
       "...            ...         ...          ...          ...          ...   \n",
       "17619     2.800467    3.967328     6.067678     6.067678    10.268378   \n",
       "17620    25.876870   15.207260    20.112828    17.782683    18.027962   \n",
       "17621  1866.378378  952.216216  1162.378378  1647.567568  1202.594595   \n",
       "17622    43.147873   29.871605    51.096166    62.014150    45.593502   \n",
       "17623    31.358082   13.142725    19.598801    19.598801    15.909615   \n",
       "\n",
       "                37           38          39           40           41  \n",
       "0         2.257336     1.693002    1.128668     2.257336     4.514673  \n",
       "1         0.000000     0.000000    0.000000     0.000000     0.000000  \n",
       "2         0.426530     0.213265    0.000000     2.772446     0.639795  \n",
       "3         0.191498     0.382995    0.000000     0.574493     0.000000  \n",
       "4         0.000000     0.477555    0.000000     1.432665     0.477555  \n",
       "...            ...          ...         ...          ...          ...  \n",
       "17619     3.033839     3.033839    3.500583     4.434072     2.100350  \n",
       "17620    20.112828    16.678931   14.961982    20.848663    18.886436  \n",
       "17621  3449.081081  2208.864865  898.594595  3887.567568  1016.648649  \n",
       "17622    53.716482    39.654118   28.299415    55.026640    41.138964  \n",
       "17623    14.987318    27.899470   26.977173    17.754208    52.109753  \n",
       "\n",
       "[17624 rows x 42 columns]"
      ]
     },
     "execution_count": 175,
     "metadata": {},
     "output_type": "execute_result"
    }
   ],
   "source": [
    "RPK_values_dataframe = pd.DataFrame(data = RPK_values)\n",
    "RPK_values_dataframe\n",
    "#putting values in a dataframe. "
   ]
  },
  {
   "cell_type": "code",
   "execution_count": 179,
   "metadata": {},
   "outputs": [
    {
     "data": {
      "text/plain": [
       "0     3.737677e+06\n",
       "1     3.663875e+06\n",
       "2     3.656148e+06\n",
       "3     4.622665e+06\n",
       "4     4.341615e+06\n",
       "5     5.217481e+06\n",
       "6     5.243704e+06\n",
       "7     5.395328e+06\n",
       "8     5.467460e+06\n",
       "9     4.590804e+06\n",
       "10    5.030903e+06\n",
       "11    7.797163e+06\n",
       "12    5.177077e+06\n",
       "13    6.776149e+06\n",
       "14    5.733708e+06\n",
       "15    5.754934e+06\n",
       "16    4.192604e+06\n",
       "17    2.709181e+06\n",
       "18    2.637149e+06\n",
       "19    5.098205e+06\n",
       "20    6.191517e+06\n",
       "21    5.479956e+06\n",
       "22    5.008046e+06\n",
       "23    5.990210e+06\n",
       "24    4.360611e+06\n",
       "25    4.055595e+06\n",
       "26    3.739412e+06\n",
       "27    3.643908e+06\n",
       "28    5.247223e+06\n",
       "29    7.680379e+06\n",
       "30    5.256261e+06\n",
       "31    2.628549e+06\n",
       "32    4.335472e+06\n",
       "33    2.745889e+06\n",
       "34    4.808920e+06\n",
       "35    5.703400e+06\n",
       "36    5.133438e+06\n",
       "37    4.397216e+06\n",
       "38    5.267491e+06\n",
       "39    5.813046e+06\n",
       "40    5.389168e+06\n",
       "41    4.605905e+06\n",
       "dtype: float64"
      ]
     },
     "execution_count": 179,
     "metadata": {},
     "output_type": "execute_result"
    }
   ],
   "source": [
    "RPK_real_sum = RPK_values_dataframe.sum()\n",
    "RPK_real_sum"
   ]
  },
  {
   "cell_type": "code",
   "execution_count": 199,
   "metadata": {},
   "outputs": [
    {
     "data": {
      "text/plain": [
       "0     3.737677\n",
       "1     3.663875\n",
       "2     3.656148\n",
       "3     4.622665\n",
       "4     4.341615\n",
       "5     5.217481\n",
       "6     5.243704\n",
       "7     5.395328\n",
       "8     5.467460\n",
       "9     4.590804\n",
       "10    5.030903\n",
       "11    7.797163\n",
       "12    5.177077\n",
       "13    6.776149\n",
       "14    5.733708\n",
       "15    5.754934\n",
       "16    4.192604\n",
       "17    2.709181\n",
       "18    2.637149\n",
       "19    5.098205\n",
       "20    6.191517\n",
       "21    5.479956\n",
       "22    5.008046\n",
       "23    5.990210\n",
       "24    4.360611\n",
       "25    4.055595\n",
       "26    3.739412\n",
       "27    3.643908\n",
       "28    5.247223\n",
       "29    7.680379\n",
       "30    5.256261\n",
       "31    2.628549\n",
       "32    4.335472\n",
       "33    2.745889\n",
       "34    4.808920\n",
       "35    5.703400\n",
       "36    5.133438\n",
       "37    4.397216\n",
       "38    5.267491\n",
       "39    5.813046\n",
       "40    5.389168\n",
       "41    4.605905\n",
       "dtype: float64"
      ]
     },
     "execution_count": 199,
     "metadata": {},
     "output_type": "execute_result"
    }
   ],
   "source": [
    "rpk_scal_fac = RPK_real_sum/1000000\n",
    "type(rpk_scal_fac)\n",
    "rpk_scal_fac\n",
    "\n",
    "# RPK_scal_fac_array = rpk_real_scal_fac.to_numpy()\n",
    "# type(RPK_scal_fac_array)\n",
    "# RPK_scal_fac_array.shape\n",
    "\n",
    "\n",
    "\n",
    "# labels_array = group_labels.to_numpy()"
   ]
  },
  {
   "cell_type": "code",
   "execution_count": 183,
   "metadata": {},
   "outputs": [
    {
     "data": {
      "text/html": [
       "<div>\n",
       "<style scoped>\n",
       "    .dataframe tbody tr th:only-of-type {\n",
       "        vertical-align: middle;\n",
       "    }\n",
       "\n",
       "    .dataframe tbody tr th {\n",
       "        vertical-align: top;\n",
       "    }\n",
       "\n",
       "    .dataframe thead th {\n",
       "        text-align: right;\n",
       "    }\n",
       "</style>\n",
       "<table border=\"1\" class=\"dataframe\">\n",
       "  <thead>\n",
       "    <tr style=\"text-align: right;\">\n",
       "      <th></th>\n",
       "      <th>0</th>\n",
       "      <th>1</th>\n",
       "      <th>2</th>\n",
       "      <th>3</th>\n",
       "      <th>4</th>\n",
       "      <th>5</th>\n",
       "      <th>6</th>\n",
       "      <th>7</th>\n",
       "      <th>8</th>\n",
       "      <th>9</th>\n",
       "      <th>...</th>\n",
       "      <th>32</th>\n",
       "      <th>33</th>\n",
       "      <th>34</th>\n",
       "      <th>35</th>\n",
       "      <th>36</th>\n",
       "      <th>37</th>\n",
       "      <th>38</th>\n",
       "      <th>39</th>\n",
       "      <th>40</th>\n",
       "      <th>41</th>\n",
       "    </tr>\n",
       "  </thead>\n",
       "  <tbody>\n",
       "    <tr>\n",
       "      <th>0</th>\n",
       "      <td>0.452956</td>\n",
       "      <td>0.462080</td>\n",
       "      <td>2.006577</td>\n",
       "      <td>1.220798</td>\n",
       "      <td>1.039860</td>\n",
       "      <td>1.189784</td>\n",
       "      <td>2.367668</td>\n",
       "      <td>0.000000</td>\n",
       "      <td>0.103217</td>\n",
       "      <td>0.368781</td>\n",
       "      <td>...</td>\n",
       "      <td>0.520667</td>\n",
       "      <td>3.288314</td>\n",
       "      <td>0.586758</td>\n",
       "      <td>0.000000</td>\n",
       "      <td>1.429129</td>\n",
       "      <td>0.513356</td>\n",
       "      <td>0.321406</td>\n",
       "      <td>0.194161</td>\n",
       "      <td>0.418865</td>\n",
       "      <td>0.980192</td>\n",
       "    </tr>\n",
       "    <tr>\n",
       "      <th>1</th>\n",
       "      <td>0.000000</td>\n",
       "      <td>0.000000</td>\n",
       "      <td>0.000000</td>\n",
       "      <td>0.000000</td>\n",
       "      <td>0.107230</td>\n",
       "      <td>0.089229</td>\n",
       "      <td>0.000000</td>\n",
       "      <td>0.000000</td>\n",
       "      <td>0.000000</td>\n",
       "      <td>0.101409</td>\n",
       "      <td>...</td>\n",
       "      <td>0.000000</td>\n",
       "      <td>0.000000</td>\n",
       "      <td>0.000000</td>\n",
       "      <td>0.000000</td>\n",
       "      <td>0.000000</td>\n",
       "      <td>0.000000</td>\n",
       "      <td>0.000000</td>\n",
       "      <td>0.000000</td>\n",
       "      <td>0.000000</td>\n",
       "      <td>0.000000</td>\n",
       "    </tr>\n",
       "    <tr>\n",
       "      <th>2</th>\n",
       "      <td>0.000000</td>\n",
       "      <td>0.349245</td>\n",
       "      <td>0.349983</td>\n",
       "      <td>0.184539</td>\n",
       "      <td>0.000000</td>\n",
       "      <td>0.081750</td>\n",
       "      <td>0.000000</td>\n",
       "      <td>1.146304</td>\n",
       "      <td>0.117019</td>\n",
       "      <td>0.139365</td>\n",
       "      <td>...</td>\n",
       "      <td>0.000000</td>\n",
       "      <td>0.000000</td>\n",
       "      <td>0.000000</td>\n",
       "      <td>0.000000</td>\n",
       "      <td>0.041544</td>\n",
       "      <td>0.097000</td>\n",
       "      <td>0.040487</td>\n",
       "      <td>0.000000</td>\n",
       "      <td>0.514448</td>\n",
       "      <td>0.138908</td>\n",
       "    </tr>\n",
       "    <tr>\n",
       "      <th>3</th>\n",
       "      <td>0.102469</td>\n",
       "      <td>0.000000</td>\n",
       "      <td>0.052377</td>\n",
       "      <td>0.124277</td>\n",
       "      <td>0.132322</td>\n",
       "      <td>0.073406</td>\n",
       "      <td>0.036520</td>\n",
       "      <td>0.000000</td>\n",
       "      <td>0.000000</td>\n",
       "      <td>0.041713</td>\n",
       "      <td>...</td>\n",
       "      <td>0.000000</td>\n",
       "      <td>0.209219</td>\n",
       "      <td>0.159285</td>\n",
       "      <td>0.067152</td>\n",
       "      <td>0.111912</td>\n",
       "      <td>0.043550</td>\n",
       "      <td>0.072709</td>\n",
       "      <td>0.000000</td>\n",
       "      <td>0.106601</td>\n",
       "      <td>0.000000</td>\n",
       "    </tr>\n",
       "    <tr>\n",
       "      <th>4</th>\n",
       "      <td>0.000000</td>\n",
       "      <td>0.000000</td>\n",
       "      <td>0.000000</td>\n",
       "      <td>0.309922</td>\n",
       "      <td>0.109995</td>\n",
       "      <td>0.732238</td>\n",
       "      <td>0.728576</td>\n",
       "      <td>0.088513</td>\n",
       "      <td>0.000000</td>\n",
       "      <td>0.000000</td>\n",
       "      <td>...</td>\n",
       "      <td>0.110151</td>\n",
       "      <td>0.347833</td>\n",
       "      <td>0.794448</td>\n",
       "      <td>0.083732</td>\n",
       "      <td>0.000000</td>\n",
       "      <td>0.000000</td>\n",
       "      <td>0.090661</td>\n",
       "      <td>0.000000</td>\n",
       "      <td>0.265842</td>\n",
       "      <td>0.103683</td>\n",
       "    </tr>\n",
       "    <tr>\n",
       "      <th>...</th>\n",
       "      <td>...</td>\n",
       "      <td>...</td>\n",
       "      <td>...</td>\n",
       "      <td>...</td>\n",
       "      <td>...</td>\n",
       "      <td>...</td>\n",
       "      <td>...</td>\n",
       "      <td>...</td>\n",
       "      <td>...</td>\n",
       "      <td>...</td>\n",
       "      <td>...</td>\n",
       "      <td>...</td>\n",
       "      <td>...</td>\n",
       "      <td>...</td>\n",
       "      <td>...</td>\n",
       "      <td>...</td>\n",
       "      <td>...</td>\n",
       "      <td>...</td>\n",
       "      <td>...</td>\n",
       "      <td>...</td>\n",
       "      <td>...</td>\n",
       "    </tr>\n",
       "    <tr>\n",
       "      <th>17619</th>\n",
       "      <td>0.499502</td>\n",
       "      <td>0.891737</td>\n",
       "      <td>0.957451</td>\n",
       "      <td>0.504843</td>\n",
       "      <td>1.128800</td>\n",
       "      <td>1.073494</td>\n",
       "      <td>1.780209</td>\n",
       "      <td>0.259527</td>\n",
       "      <td>0.341471</td>\n",
       "      <td>0.203339</td>\n",
       "      <td>...</td>\n",
       "      <td>0.645943</td>\n",
       "      <td>1.444824</td>\n",
       "      <td>1.261755</td>\n",
       "      <td>1.063870</td>\n",
       "      <td>2.000293</td>\n",
       "      <td>0.689945</td>\n",
       "      <td>0.575955</td>\n",
       "      <td>0.602194</td>\n",
       "      <td>0.822775</td>\n",
       "      <td>0.456012</td>\n",
       "    </tr>\n",
       "    <tr>\n",
       "      <th>17620</th>\n",
       "      <td>5.446727</td>\n",
       "      <td>7.062706</td>\n",
       "      <td>4.427713</td>\n",
       "      <td>3.952966</td>\n",
       "      <td>3.107211</td>\n",
       "      <td>3.173234</td>\n",
       "      <td>2.876711</td>\n",
       "      <td>3.023174</td>\n",
       "      <td>4.037534</td>\n",
       "      <td>5.609960</td>\n",
       "      <td>...</td>\n",
       "      <td>5.968640</td>\n",
       "      <td>5.538191</td>\n",
       "      <td>4.182400</td>\n",
       "      <td>3.117909</td>\n",
       "      <td>3.511869</td>\n",
       "      <td>4.573991</td>\n",
       "      <td>3.166390</td>\n",
       "      <td>2.573862</td>\n",
       "      <td>3.868624</td>\n",
       "      <td>4.100483</td>\n",
       "    </tr>\n",
       "    <tr>\n",
       "      <th>17621</th>\n",
       "      <td>424.024032</td>\n",
       "      <td>803.875035</td>\n",
       "      <td>500.541570</td>\n",
       "      <td>705.244275</td>\n",
       "      <td>286.056226</td>\n",
       "      <td>223.531275</td>\n",
       "      <td>322.940700</td>\n",
       "      <td>530.028134</td>\n",
       "      <td>304.029710</td>\n",
       "      <td>727.753276</td>\n",
       "      <td>...</td>\n",
       "      <td>430.490240</td>\n",
       "      <td>346.778809</td>\n",
       "      <td>241.712967</td>\n",
       "      <td>288.874621</td>\n",
       "      <td>234.266890</td>\n",
       "      <td>784.378323</td>\n",
       "      <td>419.339100</td>\n",
       "      <td>154.582391</td>\n",
       "      <td>721.366896</td>\n",
       "      <td>220.727244</td>\n",
       "    </tr>\n",
       "    <tr>\n",
       "      <th>17622</th>\n",
       "      <td>9.861503</td>\n",
       "      <td>17.903246</td>\n",
       "      <td>9.412498</td>\n",
       "      <td>10.165349</td>\n",
       "      <td>5.773817</td>\n",
       "      <td>4.971964</td>\n",
       "      <td>6.679419</td>\n",
       "      <td>13.226247</td>\n",
       "      <td>11.198629</td>\n",
       "      <td>12.309713</td>\n",
       "      <td>...</td>\n",
       "      <td>9.952290</td>\n",
       "      <td>10.878663</td>\n",
       "      <td>10.625289</td>\n",
       "      <td>10.873189</td>\n",
       "      <td>8.881670</td>\n",
       "      <td>12.216020</td>\n",
       "      <td>7.528085</td>\n",
       "      <td>4.868259</td>\n",
       "      <td>10.210600</td>\n",
       "      <td>8.931788</td>\n",
       "    </tr>\n",
       "    <tr>\n",
       "      <th>17623</th>\n",
       "      <td>2.529255</td>\n",
       "      <td>4.845747</td>\n",
       "      <td>4.351469</td>\n",
       "      <td>4.538993</td>\n",
       "      <td>2.602288</td>\n",
       "      <td>3.667987</td>\n",
       "      <td>3.517729</td>\n",
       "      <td>12.820766</td>\n",
       "      <td>8.687447</td>\n",
       "      <td>6.127476</td>\n",
       "      <td>...</td>\n",
       "      <td>7.232911</td>\n",
       "      <td>4.786327</td>\n",
       "      <td>4.075510</td>\n",
       "      <td>3.436336</td>\n",
       "      <td>3.099212</td>\n",
       "      <td>3.408365</td>\n",
       "      <td>5.296539</td>\n",
       "      <td>4.640798</td>\n",
       "      <td>3.294425</td>\n",
       "      <td>11.313685</td>\n",
       "    </tr>\n",
       "  </tbody>\n",
       "</table>\n",
       "<p>17624 rows × 42 columns</p>\n",
       "</div>"
      ],
      "text/plain": [
       "               0           1           2           3           4           5   \\\n",
       "0        0.452956    0.462080    2.006577    1.220798    1.039860    1.189784   \n",
       "1        0.000000    0.000000    0.000000    0.000000    0.107230    0.089229   \n",
       "2        0.000000    0.349245    0.349983    0.184539    0.000000    0.081750   \n",
       "3        0.102469    0.000000    0.052377    0.124277    0.132322    0.073406   \n",
       "4        0.000000    0.000000    0.000000    0.309922    0.109995    0.732238   \n",
       "...           ...         ...         ...         ...         ...         ...   \n",
       "17619    0.499502    0.891737    0.957451    0.504843    1.128800    1.073494   \n",
       "17620    5.446727    7.062706    4.427713    3.952966    3.107211    3.173234   \n",
       "17621  424.024032  803.875035  500.541570  705.244275  286.056226  223.531275   \n",
       "17622    9.861503   17.903246    9.412498   10.165349    5.773817    4.971964   \n",
       "17623    2.529255    4.845747    4.351469    4.538993    2.602288    3.667987   \n",
       "\n",
       "               6           7           8           9   ...          32  \\\n",
       "0        2.367668    0.000000    0.103217    0.368781  ...    0.520667   \n",
       "1        0.000000    0.000000    0.000000    0.101409  ...    0.000000   \n",
       "2        0.000000    1.146304    0.117019    0.139365  ...    0.000000   \n",
       "3        0.036520    0.000000    0.000000    0.041713  ...    0.000000   \n",
       "4        0.728576    0.088513    0.000000    0.000000  ...    0.110151   \n",
       "...           ...         ...         ...         ...  ...         ...   \n",
       "17619    1.780209    0.259527    0.341471    0.203339  ...    0.645943   \n",
       "17620    2.876711    3.023174    4.037534    5.609960  ...    5.968640   \n",
       "17621  322.940700  530.028134  304.029710  727.753276  ...  430.490240   \n",
       "17622    6.679419   13.226247   11.198629   12.309713  ...    9.952290   \n",
       "17623    3.517729   12.820766    8.687447    6.127476  ...    7.232911   \n",
       "\n",
       "               33          34          35          36          37          38  \\\n",
       "0        3.288314    0.586758    0.000000    1.429129    0.513356    0.321406   \n",
       "1        0.000000    0.000000    0.000000    0.000000    0.000000    0.000000   \n",
       "2        0.000000    0.000000    0.000000    0.041544    0.097000    0.040487   \n",
       "3        0.209219    0.159285    0.067152    0.111912    0.043550    0.072709   \n",
       "4        0.347833    0.794448    0.083732    0.000000    0.000000    0.090661   \n",
       "...           ...         ...         ...         ...         ...         ...   \n",
       "17619    1.444824    1.261755    1.063870    2.000293    0.689945    0.575955   \n",
       "17620    5.538191    4.182400    3.117909    3.511869    4.573991    3.166390   \n",
       "17621  346.778809  241.712967  288.874621  234.266890  784.378323  419.339100   \n",
       "17622   10.878663   10.625289   10.873189    8.881670   12.216020    7.528085   \n",
       "17623    4.786327    4.075510    3.436336    3.099212    3.408365    5.296539   \n",
       "\n",
       "               39          40          41  \n",
       "0        0.194161    0.418865    0.980192  \n",
       "1        0.000000    0.000000    0.000000  \n",
       "2        0.000000    0.514448    0.138908  \n",
       "3        0.000000    0.106601    0.000000  \n",
       "4        0.000000    0.265842    0.103683  \n",
       "...           ...         ...         ...  \n",
       "17619    0.602194    0.822775    0.456012  \n",
       "17620    2.573862    3.868624    4.100483  \n",
       "17621  154.582391  721.366896  220.727244  \n",
       "17622    4.868259   10.210600    8.931788  \n",
       "17623    4.640798    3.294425   11.313685  \n",
       "\n",
       "[17624 rows x 42 columns]"
      ]
     },
     "execution_count": 183,
     "metadata": {},
     "output_type": "execute_result"
    }
   ],
   "source": [
    "#this is what I want\n",
    "TPM_test = RPK_values_dataframe/rpk_scal_fac\n",
    "TPM_test"
   ]
  },
  {
   "cell_type": "code",
   "execution_count": 184,
   "metadata": {},
   "outputs": [
    {
     "data": {
      "text/plain": [
       "array([[4.52955744e-01, 4.62079753e-01, 2.00657718e+00, ...,\n",
       "        1.94161222e-01, 4.18865443e-01, 9.80192383e-01],\n",
       "       [0.00000000e+00, 0.00000000e+00, 0.00000000e+00, ...,\n",
       "        0.00000000e+00, 0.00000000e+00, 0.00000000e+00],\n",
       "       [0.00000000e+00, 3.49245179e-01, 3.49983243e-01, ...,\n",
       "        0.00000000e+00, 5.14447875e-01, 1.38907622e-01],\n",
       "       ...,\n",
       "       [4.24024032e+02, 8.03875035e+02, 5.00541570e+02, ...,\n",
       "        1.54582391e+02, 7.21366896e+02, 2.20727244e+02],\n",
       "       [9.86150342e+00, 1.79032462e+01, 9.41249807e+00, ...,\n",
       "        4.86825897e+00, 1.02105997e+01, 8.93178798e+00],\n",
       "       [2.52925530e+00, 4.84574666e+00, 4.35146908e+00, ...,\n",
       "        4.64079791e+00, 3.29442452e+00, 1.13136847e+01]])"
      ]
     },
     "execution_count": 184,
     "metadata": {},
     "output_type": "execute_result"
    }
   ],
   "source": [
    "TPM_real = TPM_test.to_numpy()\n",
    "TPM_real\n",
    "# type(TPM_real)"
   ]
  },
  {
   "cell_type": "code",
   "execution_count": null,
   "metadata": {},
   "outputs": [],
   "source": []
  },
  {
   "cell_type": "code",
   "execution_count": 124,
   "metadata": {},
   "outputs": [],
   "source": [
    "# TPM_real = RPK_data_frame/RPK_real_sum\n",
    "# TPM_real"
   ]
  },
  {
   "cell_type": "code",
   "execution_count": 107,
   "metadata": {},
   "outputs": [],
   "source": [
    "# RPK_sum = RPK_values.sum()\n",
    "# RPK_sum\n",
    "# RPK_scaling_fac = RPK_sum/1000000\n",
    "# RPK_scaling_fac\n",
    "# (2 points) Count up all the RPK values in a sample and divide this number by 1,000,000. \n",
    "#This is your “per million” scaling factor."
   ]
  },
  {
   "cell_type": "code",
   "execution_count": 108,
   "metadata": {},
   "outputs": [],
   "source": [
    "# #(1 point) Divide the RPK values by the “per million” scaling factor. This gives you TPM.\n",
    "# TPM = RPK_values/RPK_scaling_fac\n",
    "# TPM"
   ]
  },
  {
   "cell_type": "code",
   "execution_count": null,
   "metadata": {
    "tags": []
   },
   "outputs": [],
   "source": []
  },
  {
   "cell_type": "markdown",
   "metadata": {},
   "source": [
    "\n",
    "\n",
    "..................................................................................................\n",
    "\n",
    "<b>Part 2 (15 points)</b> - Identify changed genes  \n",
    "\n",
    "Identify the genes with the highest difference (>2 log 2 fold change) between the TT and the other phenotypes.\n",
    "\n",
    "To identify these genes:\n",
    "- (<b>3 points</b>) Separate the TPM matrix in two matrices select the columns for the TT group in one matrix and the columns for the other groups in another matrix \n",
    "    - Use the `group_labels` Series, select from the TPM matrix only columns that have `group_labels == \"TT\"` for one group and `group_labels != \"TT\"` for the other group\n",
    "- (<b>3 points</b>) Compute the mean value for each in gene in the two groups\n",
    "    - Apply the mean method for each row in the two matrices to result in two one dimensional arrays that have the average TPM for each gene\n",
    "- (<b>3 points</b>) Take the log 2 of the ratio between the mean in the TT and non TT groups\n",
    "    - Call the log2 method from the np library on the ratio between the two arrays computed at the previous step\n",
    "    - You will get a warning because of division by 0 and na.inf values will be created\n",
    "- (<b>3 points</b>) Create a named array (Series) with the log2FC and the gene symbols\n",
    "    - Create a pandas Series using the array created at the previous step (lo2FC) as the values and the `gene_symbol_array` as the index\n",
    "- (<b>3 points</b>) Select the genes with the highest difference (>3 log 2 fold change) between the TT and the other phenotypes\n",
    "    - From the above Series select only the elements with an absolute value >2 and that are not na.inf"
   ]
  },
  {
   "cell_type": "code",
   "execution_count": 185,
   "metadata": {},
   "outputs": [
    {
     "data": {
      "text/plain": [
       "(17624, 42)"
      ]
     },
     "execution_count": 185,
     "metadata": {},
     "output_type": "execute_result"
    }
   ],
   "source": [
    "TPM_real.shape"
   ]
  },
  {
   "cell_type": "code",
   "execution_count": 186,
   "metadata": {
    "tags": []
   },
   "outputs": [
    {
     "data": {
      "text/plain": [
       "Patient1     TT\n",
       "Patient9     CT\n",
       "Patient10    CC\n",
       "Patient11    CT\n",
       "Patient12    CC\n",
       "Patient13    TT\n",
       "Patient14    CT\n",
       "Patient15    CT\n",
       "Patient16    CC\n",
       "Patient17    TT\n",
       "Patient18    CC\n",
       "Patient2     TT\n",
       "Patient19    TT\n",
       "Patient20    CC\n",
       "Patient21    CC\n",
       "Patient22    CT\n",
       "Patient23    TT\n",
       "Patient24    CT\n",
       "Patient25    CC\n",
       "Patient26    TT\n",
       "Patient27    CC\n",
       "Patient28    CT\n",
       "Patient3     CT\n",
       "Patient29    CC\n",
       "Patient30    CT\n",
       "Patient31    CT\n",
       "Patient32    CT\n",
       "Patient33    CT\n",
       "Patient34    CT\n",
       "Patient35    CT\n",
       "Patient36    CC\n",
       "Patient37    CT\n",
       "Patient4     CC\n",
       "Patient38    TT\n",
       "Patient39    CC\n",
       "Patient40    TT\n",
       "Patient41    TT\n",
       "Patient42    TT\n",
       "Patient5     CT\n",
       "Patient6     CT\n",
       "Patient7     CT\n",
       "Patient8     CT\n",
       "dtype: object"
      ]
     },
     "execution_count": 186,
     "metadata": {},
     "output_type": "execute_result"
    }
   ],
   "source": [
    "#Write your solution here, feel free to add new cells.\n",
    "#part 1 \n",
    "group_labels\n",
    "# group_1 = np.where(group_labels == \"TT\")\n",
    "# group_1_again = np.asarray(group_1)\n",
    "# group_1_again"
   ]
  },
  {
   "cell_type": "code",
   "execution_count": 187,
   "metadata": {},
   "outputs": [
    {
     "data": {
      "text/plain": [
       "(42,)"
      ]
     },
     "execution_count": 187,
     "metadata": {},
     "output_type": "execute_result"
    }
   ],
   "source": [
    "#convert this panda series to an array. I didn't want the index I wanted the data. \n",
    "#and I didn't know how to do that with a Series. Series would not run with the same \n",
    "#methods as an array/matrix. So I converted it to an array. \n",
    "\n",
    "labels_array = group_labels.to_numpy()\n",
    "labels_array.shape"
   ]
  },
  {
   "cell_type": "code",
   "execution_count": 188,
   "metadata": {},
   "outputs": [
    {
     "data": {
      "text/plain": [
       "array([ True, False, False, False, False,  True, False, False, False,\n",
       "        True, False,  True,  True, False, False, False,  True, False,\n",
       "       False,  True, False, False, False, False, False, False, False,\n",
       "       False, False, False, False, False, False,  True, False,  True,\n",
       "        True,  True, False, False, False, False])"
      ]
     },
     "execution_count": 188,
     "metadata": {},
     "output_type": "execute_result"
    }
   ],
   "source": [
    "labels_array == \"TT\""
   ]
  },
  {
   "cell_type": "code",
   "execution_count": 189,
   "metadata": {},
   "outputs": [
    {
     "data": {
      "text/plain": [
       "array([False,  True,  True,  True,  True, False,  True,  True,  True,\n",
       "       False,  True, False, False,  True,  True,  True, False,  True,\n",
       "        True, False,  True,  True,  True,  True,  True,  True,  True,\n",
       "        True,  True,  True,  True,  True,  True, False,  True, False,\n",
       "       False, False,  True,  True,  True,  True])"
      ]
     },
     "execution_count": 189,
     "metadata": {},
     "output_type": "execute_result"
    }
   ],
   "source": [
    "labels_array != \"TT\""
   ]
  },
  {
   "cell_type": "code",
   "execution_count": 190,
   "metadata": {},
   "outputs": [
    {
     "data": {
      "text/plain": [
       "(17624, 11)"
      ]
     },
     "execution_count": 190,
     "metadata": {},
     "output_type": "execute_result"
    }
   ],
   "source": [
    "group_TT = TPM_real[:, labels_array == \"TT\"]\n",
    "group_TT.shape"
   ]
  },
  {
   "cell_type": "code",
   "execution_count": 191,
   "metadata": {},
   "outputs": [
    {
     "data": {
      "text/plain": [
       "(17624, 31)"
      ]
     },
     "execution_count": 191,
     "metadata": {},
     "output_type": "execute_result"
    }
   ],
   "source": [
    "group_other = TPM_real[:, labels_array != \"TT\"]\n",
    "group_other.shape"
   ]
  },
  {
   "cell_type": "code",
   "execution_count": 192,
   "metadata": {},
   "outputs": [
    {
     "data": {
      "text/plain": [
       "array([1.02615289e+00, 1.73307138e-02, 9.89584823e-02, ...,\n",
       "       4.75339633e+02, 1.13895720e+01, 5.84545451e+00])"
      ]
     },
     "execution_count": 192,
     "metadata": {},
     "output_type": "execute_result"
    }
   ],
   "source": [
    "#part 2:\n",
    "#I want to use index of 1 to take the mean for each row. \n",
    "mean_group_TT = group_TT.mean(1)\n",
    "mean_group_TT\n",
    "# mean_group_TT.ndim"
   ]
  },
  {
   "cell_type": "code",
   "execution_count": 193,
   "metadata": {},
   "outputs": [
    {
     "data": {
      "text/plain": [
       "array([1.04659568e+00, 1.87447736e-02, 1.63160251e-01, ...,\n",
       "       4.59357564e+02, 1.09529395e+01, 6.81535339e+00])"
      ]
     },
     "execution_count": 193,
     "metadata": {},
     "output_type": "execute_result"
    }
   ],
   "source": [
    "mean_group_other = group_other.mean(1)\n",
    "mean_group_other\n",
    "# mean_group_other.ndim"
   ]
  },
  {
   "cell_type": "code",
   "execution_count": 194,
   "metadata": {},
   "outputs": [
    {
     "name": "stderr",
     "output_type": "stream",
     "text": [
      "<ipython-input-194-f32efae1ec9c>:6: RuntimeWarning: divide by zero encountered in true_divide\n",
      "  group_ratio = mean_group_TT/mean_group_other\n",
      "<ipython-input-194-f32efae1ec9c>:6: RuntimeWarning: invalid value encountered in true_divide\n",
      "  group_ratio = mean_group_TT/mean_group_other\n",
      "<ipython-input-194-f32efae1ec9c>:7: RuntimeWarning: divide by zero encountered in log2\n",
      "  group_log2FC = np.log2(group_ratio)\n"
     ]
    },
    {
     "data": {
      "text/plain": [
       "array([-0.0284585 , -0.11315733, -0.72139435, ...,  0.04934111,\n",
       "        0.05639543, -0.22147326])"
      ]
     },
     "execution_count": 194,
     "metadata": {},
     "output_type": "execute_result"
    }
   ],
   "source": [
    "#part 3\n",
    "# (3 points) Take the log 2 of the ratio between the mean in the TT and non TT groups\n",
    "# Call the log2 method from the np library on the ratio between the two arrays computed at the previous step\n",
    "# You will get a warning because of division by 0 and na.inf values will be created\n",
    "\n",
    "group_ratio = mean_group_TT/mean_group_other\n",
    "group_log2FC = np.log2(group_ratio)\n",
    "group_log2FC\n"
   ]
  },
  {
   "cell_type": "code",
   "execution_count": 195,
   "metadata": {},
   "outputs": [
    {
     "data": {
      "text/plain": [
       "array([0.0284585 , 0.11315733, 0.72139435, ..., 0.04934111, 0.05639543,\n",
       "       0.22147326])"
      ]
     },
     "execution_count": 195,
     "metadata": {},
     "output_type": "execute_result"
    }
   ],
   "source": [
    "#take the absolute value of group_log2FC\n",
    "group_log2FC_abs = abs(group_log2FC)\n",
    "group_log2FC_abs"
   ]
  },
  {
   "cell_type": "code",
   "execution_count": 196,
   "metadata": {},
   "outputs": [
    {
     "data": {
      "text/plain": [
       "\"A1BG\"      0.028458\n",
       "\"A1CF\"      0.113157\n",
       "\"A2M\"       0.721394\n",
       "\"A2ML1\"     0.016965\n",
       "\"A4GALT\"    0.574728\n",
       "              ...   \n",
       "\"ZYG11A\"    0.018575\n",
       "\"ZYG11B\"    0.139453\n",
       "\"ZYX\"       0.049341\n",
       "\"ZZEF1\"     0.056395\n",
       "\"ZZZ3\"      0.221473\n",
       "Length: 17624, dtype: float64"
      ]
     },
     "execution_count": 196,
     "metadata": {},
     "output_type": "execute_result"
    }
   ],
   "source": [
    "#part 4\n",
    "#create a named array (Series) with the log2FC and the gene symbols \n",
    "#Use array created at the previous step (log2FC) as the values and the gene_symbol_array as the index. \n",
    "log2FC_series = pd.Series(data = group_log2FC_abs, index = gene_symbol_array)\n",
    "log2FC_series\n"
   ]
  },
  {
   "cell_type": "code",
   "execution_count": 197,
   "metadata": {},
   "outputs": [
    {
     "data": {
      "text/plain": [
       "\"ABCC6P1\"     2.400189\n",
       "\"ABRA\"        2.268561\n",
       "\"ACSBG2\"      2.321102\n",
       "\"ADAMTS19\"    2.021450\n",
       "\"ADARB2\"      2.410965\n",
       "                ...   \n",
       "\"ZBBX\"        2.396594\n",
       "\"ZNF48\"       2.080803\n",
       "\"ZNF648\"      2.882104\n",
       "\"ZNF705D\"     2.165953\n",
       "\"ZP1\"         2.174154\n",
       "Length: 251, dtype: float64"
      ]
     },
     "execution_count": 197,
     "metadata": {},
     "output_type": "execute_result"
    }
   ],
   "source": [
    "#part 5\n",
    "#need to select the genes with the highest difference between the TT and the other phenotypes. \n",
    "#from the above series select only the elements with an absolute value >2 and that are not na.inf\n",
    "log2FC_series[(log2FC_series > 2) & (log2FC_series != np.inf)]"
   ]
  },
  {
   "cell_type": "code",
   "execution_count": 209,
   "metadata": {},
   "outputs": [],
   "source": [
    "#definitely not the correct one since there is still genes that have infinity. \n",
    "#looked up \n",
    "# log2FC_series[(log2FC_series > 2)]"
   ]
  },
  {
   "cell_type": "code",
   "execution_count": 210,
   "metadata": {},
   "outputs": [],
   "source": [
    "# log2FC_series[(log2FC_series > 2) & (log2FC_series != np.nan)]"
   ]
  },
  {
   "cell_type": "code",
   "execution_count": null,
   "metadata": {},
   "outputs": [],
   "source": []
  },
  {
   "cell_type": "code",
   "execution_count": null,
   "metadata": {},
   "outputs": [],
   "source": []
  },
  {
   "cell_type": "code",
   "execution_count": null,
   "metadata": {},
   "outputs": [],
   "source": []
  },
  {
   "cell_type": "markdown",
   "metadata": {},
   "source": [
    "\n",
    "____\n",
    "#### Problem 4 - Understand the code \n",
    "##### 10 points\n",
    "\n",
    "Explain what the following code does and how it computes the result it displays.\n",
    "\n",
    "Score breakdown:\n",
    "- <b>(4 points)</b> Explaining the function: each statement is worth 0.5 points \n",
    "- <b>(6 points)</b> Explaining the code in the second cell: each statement is worth 1 point\n",
    "\n",
    "\n",
    "\n",
    "\n"
   ]
  },
  {
   "cell_type": "code",
   "execution_count": 10,
   "metadata": {},
   "outputs": [],
   "source": [
    "def update_network(gene1, gene2, network):  \n",
    "    if gene1 in network:\n",
    "        if gene2 in network[gene1]:\n",
    "            print(gene1, \"->\", gene2, \"link already there.\")\n",
    "        else: \n",
    "            network[gene1].add(gene2)\n",
    "            print(\"Added \", gene1, \"->\", gene2, \"link.\")\n",
    "    else:\n",
    "        network[gene1] = {gene2}\n",
    "        print(\"Added \", gene1, \"->\", gene2, \"link.\")\n",
    "    return network # this is not necessary, the dictionary will be updated no need to return it"
   ]
  },
  {
   "cell_type": "code",
   "execution_count": 11,
   "metadata": {},
   "outputs": [
    {
     "name": "stdout",
     "output_type": "stream",
     "text": [
      "Added  Ihh -> Shh link.\n",
      "Gli3 -> Shh link already there.\n",
      "Added  Ext1 -> Ihh link.\n"
     ]
    },
    {
     "data": {
      "text/plain": [
       "{'Adcyap1': {'Gli1'},\n",
       " 'Gli1': {'Foxa2', 'Myf5', 'Nkx2-9', 'Ptch1', 'Shh'},\n",
       " 'Gli2': {'Fgf15', 'Foxa2', 'Foxe1', 'Gli1', 'Myf5', 'Ptch1'},\n",
       " 'Gli3': {'Foxa2', 'Gli1', 'Myf5', 'Ptch1', 'Shh'},\n",
       " 'Ihh': {'Gli1', 'Shh'},\n",
       " 'Ext1': {'Ihh'}}"
      ]
     },
     "execution_count": 11,
     "metadata": {},
     "output_type": "execute_result"
    }
   ],
   "source": [
    "# network - might want to use this to reset the network while you test the code\n",
    "\n",
    "test_network = {\n",
    "    \"Adcyap1\": {\"Gli1\"},\n",
    "    \"Gli1\": {\"Ptch1\", \"Foxa2\", \"Myf5\", \"Nkx2-9\", \"Shh\"},\n",
    "    \"Gli2\": {\"Ptch1\", \"Fgf15\", \"Foxe1\", \"Foxa2\", \"Myf5\", \"Gli1\"},\n",
    "    \"Gli3\": {\"Ptch1\", \"Foxa2\", \"Myf5\", \"Gli1\", \"Shh\"},\n",
    "    \"Ihh\": {\"Gli1\"}\n",
    "}\n",
    "\n",
    "ntw_edges = ((\"Ihh\", \"Shh\"), (\"Gli3\", \"Shh\"), (\"Ext1\", \"Ihh\"))\n",
    "for link in ntw_edges:\n",
    "    gene1, gene2 = link\n",
    "    update_network(gene1, gene2, test_network)\n",
    "test_network"
   ]
  },
  {
   "cell_type": "code",
   "execution_count": 32,
   "metadata": {},
   "outputs": [
    {
     "data": {
      "text/plain": [
       "False"
      ]
     },
     "execution_count": 32,
     "metadata": {},
     "output_type": "execute_result"
    }
   ],
   "source": [
    "test_map = {\"ac\": [1, \"a\"], \"b\": 2, \"c\": 3}\n",
    "\"a\" in test_map\n",
    "# 1 in test_map "
   ]
  },
  {
   "cell_type": "code",
   "execution_count": 33,
   "metadata": {},
   "outputs": [
    {
     "name": "stdout",
     "output_type": "stream",
     "text": [
      "ac\n",
      "b\n",
      "c\n"
     ]
    }
   ],
   "source": [
    "for i in test_map:\n",
    "    print(i)\n",
    "    #goes through the keys in dict"
   ]
  },
  {
   "cell_type": "code",
   "execution_count": 34,
   "metadata": {},
   "outputs": [
    {
     "name": "stdout",
     "output_type": "stream",
     "text": [
      "ac\n",
      "b\n",
      "c\n"
     ]
    }
   ],
   "source": [
    "for i in test_map.keys():\n",
    "    print(i)"
   ]
  },
  {
   "cell_type": "code",
   "execution_count": 35,
   "metadata": {},
   "outputs": [
    {
     "name": "stdout",
     "output_type": "stream",
     "text": [
      "[1, 'a']\n",
      "2\n",
      "3\n"
     ]
    }
   ],
   "source": [
    "for i in test_map.values():\n",
    "    print(i)"
   ]
  },
  {
   "cell_type": "code",
   "execution_count": 36,
   "metadata": {},
   "outputs": [
    {
     "name": "stdout",
     "output_type": "stream",
     "text": [
      "('ac', [1, 'a'])\n",
      "('b', 2)\n",
      "('c', 3)\n"
     ]
    }
   ],
   "source": [
    "for i in test_map.items():\n",
    "    print(i)\n",
    "    #gives a tuple of 2, first position = keys, second posistion = value"
   ]
  },
  {
   "cell_type": "code",
   "execution_count": 37,
   "metadata": {},
   "outputs": [
    {
     "data": {
      "text/plain": [
       "dict_items([('ac', [1, 'a']), ('b', 2), ('c', 3)])"
      ]
     },
     "execution_count": 37,
     "metadata": {},
     "output_type": "execute_result"
    }
   ],
   "source": [
    "test_map.items()\n",
    "#gives them all together, but with a for loop due to iteration it gives you them individually. "
   ]
  },
  {
   "cell_type": "code",
   "execution_count": 38,
   "metadata": {},
   "outputs": [
    {
     "name": "stdout",
     "output_type": "stream",
     "text": [
      "ac 1\n",
      "ac a\n"
     ]
    },
    {
     "ename": "TypeError",
     "evalue": "'int' object is not iterable",
     "output_type": "error",
     "traceback": [
      "\u001b[1;31m---------------------------------------------------------------------------\u001b[0m",
      "\u001b[1;31mTypeError\u001b[0m                                 Traceback (most recent call last)",
      "\u001b[1;32m<ipython-input-38-c1d430ff90f2>\u001b[0m in \u001b[0;36m<module>\u001b[1;34m\u001b[0m\n\u001b[0;32m      1\u001b[0m \u001b[1;32mfor\u001b[0m \u001b[0mi\u001b[0m \u001b[1;32min\u001b[0m \u001b[0mtest_map\u001b[0m\u001b[1;33m:\u001b[0m\u001b[1;33m\u001b[0m\u001b[1;33m\u001b[0m\u001b[0m\n\u001b[1;32m----> 2\u001b[1;33m     \u001b[1;32mfor\u001b[0m \u001b[0mj\u001b[0m \u001b[1;32min\u001b[0m \u001b[0mtest_map\u001b[0m\u001b[1;33m[\u001b[0m\u001b[0mi\u001b[0m\u001b[1;33m]\u001b[0m\u001b[1;33m:\u001b[0m\u001b[1;33m\u001b[0m\u001b[1;33m\u001b[0m\u001b[0m\n\u001b[0m\u001b[0;32m      3\u001b[0m         \u001b[0mprint\u001b[0m\u001b[1;33m(\u001b[0m\u001b[0mi\u001b[0m\u001b[1;33m,\u001b[0m \u001b[0mj\u001b[0m\u001b[1;33m)\u001b[0m\u001b[1;33m\u001b[0m\u001b[1;33m\u001b[0m\u001b[0m\n",
      "\u001b[1;31mTypeError\u001b[0m: 'int' object is not iterable"
     ]
    }
   ],
   "source": [
    "for i in test_map:\n",
    "    for j in test_map[i]:\n",
    "        print(i, j)"
   ]
  },
  {
   "cell_type": "code",
   "execution_count": 39,
   "metadata": {},
   "outputs": [
    {
     "ename": "TypeError",
     "evalue": "'int' object is not iterable",
     "output_type": "error",
     "traceback": [
      "\u001b[1;31m---------------------------------------------------------------------------\u001b[0m",
      "\u001b[1;31mTypeError\u001b[0m                                 Traceback (most recent call last)",
      "\u001b[1;32m<ipython-input-39-e830b4377da0>\u001b[0m in \u001b[0;36m<module>\u001b[1;34m\u001b[0m\n\u001b[1;32m----> 1\u001b[1;33m \u001b[1;32mfor\u001b[0m \u001b[0mj\u001b[0m \u001b[1;32min\u001b[0m \u001b[1;36m2\u001b[0m\u001b[1;33m:\u001b[0m\u001b[1;33m\u001b[0m\u001b[1;33m\u001b[0m\u001b[0m\n\u001b[0m\u001b[0;32m      2\u001b[0m     \u001b[0mprint\u001b[0m\u001b[1;33m(\u001b[0m\u001b[0mj\u001b[0m\u001b[1;33m)\u001b[0m\u001b[1;33m\u001b[0m\u001b[1;33m\u001b[0m\u001b[0m\n",
      "\u001b[1;31mTypeError\u001b[0m: 'int' object is not iterable"
     ]
    }
   ],
   "source": [
    "for j in 2:\n",
    "    print(j)"
   ]
  },
  {
   "cell_type": "code",
   "execution_count": null,
   "metadata": {},
   "outputs": [],
   "source": [
    "#all value are sets so they are iterable. "
   ]
  },
  {
   "cell_type": "code",
   "execution_count": 40,
   "metadata": {},
   "outputs": [
    {
     "ename": "TypeError",
     "evalue": "argument of type 'int' is not iterable",
     "output_type": "error",
     "traceback": [
      "\u001b[1;31m---------------------------------------------------------------------------\u001b[0m",
      "\u001b[1;31mTypeError\u001b[0m                                 Traceback (most recent call last)",
      "\u001b[1;32m<ipython-input-40-86ec19e241f6>\u001b[0m in \u001b[0;36m<module>\u001b[1;34m\u001b[0m\n\u001b[1;32m----> 1\u001b[1;33m \u001b[1;32mif\u001b[0m \u001b[1;34m\"x\"\u001b[0m \u001b[1;32min\u001b[0m \u001b[0mtest_map\u001b[0m\u001b[1;33m[\u001b[0m\u001b[1;34m\"b\"\u001b[0m\u001b[1;33m]\u001b[0m\u001b[1;33m:\u001b[0m\u001b[1;33m\u001b[0m\u001b[1;33m\u001b[0m\u001b[0m\n\u001b[0m\u001b[0;32m      2\u001b[0m     \u001b[0mprint\u001b[0m\u001b[1;33m(\u001b[0m\u001b[1;34m\"done\"\u001b[0m\u001b[1;33m)\u001b[0m\u001b[1;33m\u001b[0m\u001b[1;33m\u001b[0m\u001b[0m\n\u001b[0;32m      3\u001b[0m \u001b[1;33m\u001b[0m\u001b[0m\n",
      "\u001b[1;31mTypeError\u001b[0m: argument of type 'int' is not iterable"
     ]
    }
   ],
   "source": [
    "if \"x\" in test_map[\"b\"]:\n",
    "    print(\"done\")\n",
    "    "
   ]
  },
  {
   "cell_type": "code",
   "execution_count": 41,
   "metadata": {},
   "outputs": [
    {
     "ename": "TypeError",
     "evalue": "argument of type 'int' is not iterable",
     "output_type": "error",
     "traceback": [
      "\u001b[1;31m---------------------------------------------------------------------------\u001b[0m",
      "\u001b[1;31mTypeError\u001b[0m                                 Traceback (most recent call last)",
      "\u001b[1;32m<ipython-input-41-254099769f0f>\u001b[0m in \u001b[0;36m<module>\u001b[1;34m\u001b[0m\n\u001b[1;32m----> 1\u001b[1;33m \u001b[1;36m3\u001b[0m \u001b[1;32min\u001b[0m \u001b[1;36m2\u001b[0m\u001b[1;33m\u001b[0m\u001b[1;33m\u001b[0m\u001b[0m\n\u001b[0m",
      "\u001b[1;31mTypeError\u001b[0m: argument of type 'int' is not iterable"
     ]
    }
   ],
   "source": [
    "3 in 2 #error message because no NO ITERABLE because no list, or no tuple, or set or dictionary, just one int."
   ]
  },
  {
   "cell_type": "code",
   "execution_count": 42,
   "metadata": {},
   "outputs": [
    {
     "data": {
      "text/plain": [
       "True"
      ]
     },
     "execution_count": 42,
     "metadata": {},
     "output_type": "execute_result"
    }
   ],
   "source": [
    "3 in [1,3,4] #list "
   ]
  },
  {
   "cell_type": "code",
   "execution_count": 45,
   "metadata": {},
   "outputs": [
    {
     "data": {
      "text/plain": [
       "True"
      ]
     },
     "execution_count": 45,
     "metadata": {},
     "output_type": "execute_result"
    }
   ],
   "source": [
    "3 in (1, 3, 4) #list so it works for tuple "
   ]
  },
  {
   "cell_type": "markdown",
   "metadata": {
    "tags": []
   },
   "source": [
    "#### Write your solution here and then run the cell (Markdown)\n",
    "Explaining function:\n",
    "\n",
    "Line 1: Defining the function update_network with three parameters: gene1, gene2, and network. \n",
    "\n",
    "Line 2: Beginning an if statement saying if your variable gene1 is in the network. \n",
    "\n",
    "Line 3: Another if statement saying if gene2 is in the value set for the gene1 key in the dictionary. \n",
    "\n",
    "Line 4: Then print in this order the variable gene1, the string arrow, variable gene2, and finally the string \"link already here.\"\n",
    "\n",
    "line 5: The else part for the nested if statement or most recent if statement. \n",
    "\n",
    "Line 6: Take the value set of the gene1 key and add the value for gene2 to the value set. \n",
    "\n",
    "Line 7: Then print the in this order \"Added \", gene1, \"->\", gene2, \"link.\"\n",
    "\n",
    "Line 8: The else part of the first if statement in the function. \n",
    "\n",
    "Line 9: Take gene1 and create a key and set gene2 equal to the key's value to be added to the existing dictionary.  \n",
    "\n",
    "Line 10: Then print in this order \"Added \", gene1, \"->\", gene2, \"link.\"\n",
    "\n",
    "Line 11: Return only your parameter network. \n",
    "\n",
    "\n",
    "Code in second cell:\n",
    "\n",
    "Line 1: Setting your nested dictionary equal to the variable test_network. \n",
    "\n",
    "Line 2: Setting a new variable called ntw_edges equal to a list of tuples of string values. \n",
    "\n",
    "Line 3: Beginning of a for loop where your variable link is iterated through your list of tuples called ntw_edges. \n",
    "\n",
    "Line 4: Have your two parameters in your function gene1 and gene2 equal to your variable link which is iterated through your list of tuples. \n",
    "\n",
    "Line 5: Call your function update_network and give it your three parameters: gene1, gene2, and test_network. \n",
    "\n",
    "Line 6: Return your test_network with the added string value for the value set for the key \"Ihh\" as well as the new key and value set for \"Ext1\" and \"Ihh\". \n",
    "\n",
    "\n",
    "\n",
    "\n",
    "\n",
    "\n",
    "\n",
    "\n",
    "\n",
    "____ double click here to edit the cell _____"
   ]
  },
  {
   "cell_type": "code",
   "execution_count": null,
   "metadata": {},
   "outputs": [],
   "source": [
    "# np.seed() use any number you like to use as a starting point "
   ]
  },
  {
   "cell_type": "code",
   "execution_count": null,
   "metadata": {},
   "outputs": [],
   "source": [
    "# np.random.random()"
   ]
  },
  {
   "cell_type": "code",
   "execution_count": null,
   "metadata": {},
   "outputs": [],
   "source": [
    "# np.random.randn()"
   ]
  },
  {
   "cell_type": "code",
   "execution_count": null,
   "metadata": {},
   "outputs": [],
   "source": []
  },
  {
   "cell_type": "code",
   "execution_count": null,
   "metadata": {},
   "outputs": [],
   "source": []
  },
  {
   "cell_type": "code",
   "execution_count": null,
   "metadata": {},
   "outputs": [],
   "source": []
  },
  {
   "cell_type": "markdown",
   "metadata": {},
   "source": [
    "_______\n",
    "_______"
   ]
  }
 ],
 "metadata": {
  "kernelspec": {
   "display_name": "Python 3",
   "language": "python",
   "name": "python3"
  },
  "language_info": {
   "codemirror_mode": {
    "name": "ipython",
    "version": 3
   },
   "file_extension": ".py",
   "mimetype": "text/x-python",
   "name": "python",
   "nbconvert_exporter": "python",
   "pygments_lexer": "ipython3",
   "version": "3.8.8"
  }
 },
 "nbformat": 4,
 "nbformat_minor": 4
}
